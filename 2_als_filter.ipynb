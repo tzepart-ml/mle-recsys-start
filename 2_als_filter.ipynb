{
 "cells": [
  {
   "cell_type": "code",
   "id": "initial_id",
   "metadata": {
    "collapsed": true,
    "ExecuteTime": {
     "end_time": "2024-10-23T15:20:28.733539Z",
     "start_time": "2024-10-23T15:20:28.730358Z"
    }
   },
   "source": [
    "import sys\n",
    "import pandas as pd\n",
    "import scipy\n",
    "import sklearn.preprocessing\n",
    "import numpy as np"
   ],
   "outputs": [],
   "execution_count": 77
  },
  {
   "metadata": {
    "ExecuteTime": {
     "end_time": "2024-10-23T15:20:34.576684Z",
     "start_time": "2024-10-23T15:20:28.885244Z"
    }
   },
   "cell_type": "code",
   "source": [
    "events = pd.read_parquet(\"./data/events.parquet\")\n",
    "items = pd.read_parquet(\"./data/items.parquet\")"
   ],
   "id": "c23bb71617812f18",
   "outputs": [],
   "execution_count": 78
  },
  {
   "metadata": {},
   "cell_type": "markdown",
   "source": "### Коллаборативная фильтрация: ALS",
   "id": "3459f99a5b62102f"
  },
  {
   "metadata": {
    "ExecuteTime": {
     "end_time": "2024-10-23T15:20:35.259027Z",
     "start_time": "2024-10-23T15:20:34.578196Z"
    }
   },
   "cell_type": "code",
   "source": [
    "# зададим точку разбиения\n",
    "train_test_global_time_split_date = pd.to_datetime(\"2017-08-01\").date()\n",
    "train_test_global_time_split_idx = events[\"started_at\"] < train_test_global_time_split_date\n",
    "events_train = events[train_test_global_time_split_idx]\n",
    "events_test = events[~train_test_global_time_split_idx]"
   ],
   "id": "8c88209a5423e53f",
   "outputs": [],
   "execution_count": 79
  },
  {
   "metadata": {
    "ExecuteTime": {
     "end_time": "2024-10-23T15:20:37.914018Z",
     "start_time": "2024-10-23T15:20:35.259726Z"
    }
   },
   "cell_type": "code",
   "source": [
    "# перекодируем идентификаторы пользователей:\n",
    "# из имеющихся в последовательность 0, 1, 2, ...\n",
    "user_encoder = sklearn.preprocessing.LabelEncoder()\n",
    "user_encoder.fit(events[\"user_id\"])\n",
    "events_train[\"user_id_enc\"] = user_encoder.transform(events_train[\"user_id\"])\n",
    "events_test[\"user_id_enc\"] = user_encoder.transform(events_test[\"user_id\"])\n",
    "\n",
    "# перекодируем идентификаторы объектов:\n",
    "# из имеющихся в последовательность 0, 1, 2, ...\n",
    "item_encoder = sklearn.preprocessing.LabelEncoder()\n",
    "item_encoder.fit(items[\"item_id\"])\n",
    "items[\"item_id_enc\"] = item_encoder.transform(items[\"item_id\"])\n",
    "events_train[\"item_id_enc\"] = item_encoder.transform(events_train[\"item_id\"])\n",
    "events_test[\"item_id_enc\"] = item_encoder.transform(events_test[\"item_id\"])"
   ],
   "id": "310dee2cdacc549c",
   "outputs": [
    {
     "name": "stderr",
     "output_type": "stream",
     "text": [
      "/var/folders/bx/8n6_vdf94z7gqkmk97lf4mnh0000gn/T/ipykernel_76659/3198522641.py:5: SettingWithCopyWarning: \n",
      "A value is trying to be set on a copy of a slice from a DataFrame.\n",
      "Try using .loc[row_indexer,col_indexer] = value instead\n",
      "\n",
      "See the caveats in the documentation: https://pandas.pydata.org/pandas-docs/stable/user_guide/indexing.html#returning-a-view-versus-a-copy\n",
      "  events_train[\"user_id_enc\"] = user_encoder.transform(events_train[\"user_id\"])\n",
      "/var/folders/bx/8n6_vdf94z7gqkmk97lf4mnh0000gn/T/ipykernel_76659/3198522641.py:6: SettingWithCopyWarning: \n",
      "A value is trying to be set on a copy of a slice from a DataFrame.\n",
      "Try using .loc[row_indexer,col_indexer] = value instead\n",
      "\n",
      "See the caveats in the documentation: https://pandas.pydata.org/pandas-docs/stable/user_guide/indexing.html#returning-a-view-versus-a-copy\n",
      "  events_test[\"user_id_enc\"] = user_encoder.transform(events_test[\"user_id\"])\n",
      "/var/folders/bx/8n6_vdf94z7gqkmk97lf4mnh0000gn/T/ipykernel_76659/3198522641.py:13: SettingWithCopyWarning: \n",
      "A value is trying to be set on a copy of a slice from a DataFrame.\n",
      "Try using .loc[row_indexer,col_indexer] = value instead\n",
      "\n",
      "See the caveats in the documentation: https://pandas.pydata.org/pandas-docs/stable/user_guide/indexing.html#returning-a-view-versus-a-copy\n",
      "  events_train[\"item_id_enc\"] = item_encoder.transform(events_train[\"item_id\"])\n",
      "/var/folders/bx/8n6_vdf94z7gqkmk97lf4mnh0000gn/T/ipykernel_76659/3198522641.py:14: SettingWithCopyWarning: \n",
      "A value is trying to be set on a copy of a slice from a DataFrame.\n",
      "Try using .loc[row_indexer,col_indexer] = value instead\n",
      "\n",
      "See the caveats in the documentation: https://pandas.pydata.org/pandas-docs/stable/user_guide/indexing.html#returning-a-view-versus-a-copy\n",
      "  events_test[\"item_id_enc\"] = item_encoder.transform(events_test[\"item_id\"])\n"
     ]
    }
   ],
   "execution_count": 80
  },
  {
   "metadata": {
    "ExecuteTime": {
     "end_time": "2024-10-23T15:20:37.928880Z",
     "start_time": "2024-10-23T15:20:37.915378Z"
    }
   },
   "cell_type": "code",
   "source": "print(events_train[\"item_id_enc\"].max())",
   "id": "65f71fbd17dfe19d",
   "outputs": [
    {
     "name": "stdout",
     "output_type": "stream",
     "text": [
      "43304\n"
     ]
    }
   ],
   "execution_count": 81
  },
  {
   "metadata": {},
   "cell_type": "markdown",
   "source": "Вычислите размер матрицы user_item_matrix_train, как если бы она хранила все свои элементы, включая пропуски, и для каждого элемента использовался бы один байт. Ответ приведите в виде целого числа гигабайтов, отбросив дробную часть.",
   "id": "2f20ec6953da4abc"
  },
  {
   "metadata": {
    "ExecuteTime": {
     "end_time": "2024-10-23T15:20:37.989932Z",
     "start_time": "2024-10-23T15:20:37.929412Z"
    }
   },
   "cell_type": "code",
   "source": [
    "# Получаем количество уникальных пользователей и объектов\n",
    "num_users = events_train[\"user_id_enc\"].nunique()\n",
    "num_items = events_train[\"item_id_enc\"].nunique()\n",
    "\n",
    "# Вычисляем размер матрицы в байтах (1 байт на элемент)\n",
    "matrix_size_bytes = num_users * num_items\n",
    "\n",
    "# Переводим размер в гигабайты\n",
    "matrix_size_gb = matrix_size_bytes / (1024 ** 3)\n",
    "\n",
    "# Отбрасываем дробную часть и выводим целое число\n",
    "matrix_size_gb_int = int(matrix_size_gb)"
   ],
   "id": "34f6137bd404c788",
   "outputs": [],
   "execution_count": 82
  },
  {
   "metadata": {
    "ExecuteTime": {
     "end_time": "2024-10-23T15:20:37.992112Z",
     "start_time": "2024-10-23T15:20:37.990520Z"
    }
   },
   "cell_type": "code",
   "source": "print(matrix_size_gb_int)",
   "id": "1bb8209de2f0d8a0",
   "outputs": [
    {
     "name": "stdout",
     "output_type": "stream",
     "text": [
      "16\n"
     ]
    }
   ],
   "execution_count": 83
  },
  {
   "metadata": {},
   "cell_type": "markdown",
   "source": "Мы создадим sparse-матрицу в формате CSR. Такая матрица хранит только имеющиеся значения и не резервирует память под пропуски. Это помогает значительно сэкономить оперативную память при работе с разреженными матрицами.",
   "id": "85108e66347d2272"
  },
  {
   "metadata": {
    "ExecuteTime": {
     "end_time": "2024-10-23T15:20:38.356465Z",
     "start_time": "2024-10-23T15:20:37.992680Z"
    }
   },
   "cell_type": "code",
   "source": [
    "# создаём sparse-матрицу формата CSR \n",
    "user_item_matrix_train = scipy.sparse.csr_matrix((\n",
    "    events_train[\"rating\"],\n",
    "    (events_train['user_id_enc'], events_train['item_id_enc'])),\n",
    "    dtype=np.int8)"
   ],
   "id": "c3beccf0fc69cbed",
   "outputs": [],
   "execution_count": 84
  },
  {
   "metadata": {
    "ExecuteTime": {
     "end_time": "2024-10-23T15:20:39.395801Z",
     "start_time": "2024-10-23T15:20:38.357100Z"
    }
   },
   "cell_type": "code",
   "source": "matrix_size_gb_2 = sum([sys.getsizeof(i) for i in user_item_matrix_train.data]) / 1024 ** 3",
   "id": "46d2198792008d5c",
   "outputs": [],
   "execution_count": 85
  },
  {
   "metadata": {
    "ExecuteTime": {
     "end_time": "2024-10-23T15:20:39.398295Z",
     "start_time": "2024-10-23T15:20:39.396672Z"
    }
   },
   "cell_type": "code",
   "source": "print(matrix_size_gb_2)",
   "id": "f8001c4bf581f5a1",
   "outputs": [
    {
     "name": "stdout",
     "output_type": "stream",
     "text": [
      "0.26370687410235405\n"
     ]
    }
   ],
   "execution_count": 86
  },
  {
   "metadata": {
    "ExecuteTime": {
     "end_time": "2024-10-23T15:20:43.396679Z",
     "start_time": "2024-10-23T15:20:39.400119Z"
    }
   },
   "cell_type": "code",
   "source": [
    "from scipy import sparse\n",
    "\n",
    "sparse.save_npz(\"./data/user_item_matrix_train.npz\", user_item_matrix_train)"
   ],
   "id": "a15a605b48a1db26",
   "outputs": [],
   "execution_count": 87
  },
  {
   "metadata": {},
   "cell_type": "markdown",
   "source": [
    "Имея подготовленную матрицу взаимодействий, перейдём к третьему шагу — создадим ALS-модель. Для примера возьмём количество латентных факторов для матриц $P, Q$, равным 50. \n",
    "Выполните код для создания и тренировки модели."
   ],
   "id": "abd88afd1c7dfd77"
  },
  {
   "metadata": {
    "ExecuteTime": {
     "end_time": "2024-10-23T15:28:25.794784Z",
     "start_time": "2024-10-23T15:20:43.397296Z"
    }
   },
   "cell_type": "code",
   "source": [
    "from implicit.als import AlternatingLeastSquares\n",
    "\n",
    "als_model = AlternatingLeastSquares(factors=50, iterations=50, regularization=0.05, random_state=0)\n",
    "als_model.fit(user_item_matrix_train)"
   ],
   "id": "34303f6f8b5d6ffd",
   "outputs": [
    {
     "data": {
      "text/plain": [
       "  0%|          | 0/50 [00:00<?, ?it/s]"
      ],
      "application/vnd.jupyter.widget-view+json": {
       "version_major": 2,
       "version_minor": 0,
       "model_id": "44ca689f602c40fbb6eedcb617a5bf74"
      }
     },
     "metadata": {},
     "output_type": "display_data"
    }
   ],
   "execution_count": 88
  },
  {
   "metadata": {},
   "cell_type": "markdown",
   "source": "Чтобы получить рекомендации для пользователя с помощью модели ALS, используем такую функцию:",
   "id": "783c60546364e726"
  },
  {
   "metadata": {
    "ExecuteTime": {
     "end_time": "2024-10-23T15:28:25.803799Z",
     "start_time": "2024-10-23T15:28:25.796932Z"
    }
   },
   "cell_type": "code",
   "source": [
    "def get_recommendations_als(user_item_matrix, model, user_id, user_encoder, item_encoder, include_seen=True, n=5):\n",
    "    \"\"\"\n",
    "    Возвращает отранжированные рекомендации для заданного пользователя\n",
    "    \"\"\"\n",
    "    user_id_enc = user_encoder.transform([user_id])[0]\n",
    "    recommendations = model.recommend(\n",
    "        user_id_enc,\n",
    "        user_item_matrix[user_id_enc],\n",
    "        filter_already_liked_items=not include_seen,\n",
    "        N=n)\n",
    "    recommendations = pd.DataFrame({\"item_id_enc\": recommendations[0], \"score\": recommendations[1]})\n",
    "    recommendations[\"item_id\"] = item_encoder.inverse_transform(recommendations[\"item_id_enc\"])\n",
    "\n",
    "    return recommendations"
   ],
   "id": "104a0e006eefd5ac",
   "outputs": [],
   "execution_count": 89
  },
  {
   "metadata": {},
   "cell_type": "markdown",
   "source": "Получим рекомендации для всех имеющихся пользователей. Выполните код ниже.",
   "id": "8df4c1edf471ead2"
  },
  {
   "metadata": {
    "ExecuteTime": {
     "end_time": "2024-10-23T15:29:10.526092Z",
     "start_time": "2024-10-23T15:28:25.805365Z"
    }
   },
   "cell_type": "code",
   "source": [
    "# получаем список всех возможных user_id (перекодированных)\n",
    "user_ids_encoded = range(len(user_encoder.classes_))\n",
    "\n",
    "# получаем рекомендации для всех пользователей\n",
    "als_recommendations = als_model.recommend(\n",
    "    user_ids_encoded,\n",
    "    user_item_matrix_train[user_ids_encoded],\n",
    "    filter_already_liked_items=False, N=100)"
   ],
   "id": "ba3fb7d96058ba51",
   "outputs": [],
   "execution_count": 90
  },
  {
   "metadata": {},
   "cell_type": "markdown",
   "source": "Код возвращает рекомендации как список списков, это не очень удобно. Преобразуем его в более удобный формат — табличный.",
   "id": "3b69f61cea27bcba"
  },
  {
   "metadata": {
    "ExecuteTime": {
     "end_time": "2024-10-23T15:29:22.626735Z",
     "start_time": "2024-10-23T15:29:10.528248Z"
    }
   },
   "cell_type": "code",
   "source": [
    "# преобразуем полученные рекомендации в табличный формат\n",
    "item_ids_enc = als_recommendations[0]\n",
    "als_scores = als_recommendations[1]\n",
    "\n",
    "als_recommendations = pd.DataFrame({\n",
    "    \"user_id_enc\": user_ids_encoded,\n",
    "    \"item_id_enc\": item_ids_enc.tolist(),\n",
    "    \"score\": als_scores.tolist()})\n",
    "als_recommendations = als_recommendations.explode([\"item_id_enc\", \"score\"], ignore_index=True)\n",
    "\n",
    "# приводим типы данных\n",
    "als_recommendations[\"item_id_enc\"] = als_recommendations[\"item_id_enc\"].astype(\"int\")\n",
    "als_recommendations[\"score\"] = als_recommendations[\"score\"].astype(\"float\")\n",
    "\n",
    "# получаем изначальные идентификаторы\n",
    "als_recommendations[\"user_id\"] = user_encoder.inverse_transform(als_recommendations[\"user_id_enc\"])\n",
    "als_recommendations[\"item_id\"] = item_encoder.inverse_transform(als_recommendations[\"item_id_enc\"])\n",
    "als_recommendations = als_recommendations.drop(columns=[\"user_id_enc\", \"item_id_enc\"])"
   ],
   "id": "e884977b6ee1b29d",
   "outputs": [],
   "execution_count": 91
  },
  {
   "metadata": {},
   "cell_type": "markdown",
   "source": "Сохраним полученные рекомендации в файл, они ещё нам пригодятся.",
   "id": "10c535e1dcef096a"
  },
  {
   "metadata": {
    "ExecuteTime": {
     "end_time": "2024-10-23T15:29:24.446326Z",
     "start_time": "2024-10-23T15:29:22.628132Z"
    }
   },
   "cell_type": "code",
   "source": [
    "als_recommendations = als_recommendations[[\"user_id\", \"item_id\", \"score\"]]\n",
    "als_recommendations.to_parquet(\"./data/als_recommendations.parquet\")"
   ],
   "id": "7c062f07760d6c34",
   "outputs": [],
   "execution_count": 92
  },
  {
   "metadata": {},
   "cell_type": "markdown",
   "source": [
    "Score от ALS не лежат на той же шкале, что и пользовательские оценки. Сравнивать исходные и новые оценки напрямую — некорректно. Поэтому посчитать метрики MAE, RMSE проблематично. Вместо них можно использовать метрики ранжирования. Они сравнивают не абсолютные значения рейтингов и их оценок, а соответствие порядков. Метрики ранжирования покажут, насколько порядок рекомендаций по убыванию score соответствует порядку объектов по убыванию пользовательских оценок. \n",
    "\n",
    "\n",
    "На практике часто используют метрику NDCG, она принимает значение от 0 (предлагаемый порядок никак не соответствует истинному) до 1 (предлагаемый порядок в точности соответствует истинному). "
   ],
   "id": "62d23892f2b26068"
  },
  {
   "metadata": {
    "ExecuteTime": {
     "end_time": "2024-10-23T15:29:30.290981Z",
     "start_time": "2024-10-23T15:29:24.447118Z"
    }
   },
   "cell_type": "code",
   "source": [
    "als_recommendations = (\n",
    "    als_recommendations\n",
    "    .merge(events_test[[\"user_id\", \"item_id\", \"rating\"]]\n",
    "           .rename(columns={\"rating\": \"rating_test\"}),\n",
    "           on=[\"user_id\", \"item_id\"], how=\"left\")\n",
    ")"
   ],
   "id": "b9ccbbc888d0015c",
   "outputs": [],
   "execution_count": 93
  },
  {
   "metadata": {},
   "cell_type": "markdown",
   "source": "Подсчитать метрику NDCG для одного пользователя поможет готовая реализация из scikit-learn:",
   "id": "9220c5762a3bf70c"
  },
  {
   "metadata": {
    "ExecuteTime": {
     "end_time": "2024-10-23T15:29:30.296149Z",
     "start_time": "2024-10-23T15:29:30.292789Z"
    }
   },
   "cell_type": "code",
   "source": [
    "import sklearn.metrics\n",
    "\n",
    "\n",
    "def compute_ndcg(rating: pd.Series, score: pd.Series, k):\n",
    "    \"\"\" подсчёт ndcg\n",
    "    rating: истинные оценки\n",
    "    score: оценки модели\n",
    "    k: количество айтемов (по убыванию score) для оценки, остальные - отбрасываются\n",
    "    \"\"\"\n",
    "\n",
    "    # если кол-во объектов меньше 2, то NDCG - не определена\n",
    "    if len(rating) < 2:\n",
    "        return np.nan\n",
    "\n",
    "    ndcg = sklearn.metrics.ndcg_score(np.asarray([rating.to_numpy()]), np.asarray([score.to_numpy()]), k=k)\n",
    "\n",
    "    return ndcg"
   ],
   "id": "de5412ed95536c37",
   "outputs": [],
   "execution_count": 94
  },
  {
   "metadata": {
    "ExecuteTime": {
     "end_time": "2024-10-23T15:29:33.852210Z",
     "start_time": "2024-10-23T15:29:30.296863Z"
    }
   },
   "cell_type": "code",
   "source": [
    "rating_test_idx = ~als_recommendations[\"rating_test\"].isnull()\n",
    "ndcg_at_5_scores = als_recommendations[rating_test_idx].groupby(\"user_id\").apply(\n",
    "    lambda x: compute_ndcg(x[\"rating_test\"], x[\"score\"], k=5))"
   ],
   "id": "cbfa055f0b4860b7",
   "outputs": [
    {
     "name": "stderr",
     "output_type": "stream",
     "text": [
      "/var/folders/bx/8n6_vdf94z7gqkmk97lf4mnh0000gn/T/ipykernel_76659/3704688269.py:2: DeprecationWarning: DataFrameGroupBy.apply operated on the grouping columns. This behavior is deprecated, and in a future version of pandas the grouping columns will be excluded from the operation. Either pass `include_groups=False` to exclude the groupings or explicitly select the grouping columns after groupby to silence this warning.\n",
      "  ndcg_at_5_scores = als_recommendations[rating_test_idx].groupby(\"user_id\").apply(\n"
     ]
    }
   ],
   "execution_count": 95
  },
  {
   "metadata": {
    "ExecuteTime": {
     "end_time": "2024-10-23T15:29:33.855091Z",
     "start_time": "2024-10-23T15:29:33.852845Z"
    }
   },
   "cell_type": "code",
   "source": "print(ndcg_at_5_scores.mean())",
   "id": "ecfdeaaeeb147198",
   "outputs": [
    {
     "name": "stdout",
     "output_type": "stream",
     "text": [
      "0.9759534535118616\n"
     ]
    }
   ],
   "execution_count": 96
  },
  {
   "metadata": {},
   "cell_type": "markdown",
   "source": "### Контентные рекомендации",
   "id": "530014ed57cf2491"
  },
  {
   "metadata": {},
   "cell_type": "markdown",
   "source": "преобразуем значения в genre_and_votes из текстового представления в тип в Python:",
   "id": "b75f808a679ad024"
  },
  {
   "metadata": {
    "ExecuteTime": {
     "end_time": "2024-10-23T15:29:34.451889Z",
     "start_time": "2024-10-23T15:29:33.855571Z"
    }
   },
   "cell_type": "code",
   "source": "items[\"genre_and_votes\"] = items[\"genre_and_votes\"].apply(eval)",
   "id": "d157e60137028e1a",
   "outputs": [],
   "execution_count": 97
  },
  {
   "metadata": {
    "ExecuteTime": {
     "end_time": "2024-10-23T15:29:34.455038Z",
     "start_time": "2024-10-23T15:29:34.452664Z"
    }
   },
   "cell_type": "code",
   "source": [
    "def get_genres(items):\n",
    "    \"\"\" \n",
    "    извлекает список жанров по всем книгам, \n",
    "    подсчитывает долю голосов по каждому их них\n",
    "    \"\"\"\n",
    "    genres_counter = {}\n",
    "\n",
    "    for k, v, in items.iterrows():\n",
    "        genre_and_votes = v.get('genre_and_votes')\n",
    "        if genre_and_votes is None or not isinstance(genre_and_votes, dict):\n",
    "            continue\n",
    "        for genre, votes in genre_and_votes.items():\n",
    "            # увеличиваем счётчик жанров\n",
    "            try:\n",
    "                genres_counter[genre] += votes\n",
    "            except KeyError:\n",
    "                genres_counter[genre] = 0\n",
    "\n",
    "    genres = pd.Series(genres_counter, name=\"votes\")\n",
    "    genres = genres.to_frame()\n",
    "    genres = genres.reset_index().rename(columns={\"index\": \"name\"})\n",
    "    genres.index.name = \"genre_id\"\n",
    "\n",
    "    return genres"
   ],
   "id": "600dbbb9b82c18ba",
   "outputs": [],
   "execution_count": 98
  },
  {
   "metadata": {
    "ExecuteTime": {
     "end_time": "2024-10-23T15:29:35.115803Z",
     "start_time": "2024-10-23T15:29:34.455599Z"
    }
   },
   "cell_type": "code",
   "source": "genres = get_genres(items)",
   "id": "4ea11e12f561599e",
   "outputs": [],
   "execution_count": 99
  },
  {
   "metadata": {
    "ExecuteTime": {
     "end_time": "2024-10-23T15:29:35.118525Z",
     "start_time": "2024-10-23T15:29:35.116473Z"
    }
   },
   "cell_type": "code",
   "source": "genres[\"score\"] = genres[\"votes\"] / genres[\"votes\"].sum()",
   "id": "ca397bcaff883dc3",
   "outputs": [],
   "execution_count": 100
  },
  {
   "metadata": {
    "ExecuteTime": {
     "end_time": "2024-10-23T15:29:35.122802Z",
     "start_time": "2024-10-23T15:29:35.119032Z"
    }
   },
   "cell_type": "code",
   "source": "genres.sort_values(by=\"score\", ascending=False).head(10)",
   "id": "e7bc2ba7f829606d",
   "outputs": [
    {
     "data": {
      "text/plain": [
       "                                   name    votes     score\n",
       "genre_id                                                  \n",
       "25                              Fantasy  6850060  0.149651\n",
       "1                               Fiction  6406256  0.139955\n",
       "38                             Classics  3414934  0.074605\n",
       "18                          Young Adult  3296951  0.072027\n",
       "34                              Romance  2422614  0.052926\n",
       "5                            Nonfiction  1737406  0.037957\n",
       "16        Historical-Historical Fiction  1531205  0.033452\n",
       "20                              Mystery  1371196  0.029956\n",
       "24                      Science Fiction  1218917  0.026629\n",
       "33                   Fantasy-Paranormal   857012  0.018723"
      ],
      "text/html": [
       "<div>\n",
       "<style scoped>\n",
       "    .dataframe tbody tr th:only-of-type {\n",
       "        vertical-align: middle;\n",
       "    }\n",
       "\n",
       "    .dataframe tbody tr th {\n",
       "        vertical-align: top;\n",
       "    }\n",
       "\n",
       "    .dataframe thead th {\n",
       "        text-align: right;\n",
       "    }\n",
       "</style>\n",
       "<table border=\"1\" class=\"dataframe\">\n",
       "  <thead>\n",
       "    <tr style=\"text-align: right;\">\n",
       "      <th></th>\n",
       "      <th>name</th>\n",
       "      <th>votes</th>\n",
       "      <th>score</th>\n",
       "    </tr>\n",
       "    <tr>\n",
       "      <th>genre_id</th>\n",
       "      <th></th>\n",
       "      <th></th>\n",
       "      <th></th>\n",
       "    </tr>\n",
       "  </thead>\n",
       "  <tbody>\n",
       "    <tr>\n",
       "      <th>25</th>\n",
       "      <td>Fantasy</td>\n",
       "      <td>6850060</td>\n",
       "      <td>0.149651</td>\n",
       "    </tr>\n",
       "    <tr>\n",
       "      <th>1</th>\n",
       "      <td>Fiction</td>\n",
       "      <td>6406256</td>\n",
       "      <td>0.139955</td>\n",
       "    </tr>\n",
       "    <tr>\n",
       "      <th>38</th>\n",
       "      <td>Classics</td>\n",
       "      <td>3414934</td>\n",
       "      <td>0.074605</td>\n",
       "    </tr>\n",
       "    <tr>\n",
       "      <th>18</th>\n",
       "      <td>Young Adult</td>\n",
       "      <td>3296951</td>\n",
       "      <td>0.072027</td>\n",
       "    </tr>\n",
       "    <tr>\n",
       "      <th>34</th>\n",
       "      <td>Romance</td>\n",
       "      <td>2422614</td>\n",
       "      <td>0.052926</td>\n",
       "    </tr>\n",
       "    <tr>\n",
       "      <th>5</th>\n",
       "      <td>Nonfiction</td>\n",
       "      <td>1737406</td>\n",
       "      <td>0.037957</td>\n",
       "    </tr>\n",
       "    <tr>\n",
       "      <th>16</th>\n",
       "      <td>Historical-Historical Fiction</td>\n",
       "      <td>1531205</td>\n",
       "      <td>0.033452</td>\n",
       "    </tr>\n",
       "    <tr>\n",
       "      <th>20</th>\n",
       "      <td>Mystery</td>\n",
       "      <td>1371196</td>\n",
       "      <td>0.029956</td>\n",
       "    </tr>\n",
       "    <tr>\n",
       "      <th>24</th>\n",
       "      <td>Science Fiction</td>\n",
       "      <td>1218917</td>\n",
       "      <td>0.026629</td>\n",
       "    </tr>\n",
       "    <tr>\n",
       "      <th>33</th>\n",
       "      <td>Fantasy-Paranormal</td>\n",
       "      <td>857012</td>\n",
       "      <td>0.018723</td>\n",
       "    </tr>\n",
       "  </tbody>\n",
       "</table>\n",
       "</div>"
      ]
     },
     "execution_count": 101,
     "metadata": {},
     "output_type": "execute_result"
    }
   ],
   "execution_count": 101
  },
  {
   "metadata": {
    "ExecuteTime": {
     "end_time": "2024-10-23T15:29:35.125904Z",
     "start_time": "2024-10-23T15:29:35.123464Z"
    }
   },
   "cell_type": "code",
   "source": [
    "# Функция в коде ниже строит матрицу вида «книга-жанр».\n",
    "def get_item2genre_matrix(genres, items):\n",
    "    genre_names_to_id = genres.reset_index().set_index(\"name\")[\"genre_id\"].to_dict()\n",
    "\n",
    "    # list to build CSR matrix\n",
    "    genres_csr_data = []\n",
    "    genres_csr_row_idx = []\n",
    "    genres_csr_col_idx = []\n",
    "\n",
    "    for item_idx, (k, v) in enumerate(items.iterrows()):\n",
    "        if v[\"genre_and_votes\"] is None:\n",
    "            continue\n",
    "        for genre_name, votes in v[\"genre_and_votes\"].items():\n",
    "            genre_idx = genre_names_to_id[genre_name]\n",
    "            genres_csr_data.append(int(votes))\n",
    "            genres_csr_row_idx.append(item_idx)\n",
    "            genres_csr_col_idx.append(genre_idx)\n",
    "\n",
    "    genres_csr = scipy.sparse.csr_matrix((genres_csr_data, (genres_csr_row_idx, genres_csr_col_idx)),\n",
    "                                         shape=(len(items), len(genres)))\n",
    "    # нормализуем, чтобы сумма оценок принадлежности к жанру была равна 1\n",
    "    genres_csr = sklearn.preprocessing.normalize(genres_csr, norm='l1', axis=1)\n",
    "\n",
    "    return genres_csr"
   ],
   "id": "1df057bebd178541",
   "outputs": [],
   "execution_count": 102
  },
  {
   "metadata": {
    "ExecuteTime": {
     "end_time": "2024-10-23T15:29:35.764698Z",
     "start_time": "2024-10-23T15:29:35.126441Z"
    }
   },
   "cell_type": "code",
   "source": [
    "items = items.sort_values(by=\"item_id_enc\")\n",
    "all_items_genres_csr = get_item2genre_matrix(genres, items)"
   ],
   "id": "4876a163b6550765",
   "outputs": [],
   "execution_count": 103
  },
  {
   "metadata": {},
   "cell_type": "markdown",
   "source": "Аналогичным образом получим матрицу с весами по жанрам для какого-нибудь пользователя, например, для пользователя с идентификатором 1000010. ",
   "id": "e5cf0782e9a12c1a"
  },
  {
   "metadata": {
    "ExecuteTime": {
     "end_time": "2024-10-23T15:29:35.846163Z",
     "start_time": "2024-10-23T15:29:35.765894Z"
    }
   },
   "cell_type": "code",
   "source": [
    "user_id = 1000010\n",
    "user_events = events_train.query(\"user_id == @user_id\")[[\"item_id\", \"rating\"]]\n",
    "user_items = items[items[\"item_id\"].isin(user_events[\"item_id\"])]\n",
    "\n",
    "user_items_genres_csr = get_item2genre_matrix(genres, user_items)"
   ],
   "id": "367bfbc8e54dbc8c",
   "outputs": [],
   "execution_count": 104
  },
  {
   "metadata": {},
   "cell_type": "markdown",
   "source": "Сколько получилось существующих элементов в user_items_genres_csr для выбранного пользователя",
   "id": "26f3cc701e540e26"
  },
  {
   "metadata": {
    "ExecuteTime": {
     "end_time": "2024-10-23T15:29:35.851730Z",
     "start_time": "2024-10-23T15:29:35.849893Z"
    }
   },
   "cell_type": "code",
   "source": "print(user_items_genres_csr.nnz)",
   "id": "5a8c26010451aa3c",
   "outputs": [
    {
     "name": "stdout",
     "output_type": "stream",
     "text": [
      "149\n"
     ]
    }
   ],
   "execution_count": 105
  },
  {
   "metadata": {
    "ExecuteTime": {
     "end_time": "2024-10-23T15:29:35.856027Z",
     "start_time": "2024-10-23T15:29:35.852526Z"
    }
   },
   "cell_type": "code",
   "source": [
    "# вычислим склонность пользователя к жанрам как среднее взвешенное значение популяции на его оценки книг.\n",
    "\n",
    "# преобразуем пользовательские оценки из списка в вектор-столбец\n",
    "user_ratings = user_events[\"rating\"].to_numpy() / 5\n",
    "user_ratings = np.expand_dims(user_ratings, axis=1)\n",
    "\n",
    "user_items_genres_weighted = user_items_genres_csr.multiply(user_ratings)\n",
    "\n",
    "user_genres_scores = np.asarray(user_items_genres_weighted.mean(axis=0))"
   ],
   "id": "b31a578df5ff4a4",
   "outputs": [],
   "execution_count": 106
  },
  {
   "metadata": {
    "ExecuteTime": {
     "end_time": "2024-10-23T15:29:35.860731Z",
     "start_time": "2024-10-23T15:29:35.856613Z"
    }
   },
   "cell_type": "code",
   "source": [
    "# выведем список жанров, которые предпочитает пользователь\n",
    "\n",
    "user_genres = genres.copy()\n",
    "user_genres[\"score\"] = np.ravel(user_genres_scores)\n",
    "user_genres = user_genres[user_genres[\"score\"] > 0].sort_values(by=[\"score\"], ascending=False)\n",
    "\n",
    "user_genres.head(5)"
   ],
   "id": "554009eac92ef64a",
   "outputs": [
    {
     "data": {
      "text/plain": [
       "                     name    votes     score\n",
       "genre_id                                    \n",
       "1                 Fiction  6406256  0.185241\n",
       "38               Classics  3414934  0.103879\n",
       "25                Fantasy  6850060  0.072447\n",
       "5              Nonfiction  1737406  0.050865\n",
       "24        Science Fiction  1218917  0.040920"
      ],
      "text/html": [
       "<div>\n",
       "<style scoped>\n",
       "    .dataframe tbody tr th:only-of-type {\n",
       "        vertical-align: middle;\n",
       "    }\n",
       "\n",
       "    .dataframe tbody tr th {\n",
       "        vertical-align: top;\n",
       "    }\n",
       "\n",
       "    .dataframe thead th {\n",
       "        text-align: right;\n",
       "    }\n",
       "</style>\n",
       "<table border=\"1\" class=\"dataframe\">\n",
       "  <thead>\n",
       "    <tr style=\"text-align: right;\">\n",
       "      <th></th>\n",
       "      <th>name</th>\n",
       "      <th>votes</th>\n",
       "      <th>score</th>\n",
       "    </tr>\n",
       "    <tr>\n",
       "      <th>genre_id</th>\n",
       "      <th></th>\n",
       "      <th></th>\n",
       "      <th></th>\n",
       "    </tr>\n",
       "  </thead>\n",
       "  <tbody>\n",
       "    <tr>\n",
       "      <th>1</th>\n",
       "      <td>Fiction</td>\n",
       "      <td>6406256</td>\n",
       "      <td>0.185241</td>\n",
       "    </tr>\n",
       "    <tr>\n",
       "      <th>38</th>\n",
       "      <td>Classics</td>\n",
       "      <td>3414934</td>\n",
       "      <td>0.103879</td>\n",
       "    </tr>\n",
       "    <tr>\n",
       "      <th>25</th>\n",
       "      <td>Fantasy</td>\n",
       "      <td>6850060</td>\n",
       "      <td>0.072447</td>\n",
       "    </tr>\n",
       "    <tr>\n",
       "      <th>5</th>\n",
       "      <td>Nonfiction</td>\n",
       "      <td>1737406</td>\n",
       "      <td>0.050865</td>\n",
       "    </tr>\n",
       "    <tr>\n",
       "      <th>24</th>\n",
       "      <td>Science Fiction</td>\n",
       "      <td>1218917</td>\n",
       "      <td>0.040920</td>\n",
       "    </tr>\n",
       "  </tbody>\n",
       "</table>\n",
       "</div>"
      ]
     },
     "execution_count": 107,
     "metadata": {},
     "output_type": "execute_result"
    }
   ],
   "execution_count": 107
  },
  {
   "metadata": {},
   "cell_type": "markdown",
   "source": "Получите наиболее релевантные рекомендации для пользователя. Дополните код так, чтобы переменная top_k_indices заполнялась индексами соответствующих книг. Для этого удобно использовать np.argsort от similarity_scores, подсчитанной для всех книг.",
   "id": "83040ea00edb6b62"
  },
  {
   "metadata": {
    "ExecuteTime": {
     "end_time": "2024-10-23T15:29:35.869813Z",
     "start_time": "2024-10-23T15:29:35.861290Z"
    }
   },
   "cell_type": "code",
   "source": [
    "from sklearn.metrics.pairwise import cosine_similarity\n",
    "\n",
    "# вычисляем сходство между вектором пользователя и векторами по книгам\n",
    "similarity_scores = cosine_similarity(all_items_genres_csr, user_genres_scores)\n",
    "\n",
    "# преобразуем в одномерный массив\n",
    "similarity_scores = similarity_scores.flatten()\n",
    "\n",
    "# получаем индексы top-k (по убыванию значений), по сути, индексы книг (encoded)\n",
    "k = 5\n",
    "top_k_indices = np.argsort(similarity_scores)[::-1][:k]"
   ],
   "id": "631398f43ebec47f",
   "outputs": [],
   "execution_count": 108
  },
  {
   "metadata": {
    "ExecuteTime": {
     "end_time": "2024-10-23T15:29:35.873033Z",
     "start_time": "2024-10-23T15:29:35.870977Z"
    }
   },
   "cell_type": "code",
   "source": "print(top_k_indices)",
   "id": "d095a09555cb851a",
   "outputs": [
    {
     "name": "stdout",
     "output_type": "stream",
     "text": [
      "[ 4471 36093 14087  9476  4460]\n"
     ]
    }
   ],
   "execution_count": 109
  },
  {
   "metadata": {},
   "cell_type": "markdown",
   "source": "После вычисления top_k_indices по полученным индексам извлеките список объектов, которые могут быть интересны пользователю",
   "id": "7f7afa8862b9bcbc"
  },
  {
   "metadata": {
    "ExecuteTime": {
     "end_time": "2024-10-23T15:29:35.878808Z",
     "start_time": "2024-10-23T15:29:35.873444Z"
    }
   },
   "cell_type": "code",
   "source": [
    "selected_items = items[items[\"item_id_enc\"].isin(top_k_indices)]\n",
    "\n",
    "with pd.option_context(\"max_colwidth\", 100):\n",
    "    display(selected_items[[\"author\", \"title\", \"genre_and_votes\"]])"
   ],
   "id": "885ccc8d2bc2e54a",
   "outputs": [
    {
     "data": {
      "text/plain": [
       "                                                 author  \\\n",
       "80465                                   G.K. Chesterton   \n",
       "1168335                                    Ray Bradbury   \n",
       "393210                 G.K. Chesterton, Jonathan Lethem   \n",
       "2244467                                   Samuel Butler   \n",
       "39408    Paulo Coelho, Alan R. Clarke, James Noel Smith   \n",
       "\n",
       "                                         title  \\\n",
       "80465             The Napoleon of Notting Hill   \n",
       "1168335        Dandelion Wine (Green Town, #1)   \n",
       "393210   The Man Who Was Thursday: A Nightmare   \n",
       "2244467                 Erewhon (Erewhon , #1)   \n",
       "39408                            The Alchemist   \n",
       "\n",
       "                                                                                             genre_and_votes  \n",
       "80465                         {'Fiction': 166, 'Classics': 88, 'Fantasy': 44, 'Humor': 22, 'Literature': 20}  \n",
       "1168335       {'Fiction': 1438, 'Classics': 914, 'Science Fiction': 529, 'Fantasy': 456, 'Young Adult': 212}  \n",
       "393210   {'Fiction': 1257, 'Classics': 929, 'Mystery': 469, 'Fantasy': 293, 'Philosophy': 156, 'Literatur...  \n",
       "2244467                              {'Fiction': 162, 'Classics': 139, 'Science Fiction': 60, 'Fantasy': 55}  \n",
       "39408                              {'Fiction': 14023, 'Classics': 5787, 'Fantasy': 3289, 'Philosophy': 2759}  "
      ],
      "text/html": [
       "<div>\n",
       "<style scoped>\n",
       "    .dataframe tbody tr th:only-of-type {\n",
       "        vertical-align: middle;\n",
       "    }\n",
       "\n",
       "    .dataframe tbody tr th {\n",
       "        vertical-align: top;\n",
       "    }\n",
       "\n",
       "    .dataframe thead th {\n",
       "        text-align: right;\n",
       "    }\n",
       "</style>\n",
       "<table border=\"1\" class=\"dataframe\">\n",
       "  <thead>\n",
       "    <tr style=\"text-align: right;\">\n",
       "      <th></th>\n",
       "      <th>author</th>\n",
       "      <th>title</th>\n",
       "      <th>genre_and_votes</th>\n",
       "    </tr>\n",
       "  </thead>\n",
       "  <tbody>\n",
       "    <tr>\n",
       "      <th>80465</th>\n",
       "      <td>G.K. Chesterton</td>\n",
       "      <td>The Napoleon of Notting Hill</td>\n",
       "      <td>{'Fiction': 166, 'Classics': 88, 'Fantasy': 44, 'Humor': 22, 'Literature': 20}</td>\n",
       "    </tr>\n",
       "    <tr>\n",
       "      <th>1168335</th>\n",
       "      <td>Ray Bradbury</td>\n",
       "      <td>Dandelion Wine (Green Town, #1)</td>\n",
       "      <td>{'Fiction': 1438, 'Classics': 914, 'Science Fiction': 529, 'Fantasy': 456, 'Young Adult': 212}</td>\n",
       "    </tr>\n",
       "    <tr>\n",
       "      <th>393210</th>\n",
       "      <td>G.K. Chesterton, Jonathan Lethem</td>\n",
       "      <td>The Man Who Was Thursday: A Nightmare</td>\n",
       "      <td>{'Fiction': 1257, 'Classics': 929, 'Mystery': 469, 'Fantasy': 293, 'Philosophy': 156, 'Literatur...</td>\n",
       "    </tr>\n",
       "    <tr>\n",
       "      <th>2244467</th>\n",
       "      <td>Samuel Butler</td>\n",
       "      <td>Erewhon (Erewhon , #1)</td>\n",
       "      <td>{'Fiction': 162, 'Classics': 139, 'Science Fiction': 60, 'Fantasy': 55}</td>\n",
       "    </tr>\n",
       "    <tr>\n",
       "      <th>39408</th>\n",
       "      <td>Paulo Coelho, Alan R. Clarke, James Noel Smith</td>\n",
       "      <td>The Alchemist</td>\n",
       "      <td>{'Fiction': 14023, 'Classics': 5787, 'Fantasy': 3289, 'Philosophy': 2759}</td>\n",
       "    </tr>\n",
       "  </tbody>\n",
       "</table>\n",
       "</div>"
      ]
     },
     "metadata": {},
     "output_type": "display_data"
    }
   ],
   "execution_count": 110
  },
  {
   "metadata": {
    "ExecuteTime": {
     "end_time": "2024-10-23T15:29:35.880772Z",
     "start_time": "2024-10-23T15:29:35.879537Z"
    }
   },
   "cell_type": "code",
   "source": "",
   "id": "28ca3d34ab213ed6",
   "outputs": [],
   "execution_count": 110
  },
  {
   "metadata": {},
   "cell_type": "markdown",
   "source": "### Валидация",
   "id": "9a3b777b0126a038"
  },
  {
   "metadata": {},
   "cell_type": "markdown",
   "source": "Валидация рекомендательной системы — это процесс оценки, насколько эффективно и точно она предсказывает предпочтения пользователей. Валидация помогает определить, насколько хорошо система выполняет свою задачу.",
   "id": "7ab4e1f9f9cf8e5d"
  },
  {
   "metadata": {},
   "cell_type": "markdown",
   "source": [
    "Посчитаем recall и precision для ALS-рекомендаций (als_recommendations). Для этого события в тестовой выборке и рекомендации для одних и тех же пользователей разметим признаками:\n",
    "- gt (ground truth): объект есть в тестовой выборке;\n",
    "- pr (predicted): объект есть в рекомендациях.\n",
    "\n",
    "Теперь разметим признаки бинарной классификации:\n",
    "- TP: объект есть и в тестовой выборке, и в рекомендациях (истинная рекомендация),\n",
    "- FP: объекта нет в тестовой выборке, но он есть в рекомендациях (ложноположительная рекомендация),\n",
    "- FN: объект есть в тестовой выборке, но его нет в рекомендациях (ложноотрицательная рекомендация)"
   ],
   "id": "e929b258849f24ed"
  },
  {
   "metadata": {},
   "cell_type": "markdown",
   "source": "Ниже приведён код для такой разметки:",
   "id": "f0d19a445b106f9c"
  },
  {
   "metadata": {
    "ExecuteTime": {
     "end_time": "2024-10-23T15:29:35.885105Z",
     "start_time": "2024-10-23T15:29:35.881379Z"
    }
   },
   "cell_type": "code",
   "source": [
    "def process_events_recs_for_binary_metrics(events_train, events_test, recs, top_k=None):\n",
    "    \"\"\"\n",
    "    размечает пары <user_id, item_id> для общего множества пользователей признаками\n",
    "    - gt (ground truth)\n",
    "    - pr (prediction)\n",
    "    top_k: расчёт ведётся только для top k-рекомендаций\n",
    "    \"\"\"\n",
    "\n",
    "    events_test[\"gt\"] = True\n",
    "    common_users = set(events_test[\"user_id\"]) & set(recs[\"user_id\"])\n",
    "\n",
    "    print(f\"Common users: {len(common_users)}\")\n",
    "\n",
    "    events_for_common_users = events_test[events_test[\"user_id\"].isin(common_users)].copy()\n",
    "    recs_for_common_users = recs[recs[\"user_id\"].isin(common_users)].copy()\n",
    "\n",
    "    recs_for_common_users = recs_for_common_users.sort_values([\"user_id\", \"score\"], ascending=[True, False])\n",
    "\n",
    "    # оставляет только те item_id, которые были в events_train, \n",
    "    # т. к. модель не имела никакой возможности давать рекомендации для новых айтемов\n",
    "    events_for_common_users = events_for_common_users[\n",
    "        events_for_common_users[\"item_id\"].isin(events_train[\"item_id\"].unique())]\n",
    "\n",
    "    if top_k is not None:\n",
    "        recs_for_common_users = recs_for_common_users.groupby(\"user_id\").head(top_k)\n",
    "\n",
    "    events_recs_common = events_for_common_users[[\"user_id\", \"item_id\", \"gt\"]].merge(\n",
    "        recs_for_common_users[[\"user_id\", \"item_id\", \"score\"]],\n",
    "        on=[\"user_id\", \"item_id\"], how=\"outer\")\n",
    "\n",
    "    events_recs_common[\"gt\"] = events_recs_common[\"gt\"].fillna(False)\n",
    "    events_recs_common[\"pr\"] = ~events_recs_common[\"score\"].isnull()\n",
    "\n",
    "    events_recs_common[\"tp\"] = events_recs_common[\"gt\"] & events_recs_common[\"pr\"]\n",
    "    events_recs_common[\"fp\"] = ~events_recs_common[\"gt\"] & events_recs_common[\"pr\"]\n",
    "    events_recs_common[\"fn\"] = events_recs_common[\"gt\"] & ~events_recs_common[\"pr\"]\n",
    "\n",
    "    return events_recs_common"
   ],
   "id": "6055add4f0fc3d60",
   "outputs": [],
   "execution_count": 111
  },
  {
   "metadata": {
    "ExecuteTime": {
     "end_time": "2024-10-23T15:29:45.204531Z",
     "start_time": "2024-10-23T15:29:35.886150Z"
    }
   },
   "cell_type": "code",
   "source": [
    "# Обработаем ALS-рекомендации для подсчёта метрик для 5 лучших рекомендаций:\n",
    "events_recs_for_binary_metrics = process_events_recs_for_binary_metrics(\n",
    "    events_train,\n",
    "    events_test,\n",
    "    als_recommendations,\n",
    "    top_k=5\n",
    ")"
   ],
   "id": "cf54021b6d84b0f8",
   "outputs": [
    {
     "name": "stdout",
     "output_type": "stream",
     "text": [
      "Common users: 123223\n"
     ]
    },
    {
     "name": "stderr",
     "output_type": "stream",
     "text": [
      "/var/folders/bx/8n6_vdf94z7gqkmk97lf4mnh0000gn/T/ipykernel_76659/2783672476.py:9: SettingWithCopyWarning: \n",
      "A value is trying to be set on a copy of a slice from a DataFrame.\n",
      "Try using .loc[row_indexer,col_indexer] = value instead\n",
      "\n",
      "See the caveats in the documentation: https://pandas.pydata.org/pandas-docs/stable/user_guide/indexing.html#returning-a-view-versus-a-copy\n",
      "  events_test[\"gt\"] = True\n",
      "/var/folders/bx/8n6_vdf94z7gqkmk97lf4mnh0000gn/T/ipykernel_76659/2783672476.py:31: FutureWarning: Downcasting object dtype arrays on .fillna, .ffill, .bfill is deprecated and will change in a future version. Call result.infer_objects(copy=False) instead. To opt-in to the future behavior, set `pd.set_option('future.no_silent_downcasting', True)`\n",
      "  events_recs_common[\"gt\"] = events_recs_common[\"gt\"].fillna(False)\n"
     ]
    }
   ],
   "execution_count": 112
  },
  {
   "metadata": {
    "ExecuteTime": {
     "end_time": "2024-10-23T15:29:45.208817Z",
     "start_time": "2024-10-23T15:29:45.205682Z"
    }
   },
   "cell_type": "code",
   "source": [
    "# Функции compute_cls_metrics для расчёта recall.\n",
    "def compute_cls_metrics(events_recs_for_binary_metric):\n",
    "    \n",
    "    groupper = events_recs_for_binary_metric.groupby(\"user_id\")\n",
    "\n",
    "    # precision = tp / (tp + fp)\n",
    "    precision = groupper[\"tp\"].sum() / (groupper[\"tp\"].sum() + groupper[\"fp\"].sum())\n",
    "    precision = precision.fillna(0).mean()\n",
    "    \n",
    "    # recall = tp / (tp + fn)\n",
    "    recall = groupper[\"tp\"].sum() / (groupper[\"tp\"].sum() + groupper[\"fn\"].sum())\n",
    "    recall = recall.fillna(0).mean()\n",
    "\n",
    "    return precision, recall"
   ],
   "id": "2bec448c426cc85d",
   "outputs": [],
   "execution_count": 113
  },
  {
   "metadata": {
    "ExecuteTime": {
     "end_time": "2024-10-23T15:29:45.248996Z",
     "start_time": "2024-10-23T15:29:45.209431Z"
    }
   },
   "cell_type": "code",
   "source": [
    "# Пример использования функции\n",
    "precision_at_5, recall_at_5 = compute_cls_metrics(events_recs_for_binary_metrics)\n",
    "print(f\"Precision@5: {precision_at_5:.3f}, Recall@5: {recall_at_5:.3f}\")"
   ],
   "id": "92373253af09d400",
   "outputs": [
    {
     "name": "stdout",
     "output_type": "stream",
     "text": [
      "Precision@5: 0.008, Recall@5: 0.014\n"
     ]
    }
   ],
   "execution_count": 114
  },
  {
   "metadata": {
    "ExecuteTime": {
     "end_time": "2024-10-23T15:29:54.302548Z",
     "start_time": "2024-10-23T15:29:45.249629Z"
    }
   },
   "cell_type": "code",
   "source": [
    "events_recs_for_binary_metrics_10 = process_events_recs_for_binary_metrics(\n",
    "    events_train,\n",
    "    events_test,\n",
    "    als_recommendations,\n",
    "    top_k=10\n",
    ")"
   ],
   "id": "1ebdc714a67b8294",
   "outputs": [
    {
     "name": "stderr",
     "output_type": "stream",
     "text": [
      "/var/folders/bx/8n6_vdf94z7gqkmk97lf4mnh0000gn/T/ipykernel_76659/2783672476.py:9: SettingWithCopyWarning: \n",
      "A value is trying to be set on a copy of a slice from a DataFrame.\n",
      "Try using .loc[row_indexer,col_indexer] = value instead\n",
      "\n",
      "See the caveats in the documentation: https://pandas.pydata.org/pandas-docs/stable/user_guide/indexing.html#returning-a-view-versus-a-copy\n",
      "  events_test[\"gt\"] = True\n"
     ]
    },
    {
     "name": "stdout",
     "output_type": "stream",
     "text": [
      "Common users: 123223\n"
     ]
    },
    {
     "name": "stderr",
     "output_type": "stream",
     "text": [
      "/var/folders/bx/8n6_vdf94z7gqkmk97lf4mnh0000gn/T/ipykernel_76659/2783672476.py:31: FutureWarning: Downcasting object dtype arrays on .fillna, .ffill, .bfill is deprecated and will change in a future version. Call result.infer_objects(copy=False) instead. To opt-in to the future behavior, set `pd.set_option('future.no_silent_downcasting', True)`\n",
      "  events_recs_common[\"gt\"] = events_recs_common[\"gt\"].fillna(False)\n"
     ]
    }
   ],
   "execution_count": 115
  },
  {
   "metadata": {
    "ExecuteTime": {
     "end_time": "2024-10-23T15:29:54.360436Z",
     "start_time": "2024-10-23T15:29:54.303181Z"
    }
   },
   "cell_type": "code",
   "source": [
    "precision_at_10, recall_at_10 = compute_cls_metrics(events_recs_for_binary_metrics_10)\n",
    "print(f\"Precision@10: {precision_at_10:.3f}, Recall@10: {recall_at_10:.3f}\")"
   ],
   "id": "adf46f3ea27d61b6",
   "outputs": [
    {
     "name": "stdout",
     "output_type": "stream",
     "text": [
      "Precision@10: 0.009, Recall@10: 0.031\n"
     ]
    }
   ],
   "execution_count": 116
  },
  {
   "metadata": {
    "ExecuteTime": {
     "end_time": "2024-10-23T15:29:54.363789Z",
     "start_time": "2024-10-23T15:29:54.362715Z"
    }
   },
   "cell_type": "code",
   "source": "",
   "id": "ff382b92a3da5a84",
   "outputs": [],
   "execution_count": 116
  },
  {
   "metadata": {
    "ExecuteTime": {
     "end_time": "2024-10-23T16:40:42.002246Z",
     "start_time": "2024-10-23T16:40:37.691817Z"
    }
   },
   "cell_type": "code",
   "source": [
    "# получим энкодированные идентификаторы всех объектов, известных нам из events_train\n",
    "train_item_ids_enc = events_train['item_id_enc'].unique()\n",
    "\n",
    "max_similar_items = 10\n",
    "\n",
    "# получаем списки похожих объектов, используя ранее полученную ALS-модель\n",
    "# метод similar_items возвращает и сам объект, как наиболее похожий\n",
    "# этот объект мы позже отфильтруем, но сейчас запросим на 1 больше\n",
    "similar_items = als_model.similar_items(train_item_ids_enc, N=max_similar_items + 1)\n",
    "\n",
    "# преобразуем полученные списки в табличный формат\n",
    "sim_item_item_ids_enc = similar_items[0]\n",
    "sim_item_scores = similar_items[1]\n",
    "similar_items = pd.DataFrame(columns=[\"item_id_enc\", \"sim_item_id_enc\", \"score\"])\n",
    "\n",
    "# Convert columns to the appropriate data types\n",
    "similar_items[\"score\"] = similar_items[\"score\"].astype(float)\n",
    "similar_items[\"sim_item_id_enc\"] = similar_items[\"sim_item_id_enc\"].astype(int)\n",
    "\n",
    "similar_items_list = []\n",
    "for item_id, sim_item_ids, sim_scores in zip(train_item_ids_enc, sim_item_item_ids_enc.tolist(),\n",
    "                                             sim_item_scores.tolist()):\n",
    "    similar_items_list.append((item_id, sim_item_ids, sim_scores))\n",
    "\n",
    "# Create DataFrame from the list\n",
    "similar_items = pd.DataFrame(similar_items_list, columns=[\"item_id_enc\", \"sim_item_id_enc\", \"score\"])\n",
    "\n",
    "similar_items = similar_items.explode([\"sim_item_id_enc\", \"score\"], ignore_index=True)\n",
    "\n",
    "# Convert columns to the appropriate data types\n",
    "similar_items[\"score\"] = similar_items[\"score\"].astype(float)\n",
    "similar_items[\"sim_item_id_enc\"] = similar_items[\"sim_item_id_enc\"].astype(int)\n",
    "\n",
    "# получаем изначальные идентификаторы\n",
    "similar_items[\"item_id_1\"] = item_encoder.inverse_transform(similar_items[\"item_id_enc\"])"
   ],
   "id": "82904c9055dfffb4",
   "outputs": [],
   "execution_count": 126
  },
  {
   "metadata": {
    "ExecuteTime": {
     "end_time": "2024-10-23T16:40:42.035882Z",
     "start_time": "2024-10-23T16:40:42.003878Z"
    }
   },
   "cell_type": "code",
   "source": [
    "# получаем изначальные идентификаторы\n",
    "similar_items[\"item_id_2\"] = item_encoder.inverse_transform(similar_items[\"sim_item_id_enc\"])"
   ],
   "id": "d09da84fe40ad88d",
   "outputs": [],
   "execution_count": 127
  },
  {
   "metadata": {
    "ExecuteTime": {
     "end_time": "2024-10-23T16:40:47.179949Z",
     "start_time": "2024-10-23T16:40:46.633765Z"
    }
   },
   "cell_type": "code",
   "source": [
    "# убираем ненужные колонки\n",
    "similar_items = similar_items.drop(columns=[\"item_id_enc\", \"sim_item_id_enc\"])"
   ],
   "id": "d475c374dadea43d",
   "outputs": [
    {
     "ename": "KeyError",
     "evalue": "\"['item_id_enc'] not found in axis\"",
     "output_type": "error",
     "traceback": [
      "\u001B[0;31m---------------------------------------------------------------------------\u001B[0m",
      "\u001B[0;31mKeyError\u001B[0m                                  Traceback (most recent call last)",
      "Cell \u001B[0;32mIn[128], line 3\u001B[0m\n\u001B[1;32m      1\u001B[0m \u001B[38;5;66;03m# убираем ненужные колонки\u001B[39;00m\n\u001B[1;32m      2\u001B[0m similar_items \u001B[38;5;241m=\u001B[39m similar_items\u001B[38;5;241m.\u001B[39mdrop(columns\u001B[38;5;241m=\u001B[39m[\u001B[38;5;124m\"\u001B[39m\u001B[38;5;124mitem_id_enc\u001B[39m\u001B[38;5;124m\"\u001B[39m, \u001B[38;5;124m\"\u001B[39m\u001B[38;5;124msim_item_id_enc\u001B[39m\u001B[38;5;124m\"\u001B[39m])\n\u001B[0;32m----> 3\u001B[0m similar_items \u001B[38;5;241m=\u001B[39m similar_items\u001B[38;5;241m.\u001B[39mdrop(columns\u001B[38;5;241m=\u001B[39m[\u001B[38;5;124m\"\u001B[39m\u001B[38;5;124mitem_id_enc\u001B[39m\u001B[38;5;124m\"\u001B[39m])\n\u001B[1;32m      5\u001B[0m \u001B[38;5;66;03m# убираем пары с одинаковыми объектами\u001B[39;00m\n\u001B[1;32m      6\u001B[0m similar_items \u001B[38;5;241m=\u001B[39m similar_items\u001B[38;5;241m.\u001B[39mquery(\u001B[38;5;124m\"\u001B[39m\u001B[38;5;124mitem_id_1 != item_id_2\u001B[39m\u001B[38;5;124m\"\u001B[39m)\n",
      "File \u001B[0;32m~/anaconda3/lib/python3.11/site-packages/pandas/core/frame.py:5581\u001B[0m, in \u001B[0;36mDataFrame.drop\u001B[0;34m(self, labels, axis, index, columns, level, inplace, errors)\u001B[0m\n\u001B[1;32m   5433\u001B[0m \u001B[38;5;28;01mdef\u001B[39;00m \u001B[38;5;21mdrop\u001B[39m(\n\u001B[1;32m   5434\u001B[0m     \u001B[38;5;28mself\u001B[39m,\n\u001B[1;32m   5435\u001B[0m     labels: IndexLabel \u001B[38;5;241m|\u001B[39m \u001B[38;5;28;01mNone\u001B[39;00m \u001B[38;5;241m=\u001B[39m \u001B[38;5;28;01mNone\u001B[39;00m,\n\u001B[0;32m   (...)\u001B[0m\n\u001B[1;32m   5442\u001B[0m     errors: IgnoreRaise \u001B[38;5;241m=\u001B[39m \u001B[38;5;124m\"\u001B[39m\u001B[38;5;124mraise\u001B[39m\u001B[38;5;124m\"\u001B[39m,\n\u001B[1;32m   5443\u001B[0m ) \u001B[38;5;241m-\u001B[39m\u001B[38;5;241m>\u001B[39m DataFrame \u001B[38;5;241m|\u001B[39m \u001B[38;5;28;01mNone\u001B[39;00m:\n\u001B[1;32m   5444\u001B[0m \u001B[38;5;250m    \u001B[39m\u001B[38;5;124;03m\"\"\"\u001B[39;00m\n\u001B[1;32m   5445\u001B[0m \u001B[38;5;124;03m    Drop specified labels from rows or columns.\u001B[39;00m\n\u001B[1;32m   5446\u001B[0m \n\u001B[0;32m   (...)\u001B[0m\n\u001B[1;32m   5579\u001B[0m \u001B[38;5;124;03m            weight  1.0     0.8\u001B[39;00m\n\u001B[1;32m   5580\u001B[0m \u001B[38;5;124;03m    \"\"\"\u001B[39;00m\n\u001B[0;32m-> 5581\u001B[0m     \u001B[38;5;28;01mreturn\u001B[39;00m \u001B[38;5;28msuper\u001B[39m()\u001B[38;5;241m.\u001B[39mdrop(\n\u001B[1;32m   5582\u001B[0m         labels\u001B[38;5;241m=\u001B[39mlabels,\n\u001B[1;32m   5583\u001B[0m         axis\u001B[38;5;241m=\u001B[39maxis,\n\u001B[1;32m   5584\u001B[0m         index\u001B[38;5;241m=\u001B[39mindex,\n\u001B[1;32m   5585\u001B[0m         columns\u001B[38;5;241m=\u001B[39mcolumns,\n\u001B[1;32m   5586\u001B[0m         level\u001B[38;5;241m=\u001B[39mlevel,\n\u001B[1;32m   5587\u001B[0m         inplace\u001B[38;5;241m=\u001B[39minplace,\n\u001B[1;32m   5588\u001B[0m         errors\u001B[38;5;241m=\u001B[39merrors,\n\u001B[1;32m   5589\u001B[0m     )\n",
      "File \u001B[0;32m~/anaconda3/lib/python3.11/site-packages/pandas/core/generic.py:4788\u001B[0m, in \u001B[0;36mNDFrame.drop\u001B[0;34m(self, labels, axis, index, columns, level, inplace, errors)\u001B[0m\n\u001B[1;32m   4786\u001B[0m \u001B[38;5;28;01mfor\u001B[39;00m axis, labels \u001B[38;5;129;01min\u001B[39;00m axes\u001B[38;5;241m.\u001B[39mitems():\n\u001B[1;32m   4787\u001B[0m     \u001B[38;5;28;01mif\u001B[39;00m labels \u001B[38;5;129;01mis\u001B[39;00m \u001B[38;5;129;01mnot\u001B[39;00m \u001B[38;5;28;01mNone\u001B[39;00m:\n\u001B[0;32m-> 4788\u001B[0m         obj \u001B[38;5;241m=\u001B[39m obj\u001B[38;5;241m.\u001B[39m_drop_axis(labels, axis, level\u001B[38;5;241m=\u001B[39mlevel, errors\u001B[38;5;241m=\u001B[39merrors)\n\u001B[1;32m   4790\u001B[0m \u001B[38;5;28;01mif\u001B[39;00m inplace:\n\u001B[1;32m   4791\u001B[0m     \u001B[38;5;28mself\u001B[39m\u001B[38;5;241m.\u001B[39m_update_inplace(obj)\n",
      "File \u001B[0;32m~/anaconda3/lib/python3.11/site-packages/pandas/core/generic.py:4830\u001B[0m, in \u001B[0;36mNDFrame._drop_axis\u001B[0;34m(self, labels, axis, level, errors, only_slice)\u001B[0m\n\u001B[1;32m   4828\u001B[0m         new_axis \u001B[38;5;241m=\u001B[39m axis\u001B[38;5;241m.\u001B[39mdrop(labels, level\u001B[38;5;241m=\u001B[39mlevel, errors\u001B[38;5;241m=\u001B[39merrors)\n\u001B[1;32m   4829\u001B[0m     \u001B[38;5;28;01melse\u001B[39;00m:\n\u001B[0;32m-> 4830\u001B[0m         new_axis \u001B[38;5;241m=\u001B[39m axis\u001B[38;5;241m.\u001B[39mdrop(labels, errors\u001B[38;5;241m=\u001B[39merrors)\n\u001B[1;32m   4831\u001B[0m     indexer \u001B[38;5;241m=\u001B[39m axis\u001B[38;5;241m.\u001B[39mget_indexer(new_axis)\n\u001B[1;32m   4833\u001B[0m \u001B[38;5;66;03m# Case for non-unique axis\u001B[39;00m\n\u001B[1;32m   4834\u001B[0m \u001B[38;5;28;01melse\u001B[39;00m:\n",
      "File \u001B[0;32m~/anaconda3/lib/python3.11/site-packages/pandas/core/indexes/base.py:7070\u001B[0m, in \u001B[0;36mIndex.drop\u001B[0;34m(self, labels, errors)\u001B[0m\n\u001B[1;32m   7068\u001B[0m \u001B[38;5;28;01mif\u001B[39;00m mask\u001B[38;5;241m.\u001B[39many():\n\u001B[1;32m   7069\u001B[0m     \u001B[38;5;28;01mif\u001B[39;00m errors \u001B[38;5;241m!=\u001B[39m \u001B[38;5;124m\"\u001B[39m\u001B[38;5;124mignore\u001B[39m\u001B[38;5;124m\"\u001B[39m:\n\u001B[0;32m-> 7070\u001B[0m         \u001B[38;5;28;01mraise\u001B[39;00m \u001B[38;5;167;01mKeyError\u001B[39;00m(\u001B[38;5;124mf\u001B[39m\u001B[38;5;124m\"\u001B[39m\u001B[38;5;132;01m{\u001B[39;00mlabels[mask]\u001B[38;5;241m.\u001B[39mtolist()\u001B[38;5;132;01m}\u001B[39;00m\u001B[38;5;124m not found in axis\u001B[39m\u001B[38;5;124m\"\u001B[39m)\n\u001B[1;32m   7071\u001B[0m     indexer \u001B[38;5;241m=\u001B[39m indexer[\u001B[38;5;241m~\u001B[39mmask]\n\u001B[1;32m   7072\u001B[0m \u001B[38;5;28;01mreturn\u001B[39;00m \u001B[38;5;28mself\u001B[39m\u001B[38;5;241m.\u001B[39mdelete(indexer)\n",
      "\u001B[0;31mKeyError\u001B[0m: \"['item_id_enc'] not found in axis\""
     ]
    }
   ],
   "execution_count": 128
  },
  {
   "metadata": {
    "ExecuteTime": {
     "end_time": "2024-10-23T16:41:09.628454Z",
     "start_time": "2024-10-23T16:41:09.615513Z"
    }
   },
   "cell_type": "code",
   "source": [
    "# убираем пары с одинаковыми объектами\n",
    "similar_items = similar_items.query(\"item_id_1 != item_id_2\")"
   ],
   "id": "18e616c21a2c06e3",
   "outputs": [],
   "execution_count": 129
  },
  {
   "metadata": {
    "ExecuteTime": {
     "end_time": "2024-10-23T16:41:12.751656Z",
     "start_time": "2024-10-23T16:41:12.747841Z"
    }
   },
   "cell_type": "code",
   "source": [
    "# Выводим результат\n",
    "print(similar_items.head())\n",
    "print(similar_items[similar_items[\"item_id_1\"] == 7126].index)"
   ],
   "id": "d9593235b5826aa8",
   "outputs": [
    {
     "name": "stdout",
     "output_type": "stream",
     "text": [
      "      score  item_id_1  item_id_2\n",
      "1  0.922487      22034      22026\n",
      "2  0.874762      22034       6882\n",
      "3  0.873764      22034      22028\n",
      "4  0.850658      22034     364089\n",
      "5  0.835735      22034       9827\n",
      "Index([25873, 25874, 25875, 25876, 25877, 25878, 25879, 25880, 25881, 25882], dtype='int64')\n"
     ]
    }
   ],
   "execution_count": 130
  },
  {
   "metadata": {
    "ExecuteTime": {
     "end_time": "2024-10-23T16:41:28.893056Z",
     "start_time": "2024-10-23T16:41:28.824715Z"
    }
   },
   "cell_type": "code",
   "source": "similar_items.to_parquet(\"./data/similar_items.parquet\")",
   "id": "e7dc08c857473091",
   "outputs": [],
   "execution_count": 131
  },
  {
   "metadata": {
    "ExecuteTime": {
     "end_time": "2024-10-23T16:41:29.382567Z",
     "start_time": "2024-10-23T16:41:29.335826Z"
    }
   },
   "cell_type": "code",
   "source": [
    "def print_sim_items(item_id, similar_items):\n",
    "\n",
    "    item_columns_to_use = [\"item_id\", \"author\", \"title\", \"genre_and_votes\", \"average_rating\", \"ratings_count\"]\n",
    "    \n",
    "    item_id_1 = items.query(\"item_id == @item_id\")[item_columns_to_use]\n",
    "    display(item_id_1)\n",
    "    \n",
    "    si = similar_items.query(\"item_id_1 == @item_id\")\n",
    "    si = si.merge(items[item_columns_to_use].set_index(\"item_id\"), left_on=\"item_id_2\", right_index=True)\n",
    "    display(si) \n"
   ],
   "id": "77b068a5809896de",
   "outputs": [
    {
     "data": {
      "text/plain": [
       "         item_id                                             author  \\\n",
       "1909078     7144  Fyodor Dostoyevsky, David McDuff, Fyodor Dosto...   \n",
       "\n",
       "                        title  \\\n",
       "1909078  Crime and Punishment   \n",
       "\n",
       "                                           genre_and_votes  average_rating  \\\n",
       "1909078  {'Classics': 15812, 'Fiction': 8028, 'Cultural...            4.19   \n",
       "\n",
       "         ratings_count  \n",
       "1909078         390293  "
      ],
      "text/html": [
       "<div>\n",
       "<style scoped>\n",
       "    .dataframe tbody tr th:only-of-type {\n",
       "        vertical-align: middle;\n",
       "    }\n",
       "\n",
       "    .dataframe tbody tr th {\n",
       "        vertical-align: top;\n",
       "    }\n",
       "\n",
       "    .dataframe thead th {\n",
       "        text-align: right;\n",
       "    }\n",
       "</style>\n",
       "<table border=\"1\" class=\"dataframe\">\n",
       "  <thead>\n",
       "    <tr style=\"text-align: right;\">\n",
       "      <th></th>\n",
       "      <th>item_id</th>\n",
       "      <th>author</th>\n",
       "      <th>title</th>\n",
       "      <th>genre_and_votes</th>\n",
       "      <th>average_rating</th>\n",
       "      <th>ratings_count</th>\n",
       "    </tr>\n",
       "  </thead>\n",
       "  <tbody>\n",
       "    <tr>\n",
       "      <th>1909078</th>\n",
       "      <td>7144</td>\n",
       "      <td>Fyodor Dostoyevsky, David McDuff, Fyodor Dosto...</td>\n",
       "      <td>Crime and Punishment</td>\n",
       "      <td>{'Classics': 15812, 'Fiction': 8028, 'Cultural...</td>\n",
       "      <td>4.19</td>\n",
       "      <td>390293</td>\n",
       "    </tr>\n",
       "  </tbody>\n",
       "</table>\n",
       "</div>"
      ]
     },
     "metadata": {},
     "output_type": "display_data"
    },
    {
     "data": {
      "text/plain": [
       "          score  item_id_1  item_id_2  \\\n",
       "66760  0.964478       7144      12505   \n",
       "66761  0.953918       7144      12857   \n",
       "66762  0.952008       7144      67326   \n",
       "66763  0.946848       7144    5508624   \n",
       "66764  0.939763       7144       4934   \n",
       "66765  0.938016       7144      17877   \n",
       "66766  0.937005       7144     929782   \n",
       "66767  0.936360       7144      28382   \n",
       "66768  0.936321       7144      17690   \n",
       "66769  0.934541       7144      63038   \n",
       "\n",
       "                                                  author  \\\n",
       "66760  Fyodor Dostoyevsky, Anna Brailovsky, Constance...   \n",
       "66761              Fyodor Dostoyevsky, Constance Garnett   \n",
       "66762                                 Fyodor Dostoyevsky   \n",
       "66763                                        Leo Tolstoy   \n",
       "66764  Fyodor Dostoyevsky, Fyodor Dostoyevsky, Richar...   \n",
       "66765              Fyodor Dostoyevsky, Constance Garnett   \n",
       "66766                       Jack London, Andrew Sinclair   \n",
       "66767                                      Nikolai Gogol   \n",
       "66768      Franz Kafka, Max Brod, Willa Muir, Edwin Muir   \n",
       "66769                                        Victor Hugo   \n",
       "\n",
       "                                     title  \\\n",
       "66760                            The Idiot   \n",
       "66761                          The Gambler   \n",
       "66762                            Poor Folk   \n",
       "66763                     Family Happiness   \n",
       "66764               The Brothers Karamazov   \n",
       "66765                The House of the Dead   \n",
       "66766                          Martin Eden   \n",
       "66767  Diary of a Madman and Other Stories   \n",
       "66768                            The Trial   \n",
       "66769                   The Man Who Laughs   \n",
       "\n",
       "                                         genre_and_votes  average_rating  \\\n",
       "66760                {'Classics': 4036, 'Fiction': 2576}            4.18   \n",
       "66761  {'Classics': 946, 'Fiction': 729, 'Cultural-Ru...            3.88   \n",
       "66762  {'Classics': 320, 'Fiction': 235, 'Literature-...            3.73   \n",
       "66763  {'Classics': 140, 'Fiction': 112, 'Cultural-Ru...            3.85   \n",
       "66764  {'Classics': 7496, 'Fiction': 5491, 'Cultural-...            4.31   \n",
       "66765  {'Classics': 533, 'Fiction': 441, 'Cultural-Ru...            4.04   \n",
       "66766  {'Classics': 435, 'Fiction': 405, 'Literature-...            4.39   \n",
       "66767  {'Classics': 284, 'Fiction': 243, 'Short Stori...            4.09   \n",
       "66768  {'Classics': 4607, 'Fiction': 4173, 'Literatur...            3.98   \n",
       "66769  {'Classics': 352, 'Fiction': 176, 'Cultural-Fr...            4.22   \n",
       "\n",
       "       ratings_count  \n",
       "66760          76392  \n",
       "66761          22024  \n",
       "66762           4957  \n",
       "66763           3337  \n",
       "66764         158410  \n",
       "66765           8548  \n",
       "66766          13257  \n",
       "66767           6241  \n",
       "66768         135862  \n",
       "66769           5449  "
      ],
      "text/html": [
       "<div>\n",
       "<style scoped>\n",
       "    .dataframe tbody tr th:only-of-type {\n",
       "        vertical-align: middle;\n",
       "    }\n",
       "\n",
       "    .dataframe tbody tr th {\n",
       "        vertical-align: top;\n",
       "    }\n",
       "\n",
       "    .dataframe thead th {\n",
       "        text-align: right;\n",
       "    }\n",
       "</style>\n",
       "<table border=\"1\" class=\"dataframe\">\n",
       "  <thead>\n",
       "    <tr style=\"text-align: right;\">\n",
       "      <th></th>\n",
       "      <th>score</th>\n",
       "      <th>item_id_1</th>\n",
       "      <th>item_id_2</th>\n",
       "      <th>author</th>\n",
       "      <th>title</th>\n",
       "      <th>genre_and_votes</th>\n",
       "      <th>average_rating</th>\n",
       "      <th>ratings_count</th>\n",
       "    </tr>\n",
       "  </thead>\n",
       "  <tbody>\n",
       "    <tr>\n",
       "      <th>66760</th>\n",
       "      <td>0.964478</td>\n",
       "      <td>7144</td>\n",
       "      <td>12505</td>\n",
       "      <td>Fyodor Dostoyevsky, Anna Brailovsky, Constance...</td>\n",
       "      <td>The Idiot</td>\n",
       "      <td>{'Classics': 4036, 'Fiction': 2576}</td>\n",
       "      <td>4.18</td>\n",
       "      <td>76392</td>\n",
       "    </tr>\n",
       "    <tr>\n",
       "      <th>66761</th>\n",
       "      <td>0.953918</td>\n",
       "      <td>7144</td>\n",
       "      <td>12857</td>\n",
       "      <td>Fyodor Dostoyevsky, Constance Garnett</td>\n",
       "      <td>The Gambler</td>\n",
       "      <td>{'Classics': 946, 'Fiction': 729, 'Cultural-Ru...</td>\n",
       "      <td>3.88</td>\n",
       "      <td>22024</td>\n",
       "    </tr>\n",
       "    <tr>\n",
       "      <th>66762</th>\n",
       "      <td>0.952008</td>\n",
       "      <td>7144</td>\n",
       "      <td>67326</td>\n",
       "      <td>Fyodor Dostoyevsky</td>\n",
       "      <td>Poor Folk</td>\n",
       "      <td>{'Classics': 320, 'Fiction': 235, 'Literature-...</td>\n",
       "      <td>3.73</td>\n",
       "      <td>4957</td>\n",
       "    </tr>\n",
       "    <tr>\n",
       "      <th>66763</th>\n",
       "      <td>0.946848</td>\n",
       "      <td>7144</td>\n",
       "      <td>5508624</td>\n",
       "      <td>Leo Tolstoy</td>\n",
       "      <td>Family Happiness</td>\n",
       "      <td>{'Classics': 140, 'Fiction': 112, 'Cultural-Ru...</td>\n",
       "      <td>3.85</td>\n",
       "      <td>3337</td>\n",
       "    </tr>\n",
       "    <tr>\n",
       "      <th>66764</th>\n",
       "      <td>0.939763</td>\n",
       "      <td>7144</td>\n",
       "      <td>4934</td>\n",
       "      <td>Fyodor Dostoyevsky, Fyodor Dostoyevsky, Richar...</td>\n",
       "      <td>The Brothers Karamazov</td>\n",
       "      <td>{'Classics': 7496, 'Fiction': 5491, 'Cultural-...</td>\n",
       "      <td>4.31</td>\n",
       "      <td>158410</td>\n",
       "    </tr>\n",
       "    <tr>\n",
       "      <th>66765</th>\n",
       "      <td>0.938016</td>\n",
       "      <td>7144</td>\n",
       "      <td>17877</td>\n",
       "      <td>Fyodor Dostoyevsky, Constance Garnett</td>\n",
       "      <td>The House of the Dead</td>\n",
       "      <td>{'Classics': 533, 'Fiction': 441, 'Cultural-Ru...</td>\n",
       "      <td>4.04</td>\n",
       "      <td>8548</td>\n",
       "    </tr>\n",
       "    <tr>\n",
       "      <th>66766</th>\n",
       "      <td>0.937005</td>\n",
       "      <td>7144</td>\n",
       "      <td>929782</td>\n",
       "      <td>Jack London, Andrew Sinclair</td>\n",
       "      <td>Martin Eden</td>\n",
       "      <td>{'Classics': 435, 'Fiction': 405, 'Literature-...</td>\n",
       "      <td>4.39</td>\n",
       "      <td>13257</td>\n",
       "    </tr>\n",
       "    <tr>\n",
       "      <th>66767</th>\n",
       "      <td>0.936360</td>\n",
       "      <td>7144</td>\n",
       "      <td>28382</td>\n",
       "      <td>Nikolai Gogol</td>\n",
       "      <td>Diary of a Madman and Other Stories</td>\n",
       "      <td>{'Classics': 284, 'Fiction': 243, 'Short Stori...</td>\n",
       "      <td>4.09</td>\n",
       "      <td>6241</td>\n",
       "    </tr>\n",
       "    <tr>\n",
       "      <th>66768</th>\n",
       "      <td>0.936321</td>\n",
       "      <td>7144</td>\n",
       "      <td>17690</td>\n",
       "      <td>Franz Kafka, Max Brod, Willa Muir, Edwin Muir</td>\n",
       "      <td>The Trial</td>\n",
       "      <td>{'Classics': 4607, 'Fiction': 4173, 'Literatur...</td>\n",
       "      <td>3.98</td>\n",
       "      <td>135862</td>\n",
       "    </tr>\n",
       "    <tr>\n",
       "      <th>66769</th>\n",
       "      <td>0.934541</td>\n",
       "      <td>7144</td>\n",
       "      <td>63038</td>\n",
       "      <td>Victor Hugo</td>\n",
       "      <td>The Man Who Laughs</td>\n",
       "      <td>{'Classics': 352, 'Fiction': 176, 'Cultural-Fr...</td>\n",
       "      <td>4.22</td>\n",
       "      <td>5449</td>\n",
       "    </tr>\n",
       "  </tbody>\n",
       "</table>\n",
       "</div>"
      ]
     },
     "metadata": {},
     "output_type": "display_data"
    }
   ],
   "execution_count": 132
  },
  {
   "metadata": {
    "ExecuteTime": {
     "end_time": "2024-10-23T16:41:30.787627Z",
     "start_time": "2024-10-23T16:41:30.785994Z"
    }
   },
   "cell_type": "code",
   "source": "print_sim_items(7144, similar_items)",
   "id": "1427ba6f95675a50",
   "outputs": [],
   "execution_count": 132
  },
  {
   "metadata": {},
   "cell_type": "code",
   "outputs": [],
   "execution_count": null,
   "source": "",
   "id": "2a626903b4b7ff56"
  }
 ],
 "metadata": {
  "kernelspec": {
   "display_name": "Python 3",
   "language": "python",
   "name": "python3"
  },
  "language_info": {
   "codemirror_mode": {
    "name": "ipython",
    "version": 2
   },
   "file_extension": ".py",
   "mimetype": "text/x-python",
   "name": "python",
   "nbconvert_exporter": "python",
   "pygments_lexer": "ipython2",
   "version": "2.7.6"
  }
 },
 "nbformat": 4,
 "nbformat_minor": 5
}

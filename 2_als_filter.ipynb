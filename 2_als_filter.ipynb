{
 "cells": [
  {
   "cell_type": "code",
   "id": "initial_id",
   "metadata": {
    "collapsed": true,
    "ExecuteTime": {
     "end_time": "2024-10-21T19:12:46.940838Z",
     "start_time": "2024-10-21T19:12:46.938189Z"
    }
   },
   "source": [
    "import sys\n",
    "import pandas as pd\n",
    "import scipy\n",
    "import sklearn.preprocessing\n",
    "import numpy as np"
   ],
   "outputs": [],
   "execution_count": 13
  },
  {
   "metadata": {
    "ExecuteTime": {
     "end_time": "2024-10-21T19:12:52.162188Z",
     "start_time": "2024-10-21T19:12:47.098913Z"
    }
   },
   "cell_type": "code",
   "source": [
    "events = pd.read_parquet(\"./data/events.parquet\")\n",
    "items = pd.read_parquet(\"./data/items.parquet\")"
   ],
   "id": "c23bb71617812f18",
   "outputs": [],
   "execution_count": 14
  },
  {
   "metadata": {},
   "cell_type": "markdown",
   "source": "### Коллаборативная фильтрация: ALS",
   "id": "3459f99a5b62102f"
  },
  {
   "metadata": {
    "ExecuteTime": {
     "end_time": "2024-10-21T19:12:52.864905Z",
     "start_time": "2024-10-21T19:12:52.163337Z"
    }
   },
   "cell_type": "code",
   "source": [
    "# зададим точку разбиения\n",
    "train_test_global_time_split_date = pd.to_datetime(\"2017-08-01\").date()\n",
    "train_test_global_time_split_idx = events[\"started_at\"] < train_test_global_time_split_date\n",
    "events_train = events[train_test_global_time_split_idx]\n",
    "events_test = events[~train_test_global_time_split_idx]"
   ],
   "id": "8c88209a5423e53f",
   "outputs": [],
   "execution_count": 15
  },
  {
   "metadata": {
    "ExecuteTime": {
     "end_time": "2024-10-21T19:12:55.494317Z",
     "start_time": "2024-10-21T19:12:52.865718Z"
    }
   },
   "cell_type": "code",
   "source": [
    "# перекодируем идентификаторы пользователей:\n",
    "# из имеющихся в последовательность 0, 1, 2, ...\n",
    "user_encoder = sklearn.preprocessing.LabelEncoder()\n",
    "user_encoder.fit(events[\"user_id\"])\n",
    "events_train[\"user_id_enc\"] = user_encoder.transform(events_train[\"user_id\"])\n",
    "events_test[\"user_id_enc\"] = user_encoder.transform(events_test[\"user_id\"])\n",
    "\n",
    "# перекодируем идентификаторы объектов:\n",
    "# из имеющихся в последовательность 0, 1, 2, ...\n",
    "item_encoder = sklearn.preprocessing.LabelEncoder()\n",
    "item_encoder.fit(items[\"item_id\"])\n",
    "items[\"item_id_enc\"] = item_encoder.transform(items[\"item_id\"])\n",
    "events_train[\"item_id_enc\"] = item_encoder.transform(events_train[\"item_id\"])\n",
    "events_test[\"item_id_enc\"] = item_encoder.transform(events_test[\"item_id\"])"
   ],
   "id": "310dee2cdacc549c",
   "outputs": [
    {
     "name": "stderr",
     "output_type": "stream",
     "text": [
      "/var/folders/bx/8n6_vdf94z7gqkmk97lf4mnh0000gn/T/ipykernel_76659/3198522641.py:5: SettingWithCopyWarning: \n",
      "A value is trying to be set on a copy of a slice from a DataFrame.\n",
      "Try using .loc[row_indexer,col_indexer] = value instead\n",
      "\n",
      "See the caveats in the documentation: https://pandas.pydata.org/pandas-docs/stable/user_guide/indexing.html#returning-a-view-versus-a-copy\n",
      "  events_train[\"user_id_enc\"] = user_encoder.transform(events_train[\"user_id\"])\n",
      "/var/folders/bx/8n6_vdf94z7gqkmk97lf4mnh0000gn/T/ipykernel_76659/3198522641.py:6: SettingWithCopyWarning: \n",
      "A value is trying to be set on a copy of a slice from a DataFrame.\n",
      "Try using .loc[row_indexer,col_indexer] = value instead\n",
      "\n",
      "See the caveats in the documentation: https://pandas.pydata.org/pandas-docs/stable/user_guide/indexing.html#returning-a-view-versus-a-copy\n",
      "  events_test[\"user_id_enc\"] = user_encoder.transform(events_test[\"user_id\"])\n",
      "/var/folders/bx/8n6_vdf94z7gqkmk97lf4mnh0000gn/T/ipykernel_76659/3198522641.py:13: SettingWithCopyWarning: \n",
      "A value is trying to be set on a copy of a slice from a DataFrame.\n",
      "Try using .loc[row_indexer,col_indexer] = value instead\n",
      "\n",
      "See the caveats in the documentation: https://pandas.pydata.org/pandas-docs/stable/user_guide/indexing.html#returning-a-view-versus-a-copy\n",
      "  events_train[\"item_id_enc\"] = item_encoder.transform(events_train[\"item_id\"])\n",
      "/var/folders/bx/8n6_vdf94z7gqkmk97lf4mnh0000gn/T/ipykernel_76659/3198522641.py:14: SettingWithCopyWarning: \n",
      "A value is trying to be set on a copy of a slice from a DataFrame.\n",
      "Try using .loc[row_indexer,col_indexer] = value instead\n",
      "\n",
      "See the caveats in the documentation: https://pandas.pydata.org/pandas-docs/stable/user_guide/indexing.html#returning-a-view-versus-a-copy\n",
      "  events_test[\"item_id_enc\"] = item_encoder.transform(events_test[\"item_id\"])\n"
     ]
    }
   ],
   "execution_count": 16
  },
  {
   "metadata": {
    "ExecuteTime": {
     "end_time": "2024-10-21T19:12:55.503507Z",
     "start_time": "2024-10-21T19:12:55.495505Z"
    }
   },
   "cell_type": "code",
   "source": "print(events_train[\"item_id_enc\"].max())",
   "id": "65f71fbd17dfe19d",
   "outputs": [
    {
     "name": "stdout",
     "output_type": "stream",
     "text": [
      "43304\n"
     ]
    }
   ],
   "execution_count": 17
  },
  {
   "metadata": {},
   "cell_type": "markdown",
   "source": "Вычислите размер матрицы user_item_matrix_train, как если бы она хранила все свои элементы, включая пропуски, и для каждого элемента использовался бы один байт. Ответ приведите в виде целого числа гигабайтов, отбросив дробную часть.",
   "id": "2f20ec6953da4abc"
  },
  {
   "metadata": {
    "ExecuteTime": {
     "end_time": "2024-10-21T19:12:55.563068Z",
     "start_time": "2024-10-21T19:12:55.504153Z"
    }
   },
   "cell_type": "code",
   "source": [
    "# Получаем количество уникальных пользователей и объектов\n",
    "num_users = events_train[\"user_id_enc\"].nunique()\n",
    "num_items = events_train[\"item_id_enc\"].nunique()\n",
    "\n",
    "# Вычисляем размер матрицы в байтах (1 байт на элемент)\n",
    "matrix_size_bytes = num_users * num_items\n",
    "\n",
    "# Переводим размер в гигабайты\n",
    "matrix_size_gb = matrix_size_bytes / (1024 ** 3)\n",
    "\n",
    "# Отбрасываем дробную часть и выводим целое число\n",
    "matrix_size_gb_int = int(matrix_size_gb)"
   ],
   "id": "34f6137bd404c788",
   "outputs": [],
   "execution_count": 18
  },
  {
   "metadata": {
    "ExecuteTime": {
     "end_time": "2024-10-21T19:12:55.565273Z",
     "start_time": "2024-10-21T19:12:55.563737Z"
    }
   },
   "cell_type": "code",
   "source": "print(matrix_size_gb_int)",
   "id": "1bb8209de2f0d8a0",
   "outputs": [
    {
     "name": "stdout",
     "output_type": "stream",
     "text": [
      "16\n"
     ]
    }
   ],
   "execution_count": 19
  },
  {
   "metadata": {},
   "cell_type": "markdown",
   "source": "Мы создадим sparse-матрицу в формате CSR. Такая матрица хранит только имеющиеся значения и не резервирует память под пропуски. Это помогает значительно сэкономить оперативную память при работе с разреженными матрицами.",
   "id": "85108e66347d2272"
  },
  {
   "metadata": {
    "ExecuteTime": {
     "end_time": "2024-10-21T19:12:55.889370Z",
     "start_time": "2024-10-21T19:12:55.565915Z"
    }
   },
   "cell_type": "code",
   "source": [
    "# создаём sparse-матрицу формата CSR \n",
    "user_item_matrix_train = scipy.sparse.csr_matrix((\n",
    "    events_train[\"rating\"],\n",
    "    (events_train['user_id_enc'], events_train['item_id_enc'])),\n",
    "    dtype=np.int8)"
   ],
   "id": "c3beccf0fc69cbed",
   "outputs": [],
   "execution_count": 20
  },
  {
   "metadata": {
    "ExecuteTime": {
     "end_time": "2024-10-21T19:12:56.940044Z",
     "start_time": "2024-10-21T19:12:55.890028Z"
    }
   },
   "cell_type": "code",
   "source": "matrix_size_gb_2 = sum([sys.getsizeof(i) for i in user_item_matrix_train.data]) / 1024 ** 3",
   "id": "46d2198792008d5c",
   "outputs": [],
   "execution_count": 21
  },
  {
   "metadata": {
    "ExecuteTime": {
     "end_time": "2024-10-21T19:13:03.056474Z",
     "start_time": "2024-10-21T19:13:03.053974Z"
    }
   },
   "cell_type": "code",
   "source": "print(matrix_size_gb_2)",
   "id": "f8001c4bf581f5a1",
   "outputs": [
    {
     "name": "stdout",
     "output_type": "stream",
     "text": [
      "0.26370687410235405\n"
     ]
    }
   ],
   "execution_count": 22
  },
  {
   "metadata": {},
   "cell_type": "markdown",
   "source": [
    "Имея подготовленную матрицу взаимодействий, перейдём к третьему шагу — создадим ALS-модель. Для примера возьмём количество латентных факторов для матриц $P, Q$, равным 50. \n",
    "Выполните код для создания и тренировки модели."
   ],
   "id": "abd88afd1c7dfd77"
  },
  {
   "metadata": {
    "ExecuteTime": {
     "end_time": "2024-10-21T19:22:18.212576Z",
     "start_time": "2024-10-21T19:14:26.984786Z"
    }
   },
   "cell_type": "code",
   "source": [
    "from implicit.als import AlternatingLeastSquares\n",
    "\n",
    "als_model = AlternatingLeastSquares(factors=50, iterations=50, regularization=0.05, random_state=0)\n",
    "als_model.fit(user_item_matrix_train)"
   ],
   "id": "34303f6f8b5d6ffd",
   "outputs": [
    {
     "name": "stderr",
     "output_type": "stream",
     "text": [
      "/Users/tzepart/anaconda3/lib/python3.11/site-packages/implicit/cpu/als.py:95: RuntimeWarning: OpenBLAS is configured to use 11 threads. It is highly recommended to disable its internal threadpool by setting the environment variable 'OPENBLAS_NUM_THREADS=1' or by calling 'threadpoolctl.threadpool_limits(1, \"blas\")'. Having OpenBLAS use a threadpool can lead to severe performance issues here.\n",
      "  check_blas_config()\n"
     ]
    },
    {
     "data": {
      "text/plain": [
       "  0%|          | 0/50 [00:00<?, ?it/s]"
      ],
      "application/vnd.jupyter.widget-view+json": {
       "version_major": 2,
       "version_minor": 0,
       "model_id": "10c7468b026e4e868529c04e78e3fe5a"
      }
     },
     "metadata": {},
     "output_type": "display_data"
    }
   ],
   "execution_count": 23
  },
  {
   "metadata": {},
   "cell_type": "markdown",
   "source": "Чтобы получить рекомендации для пользователя с помощью модели ALS, используем такую функцию:",
   "id": "783c60546364e726"
  },
  {
   "metadata": {
    "ExecuteTime": {
     "end_time": "2024-10-21T19:22:18.221786Z",
     "start_time": "2024-10-21T19:22:18.217205Z"
    }
   },
   "cell_type": "code",
   "source": [
    "def get_recommendations_als(user_item_matrix, model, user_id, user_encoder, item_encoder, include_seen=True, n=5):\n",
    "    \"\"\"\n",
    "    Возвращает отранжированные рекомендации для заданного пользователя\n",
    "    \"\"\"\n",
    "    user_id_enc = user_encoder.transform([user_id])[0]\n",
    "    recommendations = model.recommend(\n",
    "        user_id_enc,\n",
    "        user_item_matrix[user_id_enc],\n",
    "        filter_already_liked_items=not include_seen,\n",
    "        N=n)\n",
    "    recommendations = pd.DataFrame({\"item_id_enc\": recommendations[0], \"score\": recommendations[1]})\n",
    "    recommendations[\"item_id\"] = item_encoder.inverse_transform(recommendations[\"item_id_enc\"])\n",
    "\n",
    "    return recommendations"
   ],
   "id": "104a0e006eefd5ac",
   "outputs": [],
   "execution_count": 24
  },
  {
   "metadata": {},
   "cell_type": "markdown",
   "source": "Получим рекомендации для всех имеющихся пользователей. Выполните код ниже.",
   "id": "8df4c1edf471ead2"
  },
  {
   "metadata": {
    "ExecuteTime": {
     "end_time": "2024-10-21T19:22:54.226123Z",
     "start_time": "2024-10-21T19:22:18.225460Z"
    }
   },
   "cell_type": "code",
   "source": [
    "# получаем список всех возможных user_id (перекодированных)\n",
    "user_ids_encoded = range(len(user_encoder.classes_))\n",
    "\n",
    "# получаем рекомендации для всех пользователей\n",
    "als_recommendations = als_model.recommend(\n",
    "    user_ids_encoded,\n",
    "    user_item_matrix_train[user_ids_encoded],\n",
    "    filter_already_liked_items=False, N=100)"
   ],
   "id": "ba3fb7d96058ba51",
   "outputs": [],
   "execution_count": 25
  },
  {
   "metadata": {},
   "cell_type": "markdown",
   "source": "Код возвращает рекомендации как список списков, это не очень удобно. Преобразуем его в более удобный формат — табличный.",
   "id": "3b69f61cea27bcba"
  },
  {
   "metadata": {
    "ExecuteTime": {
     "end_time": "2024-10-21T19:23:04.825251Z",
     "start_time": "2024-10-21T19:22:54.227783Z"
    }
   },
   "cell_type": "code",
   "source": [
    "# преобразуем полученные рекомендации в табличный формат\n",
    "item_ids_enc = als_recommendations[0]\n",
    "als_scores = als_recommendations[1]\n",
    "\n",
    "als_recommendations = pd.DataFrame({\n",
    "    \"user_id_enc\": user_ids_encoded,\n",
    "    \"item_id_enc\": item_ids_enc.tolist(),\n",
    "    \"score\": als_scores.tolist()})\n",
    "als_recommendations = als_recommendations.explode([\"item_id_enc\", \"score\"], ignore_index=True)\n",
    "\n",
    "# приводим типы данных\n",
    "als_recommendations[\"item_id_enc\"] = als_recommendations[\"item_id_enc\"].astype(\"int\")\n",
    "als_recommendations[\"score\"] = als_recommendations[\"score\"].astype(\"float\")\n",
    "\n",
    "# получаем изначальные идентификаторы\n",
    "als_recommendations[\"user_id\"] = user_encoder.inverse_transform(als_recommendations[\"user_id_enc\"])\n",
    "als_recommendations[\"item_id\"] = item_encoder.inverse_transform(als_recommendations[\"item_id_enc\"])\n",
    "als_recommendations = als_recommendations.drop(columns=[\"user_id_enc\", \"item_id_enc\"])"
   ],
   "id": "e884977b6ee1b29d",
   "outputs": [],
   "execution_count": 26
  },
  {
   "metadata": {},
   "cell_type": "markdown",
   "source": "Сохраним полученные рекомендации в файл, они ещё нам пригодятся.",
   "id": "10c535e1dcef096a"
  },
  {
   "metadata": {
    "ExecuteTime": {
     "end_time": "2024-10-21T19:23:06.574065Z",
     "start_time": "2024-10-21T19:23:04.826602Z"
    }
   },
   "cell_type": "code",
   "source": [
    "als_recommendations = als_recommendations[[\"user_id\", \"item_id\", \"score\"]]\n",
    "als_recommendations.to_parquet(\"./data/als_recommendations.parquet\")"
   ],
   "id": "7c062f07760d6c34",
   "outputs": [],
   "execution_count": 27
  },
  {
   "metadata": {},
   "cell_type": "markdown",
   "source": [
    "Score от ALS не лежат на той же шкале, что и пользовательские оценки. Сравнивать исходные и новые оценки напрямую — некорректно. Поэтому посчитать метрики MAE, RMSE проблематично. Вместо них можно использовать метрики ранжирования. Они сравнивают не абсолютные значения рейтингов и их оценок, а соответствие порядков. Метрики ранжирования покажут, насколько порядок рекомендаций по убыванию score соответствует порядку объектов по убыванию пользовательских оценок. \n",
    "\n",
    "\n",
    "На практике часто используют метрику NDCG, она принимает значение от 0 (предлагаемый порядок никак не соответствует истинному) до 1 (предлагаемый порядок в точности соответствует истинному). "
   ],
   "id": "62d23892f2b26068"
  },
  {
   "metadata": {
    "ExecuteTime": {
     "end_time": "2024-10-21T19:26:32.422254Z",
     "start_time": "2024-10-21T19:26:26.688368Z"
    }
   },
   "cell_type": "code",
   "source": [
    "als_recommendations = (\n",
    "    als_recommendations\n",
    "    .merge(events_test[[\"user_id\", \"item_id\", \"rating\"]]\n",
    "           .rename(columns={\"rating\": \"rating_test\"}),\n",
    "           on=[\"user_id\", \"item_id\"], how=\"left\")\n",
    ")"
   ],
   "id": "b9ccbbc888d0015c",
   "outputs": [],
   "execution_count": 28
  },
  {
   "metadata": {},
   "cell_type": "markdown",
   "source": "Подсчитать метрику NDCG для одного пользователя поможет готовая реализация из scikit-learn:",
   "id": "9220c5762a3bf70c"
  },
  {
   "metadata": {
    "ExecuteTime": {
     "end_time": "2024-10-21T19:26:32.697172Z",
     "start_time": "2024-10-21T19:26:32.424044Z"
    }
   },
   "cell_type": "code",
   "source": [
    "import sklearn.metrics\n",
    "\n",
    "\n",
    "def compute_ndcg(rating: pd.Series, score: pd.Series, k):\n",
    "    \"\"\" подсчёт ndcg\n",
    "    rating: истинные оценки\n",
    "    score: оценки модели\n",
    "    k: количество айтемов (по убыванию score) для оценки, остальные - отбрасываются\n",
    "    \"\"\"\n",
    "\n",
    "    # если кол-во объектов меньше 2, то NDCG - не определена\n",
    "    if len(rating) < 2:\n",
    "        return np.nan\n",
    "\n",
    "    ndcg = sklearn.metrics.ndcg_score(np.asarray([rating.to_numpy()]), np.asarray([score.to_numpy()]), k=k)\n",
    "\n",
    "    return ndcg"
   ],
   "id": "de5412ed95536c37",
   "outputs": [],
   "execution_count": 29
  },
  {
   "metadata": {
    "ExecuteTime": {
     "end_time": "2024-10-21T19:26:36.113476Z",
     "start_time": "2024-10-21T19:26:32.697718Z"
    }
   },
   "cell_type": "code",
   "source": [
    "rating_test_idx = ~als_recommendations[\"rating_test\"].isnull()\n",
    "ndcg_at_5_scores = als_recommendations[rating_test_idx].groupby(\"user_id\").apply(\n",
    "    lambda x: compute_ndcg(x[\"rating_test\"], x[\"score\"], k=5))"
   ],
   "id": "cbfa055f0b4860b7",
   "outputs": [
    {
     "name": "stderr",
     "output_type": "stream",
     "text": [
      "/var/folders/bx/8n6_vdf94z7gqkmk97lf4mnh0000gn/T/ipykernel_76659/399192109.py:2: DeprecationWarning: DataFrameGroupBy.apply operated on the grouping columns. This behavior is deprecated, and in a future version of pandas the grouping columns will be excluded from the operation. Either pass `include_groups=False` to exclude the groupings or explicitly select the grouping columns after groupby to silence this warning.\n",
      "  ndcg_at_5_scores = als_recommendations[rating_test_idx].groupby(\"user_id\").apply(lambda x: compute_ndcg(x[\"rating_test\"], x[\"score\"], k=5))\n"
     ]
    }
   ],
   "execution_count": 30
  },
  {
   "metadata": {
    "ExecuteTime": {
     "end_time": "2024-10-21T19:26:36.116554Z",
     "start_time": "2024-10-21T19:26:36.114582Z"
    }
   },
   "cell_type": "code",
   "source": "print(ndcg_at_5_scores.mean())",
   "id": "ecfdeaaeeb147198",
   "outputs": [
    {
     "name": "stdout",
     "output_type": "stream",
     "text": [
      "0.9759534535118616\n"
     ]
    }
   ],
   "execution_count": 31
  },
  {
   "metadata": {},
   "cell_type": "markdown",
   "source": "### Контентные рекомендации",
   "id": "530014ed57cf2491"
  },
  {
   "metadata": {},
   "cell_type": "markdown",
   "source": "преобразуем значения в genre_and_votes из текстового представления в тип в Python:",
   "id": "b75f808a679ad024"
  },
  {
   "metadata": {
    "ExecuteTime": {
     "end_time": "2024-10-22T00:09:31.876618Z",
     "start_time": "2024-10-22T00:09:31.431524Z"
    }
   },
   "cell_type": "code",
   "source": "items[\"genre_and_votes\"] = items[\"genre_and_votes\"].apply(eval)",
   "id": "d157e60137028e1a",
   "outputs": [],
   "execution_count": 32
  },
  {
   "metadata": {
    "ExecuteTime": {
     "end_time": "2024-10-22T00:09:32.488137Z",
     "start_time": "2024-10-22T00:09:32.483163Z"
    }
   },
   "cell_type": "code",
   "source": [
    "def get_genres(items):\n",
    "    \"\"\" \n",
    "    извлекает список жанров по всем книгам, \n",
    "    подсчитывает долю голосов по каждому их них\n",
    "    \"\"\"\n",
    "    genres_counter = {}\n",
    "\n",
    "    for k, v, in items.iterrows():\n",
    "        genre_and_votes = v.get('genre_and_votes')\n",
    "        if genre_and_votes is None or not isinstance(genre_and_votes, dict):\n",
    "            continue\n",
    "        for genre, votes in genre_and_votes.items():\n",
    "            # увеличиваем счётчик жанров\n",
    "            try:\n",
    "                genres_counter[genre] += votes\n",
    "            except KeyError:\n",
    "                genres_counter[genre] = 0\n",
    "\n",
    "    genres = pd.Series(genres_counter, name=\"votes\")\n",
    "    genres = genres.to_frame()\n",
    "    genres = genres.reset_index().rename(columns={\"index\": \"name\"})\n",
    "    genres.index.name = \"genre_id\"\n",
    "\n",
    "    return genres"
   ],
   "id": "600dbbb9b82c18ba",
   "outputs": [],
   "execution_count": 33
  },
  {
   "metadata": {
    "ExecuteTime": {
     "end_time": "2024-10-22T00:09:33.823975Z",
     "start_time": "2024-10-22T00:09:33.309830Z"
    }
   },
   "cell_type": "code",
   "source": "genres = get_genres(items)",
   "id": "4ea11e12f561599e",
   "outputs": [],
   "execution_count": 34
  },
  {
   "metadata": {
    "ExecuteTime": {
     "end_time": "2024-10-22T00:09:34.528995Z",
     "start_time": "2024-10-22T00:09:34.524538Z"
    }
   },
   "cell_type": "code",
   "source": "genres[\"score\"] = genres[\"votes\"] / genres[\"votes\"].sum()",
   "id": "ca397bcaff883dc3",
   "outputs": [],
   "execution_count": 35
  },
  {
   "metadata": {
    "ExecuteTime": {
     "end_time": "2024-10-22T00:09:35.248517Z",
     "start_time": "2024-10-22T00:09:35.238637Z"
    }
   },
   "cell_type": "code",
   "source": "genres.sort_values(by=\"score\", ascending=False).head(10)",
   "id": "e7bc2ba7f829606d",
   "outputs": [
    {
     "data": {
      "text/plain": [
       "                                   name    votes     score\n",
       "genre_id                                                  \n",
       "25                              Fantasy  6850060  0.149651\n",
       "1                               Fiction  6406256  0.139955\n",
       "38                             Classics  3414934  0.074605\n",
       "18                          Young Adult  3296951  0.072027\n",
       "34                              Romance  2422614  0.052926\n",
       "5                            Nonfiction  1737406  0.037957\n",
       "16        Historical-Historical Fiction  1531205  0.033452\n",
       "20                              Mystery  1371196  0.029956\n",
       "24                      Science Fiction  1218917  0.026629\n",
       "33                   Fantasy-Paranormal   857012  0.018723"
      ],
      "text/html": [
       "<div>\n",
       "<style scoped>\n",
       "    .dataframe tbody tr th:only-of-type {\n",
       "        vertical-align: middle;\n",
       "    }\n",
       "\n",
       "    .dataframe tbody tr th {\n",
       "        vertical-align: top;\n",
       "    }\n",
       "\n",
       "    .dataframe thead th {\n",
       "        text-align: right;\n",
       "    }\n",
       "</style>\n",
       "<table border=\"1\" class=\"dataframe\">\n",
       "  <thead>\n",
       "    <tr style=\"text-align: right;\">\n",
       "      <th></th>\n",
       "      <th>name</th>\n",
       "      <th>votes</th>\n",
       "      <th>score</th>\n",
       "    </tr>\n",
       "    <tr>\n",
       "      <th>genre_id</th>\n",
       "      <th></th>\n",
       "      <th></th>\n",
       "      <th></th>\n",
       "    </tr>\n",
       "  </thead>\n",
       "  <tbody>\n",
       "    <tr>\n",
       "      <th>25</th>\n",
       "      <td>Fantasy</td>\n",
       "      <td>6850060</td>\n",
       "      <td>0.149651</td>\n",
       "    </tr>\n",
       "    <tr>\n",
       "      <th>1</th>\n",
       "      <td>Fiction</td>\n",
       "      <td>6406256</td>\n",
       "      <td>0.139955</td>\n",
       "    </tr>\n",
       "    <tr>\n",
       "      <th>38</th>\n",
       "      <td>Classics</td>\n",
       "      <td>3414934</td>\n",
       "      <td>0.074605</td>\n",
       "    </tr>\n",
       "    <tr>\n",
       "      <th>18</th>\n",
       "      <td>Young Adult</td>\n",
       "      <td>3296951</td>\n",
       "      <td>0.072027</td>\n",
       "    </tr>\n",
       "    <tr>\n",
       "      <th>34</th>\n",
       "      <td>Romance</td>\n",
       "      <td>2422614</td>\n",
       "      <td>0.052926</td>\n",
       "    </tr>\n",
       "    <tr>\n",
       "      <th>5</th>\n",
       "      <td>Nonfiction</td>\n",
       "      <td>1737406</td>\n",
       "      <td>0.037957</td>\n",
       "    </tr>\n",
       "    <tr>\n",
       "      <th>16</th>\n",
       "      <td>Historical-Historical Fiction</td>\n",
       "      <td>1531205</td>\n",
       "      <td>0.033452</td>\n",
       "    </tr>\n",
       "    <tr>\n",
       "      <th>20</th>\n",
       "      <td>Mystery</td>\n",
       "      <td>1371196</td>\n",
       "      <td>0.029956</td>\n",
       "    </tr>\n",
       "    <tr>\n",
       "      <th>24</th>\n",
       "      <td>Science Fiction</td>\n",
       "      <td>1218917</td>\n",
       "      <td>0.026629</td>\n",
       "    </tr>\n",
       "    <tr>\n",
       "      <th>33</th>\n",
       "      <td>Fantasy-Paranormal</td>\n",
       "      <td>857012</td>\n",
       "      <td>0.018723</td>\n",
       "    </tr>\n",
       "  </tbody>\n",
       "</table>\n",
       "</div>"
      ]
     },
     "execution_count": 36,
     "metadata": {},
     "output_type": "execute_result"
    }
   ],
   "execution_count": 36
  },
  {
   "metadata": {
    "ExecuteTime": {
     "end_time": "2024-10-22T00:13:46.652268Z",
     "start_time": "2024-10-22T00:13:46.647907Z"
    }
   },
   "cell_type": "code",
   "source": [
    "# Функция в коде ниже строит матрицу вида «книга-жанр».\n",
    "def get_item2genre_matrix(genres, items):\n",
    "    genre_names_to_id = genres.reset_index().set_index(\"name\")[\"genre_id\"].to_dict()\n",
    "\n",
    "    # list to build CSR matrix\n",
    "    genres_csr_data = []\n",
    "    genres_csr_row_idx = []\n",
    "    genres_csr_col_idx = []\n",
    "\n",
    "    for item_idx, (k, v) in enumerate(items.iterrows()):\n",
    "        if v[\"genre_and_votes\"] is None:\n",
    "            continue\n",
    "        for genre_name, votes in v[\"genre_and_votes\"].items():\n",
    "            genre_idx = genre_names_to_id[genre_name]\n",
    "            genres_csr_data.append(int(votes))\n",
    "            genres_csr_row_idx.append(item_idx)\n",
    "            genres_csr_col_idx.append(genre_idx)\n",
    "\n",
    "    genres_csr = scipy.sparse.csr_matrix((genres_csr_data, (genres_csr_row_idx, genres_csr_col_idx)),\n",
    "                                         shape=(len(items), len(genres)))\n",
    "    # нормализуем, чтобы сумма оценок принадлежности к жанру была равна 1\n",
    "    genres_csr = sklearn.preprocessing.normalize(genres_csr, norm='l1', axis=1)\n",
    "\n",
    "    return genres_csr"
   ],
   "id": "1df057bebd178541",
   "outputs": [],
   "execution_count": 38
  },
  {
   "metadata": {
    "ExecuteTime": {
     "end_time": "2024-10-22T00:15:57.803402Z",
     "start_time": "2024-10-22T00:15:57.220663Z"
    }
   },
   "cell_type": "code",
   "source": [
    "items = items.sort_values(by=\"item_id_enc\")\n",
    "all_items_genres_csr = get_item2genre_matrix(genres, items)"
   ],
   "id": "4876a163b6550765",
   "outputs": [],
   "execution_count": 44
  },
  {
   "metadata": {},
   "cell_type": "markdown",
   "source": "Аналогичным образом получим матрицу с весами по жанрам для какого-нибудь пользователя, например, для пользователя с идентификатором 1000010. ",
   "id": "e5cf0782e9a12c1a"
  },
  {
   "metadata": {
    "ExecuteTime": {
     "end_time": "2024-10-22T00:17:59.329217Z",
     "start_time": "2024-10-22T00:17:59.245446Z"
    }
   },
   "cell_type": "code",
   "source": [
    "user_id = 1000010\n",
    "user_events = events_train.query(\"user_id == @user_id\")[[\"item_id\", \"rating\"]]\n",
    "user_items = items[items[\"item_id\"].isin(user_events[\"item_id\"])]\n",
    "\n",
    "user_items_genres_csr = get_item2genre_matrix(genres, user_items)"
   ],
   "id": "367bfbc8e54dbc8c",
   "outputs": [],
   "execution_count": 45
  },
  {
   "metadata": {},
   "cell_type": "markdown",
   "source": "Сколько получилось существующих элементов в user_items_genres_csr для выбранного пользователя",
   "id": "26f3cc701e540e26"
  },
  {
   "metadata": {
    "ExecuteTime": {
     "end_time": "2024-10-22T00:19:53.267837Z",
     "start_time": "2024-10-22T00:19:53.265774Z"
    }
   },
   "cell_type": "code",
   "source": "print(user_items_genres_csr.nnz)",
   "id": "5a8c26010451aa3c",
   "outputs": [
    {
     "name": "stdout",
     "output_type": "stream",
     "text": [
      "149\n"
     ]
    }
   ],
   "execution_count": 51
  },
  {
   "metadata": {
    "ExecuteTime": {
     "end_time": "2024-10-22T00:20:55.920140Z",
     "start_time": "2024-10-22T00:20:55.915118Z"
    }
   },
   "cell_type": "code",
   "source": [
    "# вычислим склонность пользователя к жанрам как среднее взвешенное значение популяции на его оценки книг.\n",
    "\n",
    "# преобразуем пользовательские оценки из списка в вектор-столбец\n",
    "user_ratings = user_events[\"rating\"].to_numpy() / 5\n",
    "user_ratings = np.expand_dims(user_ratings, axis=1)\n",
    "\n",
    "user_items_genres_weighted = user_items_genres_csr.multiply(user_ratings)\n",
    "\n",
    "user_genres_scores = np.asarray(user_items_genres_weighted.mean(axis=0))"
   ],
   "id": "b31a578df5ff4a4",
   "outputs": [],
   "execution_count": 52
  },
  {
   "metadata": {
    "ExecuteTime": {
     "end_time": "2024-10-22T00:20:56.400129Z",
     "start_time": "2024-10-22T00:20:56.394193Z"
    }
   },
   "cell_type": "code",
   "source": [
    "# выведем список жанров, которые предпочитает пользователь\n",
    "\n",
    "user_genres = genres.copy()\n",
    "user_genres[\"score\"] = np.ravel(user_genres_scores)\n",
    "user_genres = user_genres[user_genres[\"score\"] > 0].sort_values(by=[\"score\"], ascending=False)\n",
    "\n",
    "user_genres.head(5)"
   ],
   "id": "554009eac92ef64a",
   "outputs": [
    {
     "data": {
      "text/plain": [
       "                     name    votes     score\n",
       "genre_id                                    \n",
       "1                 Fiction  6406256  0.185241\n",
       "38               Classics  3414934  0.103879\n",
       "25                Fantasy  6850060  0.072447\n",
       "5              Nonfiction  1737406  0.050865\n",
       "24        Science Fiction  1218917  0.040920"
      ],
      "text/html": [
       "<div>\n",
       "<style scoped>\n",
       "    .dataframe tbody tr th:only-of-type {\n",
       "        vertical-align: middle;\n",
       "    }\n",
       "\n",
       "    .dataframe tbody tr th {\n",
       "        vertical-align: top;\n",
       "    }\n",
       "\n",
       "    .dataframe thead th {\n",
       "        text-align: right;\n",
       "    }\n",
       "</style>\n",
       "<table border=\"1\" class=\"dataframe\">\n",
       "  <thead>\n",
       "    <tr style=\"text-align: right;\">\n",
       "      <th></th>\n",
       "      <th>name</th>\n",
       "      <th>votes</th>\n",
       "      <th>score</th>\n",
       "    </tr>\n",
       "    <tr>\n",
       "      <th>genre_id</th>\n",
       "      <th></th>\n",
       "      <th></th>\n",
       "      <th></th>\n",
       "    </tr>\n",
       "  </thead>\n",
       "  <tbody>\n",
       "    <tr>\n",
       "      <th>1</th>\n",
       "      <td>Fiction</td>\n",
       "      <td>6406256</td>\n",
       "      <td>0.185241</td>\n",
       "    </tr>\n",
       "    <tr>\n",
       "      <th>38</th>\n",
       "      <td>Classics</td>\n",
       "      <td>3414934</td>\n",
       "      <td>0.103879</td>\n",
       "    </tr>\n",
       "    <tr>\n",
       "      <th>25</th>\n",
       "      <td>Fantasy</td>\n",
       "      <td>6850060</td>\n",
       "      <td>0.072447</td>\n",
       "    </tr>\n",
       "    <tr>\n",
       "      <th>5</th>\n",
       "      <td>Nonfiction</td>\n",
       "      <td>1737406</td>\n",
       "      <td>0.050865</td>\n",
       "    </tr>\n",
       "    <tr>\n",
       "      <th>24</th>\n",
       "      <td>Science Fiction</td>\n",
       "      <td>1218917</td>\n",
       "      <td>0.040920</td>\n",
       "    </tr>\n",
       "  </tbody>\n",
       "</table>\n",
       "</div>"
      ]
     },
     "execution_count": 53,
     "metadata": {},
     "output_type": "execute_result"
    }
   ],
   "execution_count": 53
  },
  {
   "metadata": {},
   "cell_type": "markdown",
   "source": "Получите наиболее релевантные рекомендации для пользователя. Дополните код так, чтобы переменная top_k_indices заполнялась индексами соответствующих книг. Для этого удобно использовать np.argsort от similarity_scores, подсчитанной для всех книг.",
   "id": "83040ea00edb6b62"
  },
  {
   "metadata": {
    "ExecuteTime": {
     "end_time": "2024-10-22T00:24:30.966524Z",
     "start_time": "2024-10-22T00:24:30.954368Z"
    }
   },
   "cell_type": "code",
   "source": [
    "from sklearn.metrics.pairwise import cosine_similarity\n",
    "\n",
    "# вычисляем сходство между вектором пользователя и векторами по книгам\n",
    "similarity_scores = cosine_similarity(all_items_genres_csr, user_genres_scores)\n",
    "\n",
    "# преобразуем в одномерный массив\n",
    "similarity_scores = similarity_scores.flatten()\n",
    "\n",
    "# получаем индексы top-k (по убыванию значений), по сути, индексы книг (encoded)\n",
    "k = 5\n",
    "top_k_indices = np.argsort(similarity_scores)[::-1][:k]"
   ],
   "id": "631398f43ebec47f",
   "outputs": [],
   "execution_count": 54
  },
  {
   "metadata": {
    "ExecuteTime": {
     "end_time": "2024-10-22T00:24:31.517073Z",
     "start_time": "2024-10-22T00:24:31.515140Z"
    }
   },
   "cell_type": "code",
   "source": "print(top_k_indices)",
   "id": "d095a09555cb851a",
   "outputs": [
    {
     "name": "stdout",
     "output_type": "stream",
     "text": [
      "[ 4471 36093 14087  9476  4460]\n"
     ]
    }
   ],
   "execution_count": 55
  },
  {
   "metadata": {},
   "cell_type": "markdown",
   "source": "После вычисления top_k_indices по полученным индексам извлеките список объектов, которые могут быть интересны пользователю",
   "id": "7f7afa8862b9bcbc"
  },
  {
   "metadata": {
    "ExecuteTime": {
     "end_time": "2024-10-22T00:24:33.843895Z",
     "start_time": "2024-10-22T00:24:33.835680Z"
    }
   },
   "cell_type": "code",
   "source": [
    "selected_items = items[items[\"item_id_enc\"].isin(top_k_indices)]\n",
    "\n",
    "with pd.option_context(\"max_colwidth\", 100):\n",
    "    display(selected_items[[\"author\", \"title\", \"genre_and_votes\"]])"
   ],
   "id": "885ccc8d2bc2e54a",
   "outputs": [
    {
     "data": {
      "text/plain": [
       "                                                 author  \\\n",
       "80465                                   G.K. Chesterton   \n",
       "1168335                                    Ray Bradbury   \n",
       "393210                 G.K. Chesterton, Jonathan Lethem   \n",
       "2244467                                   Samuel Butler   \n",
       "39408    Paulo Coelho, Alan R. Clarke, James Noel Smith   \n",
       "\n",
       "                                         title  \\\n",
       "80465             The Napoleon of Notting Hill   \n",
       "1168335        Dandelion Wine (Green Town, #1)   \n",
       "393210   The Man Who Was Thursday: A Nightmare   \n",
       "2244467                 Erewhon (Erewhon , #1)   \n",
       "39408                            The Alchemist   \n",
       "\n",
       "                                                                                             genre_and_votes  \n",
       "80465                         {'Fiction': 166, 'Classics': 88, 'Fantasy': 44, 'Humor': 22, 'Literature': 20}  \n",
       "1168335       {'Fiction': 1438, 'Classics': 914, 'Science Fiction': 529, 'Fantasy': 456, 'Young Adult': 212}  \n",
       "393210   {'Fiction': 1257, 'Classics': 929, 'Mystery': 469, 'Fantasy': 293, 'Philosophy': 156, 'Literatur...  \n",
       "2244467                              {'Fiction': 162, 'Classics': 139, 'Science Fiction': 60, 'Fantasy': 55}  \n",
       "39408                              {'Fiction': 14023, 'Classics': 5787, 'Fantasy': 3289, 'Philosophy': 2759}  "
      ],
      "text/html": [
       "<div>\n",
       "<style scoped>\n",
       "    .dataframe tbody tr th:only-of-type {\n",
       "        vertical-align: middle;\n",
       "    }\n",
       "\n",
       "    .dataframe tbody tr th {\n",
       "        vertical-align: top;\n",
       "    }\n",
       "\n",
       "    .dataframe thead th {\n",
       "        text-align: right;\n",
       "    }\n",
       "</style>\n",
       "<table border=\"1\" class=\"dataframe\">\n",
       "  <thead>\n",
       "    <tr style=\"text-align: right;\">\n",
       "      <th></th>\n",
       "      <th>author</th>\n",
       "      <th>title</th>\n",
       "      <th>genre_and_votes</th>\n",
       "    </tr>\n",
       "  </thead>\n",
       "  <tbody>\n",
       "    <tr>\n",
       "      <th>80465</th>\n",
       "      <td>G.K. Chesterton</td>\n",
       "      <td>The Napoleon of Notting Hill</td>\n",
       "      <td>{'Fiction': 166, 'Classics': 88, 'Fantasy': 44, 'Humor': 22, 'Literature': 20}</td>\n",
       "    </tr>\n",
       "    <tr>\n",
       "      <th>1168335</th>\n",
       "      <td>Ray Bradbury</td>\n",
       "      <td>Dandelion Wine (Green Town, #1)</td>\n",
       "      <td>{'Fiction': 1438, 'Classics': 914, 'Science Fiction': 529, 'Fantasy': 456, 'Young Adult': 212}</td>\n",
       "    </tr>\n",
       "    <tr>\n",
       "      <th>393210</th>\n",
       "      <td>G.K. Chesterton, Jonathan Lethem</td>\n",
       "      <td>The Man Who Was Thursday: A Nightmare</td>\n",
       "      <td>{'Fiction': 1257, 'Classics': 929, 'Mystery': 469, 'Fantasy': 293, 'Philosophy': 156, 'Literatur...</td>\n",
       "    </tr>\n",
       "    <tr>\n",
       "      <th>2244467</th>\n",
       "      <td>Samuel Butler</td>\n",
       "      <td>Erewhon (Erewhon , #1)</td>\n",
       "      <td>{'Fiction': 162, 'Classics': 139, 'Science Fiction': 60, 'Fantasy': 55}</td>\n",
       "    </tr>\n",
       "    <tr>\n",
       "      <th>39408</th>\n",
       "      <td>Paulo Coelho, Alan R. Clarke, James Noel Smith</td>\n",
       "      <td>The Alchemist</td>\n",
       "      <td>{'Fiction': 14023, 'Classics': 5787, 'Fantasy': 3289, 'Philosophy': 2759}</td>\n",
       "    </tr>\n",
       "  </tbody>\n",
       "</table>\n",
       "</div>"
      ]
     },
     "metadata": {},
     "output_type": "display_data"
    }
   ],
   "execution_count": 56
  },
  {
   "metadata": {},
   "cell_type": "code",
   "outputs": [],
   "execution_count": null,
   "source": "",
   "id": "28ca3d34ab213ed6"
  },
  {
   "metadata": {},
   "cell_type": "markdown",
   "source": "### Валидация",
   "id": "9a3b777b0126a038"
  },
  {
   "metadata": {},
   "cell_type": "markdown",
   "source": "Валидация рекомендательной системы — это процесс оценки, насколько эффективно и точно она предсказывает предпочтения пользователей. Валидация помогает определить, насколько хорошо система выполняет свою задачу.",
   "id": "7ab4e1f9f9cf8e5d"
  },
  {
   "metadata": {},
   "cell_type": "markdown",
   "source": [
    "Посчитаем recall и precision для ALS-рекомендаций (als_recommendations). Для этого события в тестовой выборке и рекомендации для одних и тех же пользователей разметим признаками:\n",
    "- gt (ground truth): объект есть в тестовой выборке;\n",
    "- pr (predicted): объект есть в рекомендациях.\n",
    "\n",
    "Теперь разметим признаки бинарной классификации:\n",
    "- TP: объект есть и в тестовой выборке, и в рекомендациях (истинная рекомендация),\n",
    "- FP: объекта нет в тестовой выборке, но он есть в рекомендациях (ложноположительная рекомендация),\n",
    "- FN: объект есть в тестовой выборке, но его нет в рекомендациях (ложноотрицательная рекомендация)"
   ],
   "id": "e929b258849f24ed"
  },
  {
   "metadata": {},
   "cell_type": "markdown",
   "source": "Ниже приведён код для такой разметки:",
   "id": "f0d19a445b106f9c"
  },
  {
   "metadata": {
    "ExecuteTime": {
     "end_time": "2024-10-22T00:35:23.822342Z",
     "start_time": "2024-10-22T00:35:23.816114Z"
    }
   },
   "cell_type": "code",
   "source": [
    "def process_events_recs_for_binary_metrics(events_train, events_test, recs, top_k=None):\n",
    "    \"\"\"\n",
    "    размечает пары <user_id, item_id> для общего множества пользователей признаками\n",
    "    - gt (ground truth)\n",
    "    - pr (prediction)\n",
    "    top_k: расчёт ведётся только для top k-рекомендаций\n",
    "    \"\"\"\n",
    "\n",
    "    events_test[\"gt\"] = True\n",
    "    common_users = set(events_test[\"user_id\"]) & set(recs[\"user_id\"])\n",
    "\n",
    "    print(f\"Common users: {len(common_users)}\")\n",
    "\n",
    "    events_for_common_users = events_test[events_test[\"user_id\"].isin(common_users)].copy()\n",
    "    recs_for_common_users = recs[recs[\"user_id\"].isin(common_users)].copy()\n",
    "\n",
    "    recs_for_common_users = recs_for_common_users.sort_values([\"user_id\", \"score\"], ascending=[True, False])\n",
    "\n",
    "    # оставляет только те item_id, которые были в events_train, \n",
    "    # т. к. модель не имела никакой возможности давать рекомендации для новых айтемов\n",
    "    events_for_common_users = events_for_common_users[\n",
    "        events_for_common_users[\"item_id\"].isin(events_train[\"item_id\"].unique())]\n",
    "\n",
    "    if top_k is not None:\n",
    "        recs_for_common_users = recs_for_common_users.groupby(\"user_id\").head(top_k)\n",
    "\n",
    "    events_recs_common = events_for_common_users[[\"user_id\", \"item_id\", \"gt\"]].merge(\n",
    "        recs_for_common_users[[\"user_id\", \"item_id\", \"score\"]],\n",
    "        on=[\"user_id\", \"item_id\"], how=\"outer\")\n",
    "\n",
    "    events_recs_common[\"gt\"] = events_recs_common[\"gt\"].fillna(False)\n",
    "    events_recs_common[\"pr\"] = ~events_recs_common[\"score\"].isnull()\n",
    "\n",
    "    events_recs_common[\"tp\"] = events_recs_common[\"gt\"] & events_recs_common[\"pr\"]\n",
    "    events_recs_common[\"fp\"] = ~events_recs_common[\"gt\"] & events_recs_common[\"pr\"]\n",
    "    events_recs_common[\"fn\"] = events_recs_common[\"gt\"] & ~events_recs_common[\"pr\"]\n",
    "\n",
    "    return events_recs_common"
   ],
   "id": "6055add4f0fc3d60",
   "outputs": [],
   "execution_count": 58
  },
  {
   "metadata": {
    "ExecuteTime": {
     "end_time": "2024-10-22T00:35:33.579876Z",
     "start_time": "2024-10-22T00:35:24.503775Z"
    }
   },
   "cell_type": "code",
   "source": [
    "# Обработаем ALS-рекомендации для подсчёта метрик для 5 лучших рекомендаций:\n",
    "events_recs_for_binary_metrics = process_events_recs_for_binary_metrics(\n",
    "    events_train,\n",
    "    events_test,\n",
    "    als_recommendations,\n",
    "    top_k=5\n",
    ")"
   ],
   "id": "cf54021b6d84b0f8",
   "outputs": [
    {
     "name": "stderr",
     "output_type": "stream",
     "text": [
      "/var/folders/bx/8n6_vdf94z7gqkmk97lf4mnh0000gn/T/ipykernel_76659/2783672476.py:9: SettingWithCopyWarning: \n",
      "A value is trying to be set on a copy of a slice from a DataFrame.\n",
      "Try using .loc[row_indexer,col_indexer] = value instead\n",
      "\n",
      "See the caveats in the documentation: https://pandas.pydata.org/pandas-docs/stable/user_guide/indexing.html#returning-a-view-versus-a-copy\n",
      "  events_test[\"gt\"] = True\n"
     ]
    },
    {
     "name": "stdout",
     "output_type": "stream",
     "text": [
      "Common users: 123223\n"
     ]
    },
    {
     "name": "stderr",
     "output_type": "stream",
     "text": [
      "/var/folders/bx/8n6_vdf94z7gqkmk97lf4mnh0000gn/T/ipykernel_76659/2783672476.py:31: FutureWarning: Downcasting object dtype arrays on .fillna, .ffill, .bfill is deprecated and will change in a future version. Call result.infer_objects(copy=False) instead. To opt-in to the future behavior, set `pd.set_option('future.no_silent_downcasting', True)`\n",
      "  events_recs_common[\"gt\"] = events_recs_common[\"gt\"].fillna(False)\n"
     ]
    }
   ],
   "execution_count": 59
  },
  {
   "metadata": {
    "ExecuteTime": {
     "end_time": "2024-10-22T00:35:33.583192Z",
     "start_time": "2024-10-22T00:35:33.580875Z"
    }
   },
   "cell_type": "code",
   "source": [
    "# Функции compute_cls_metrics для расчёта recall.\n",
    "def compute_cls_metrics(events_recs_for_binary_metric):\n",
    "    \n",
    "    groupper = events_recs_for_binary_metric.groupby(\"user_id\")\n",
    "\n",
    "    # precision = tp / (tp + fp)\n",
    "    precision = groupper[\"tp\"].sum() / (groupper[\"tp\"].sum() + groupper[\"fp\"].sum())\n",
    "    precision = precision.fillna(0).mean()\n",
    "    \n",
    "    # recall = tp / (tp + fn)\n",
    "    recall = groupper[\"tp\"].sum() / (groupper[\"tp\"].sum() + groupper[\"fn\"].sum())\n",
    "    recall = recall.fillna(0).mean()\n",
    "\n",
    "    return precision, recall"
   ],
   "id": "2bec448c426cc85d",
   "outputs": [],
   "execution_count": 60
  },
  {
   "metadata": {
    "ExecuteTime": {
     "end_time": "2024-10-22T00:36:25.524779Z",
     "start_time": "2024-10-22T00:36:25.471070Z"
    }
   },
   "cell_type": "code",
   "source": [
    "# Пример использования функции\n",
    "precision_at_5, recall_at_5 = compute_cls_metrics(events_recs_for_binary_metrics)\n",
    "print(f\"Precision@5: {precision_at_5:.3f}, Recall@5: {recall_at_5:.3f}\")"
   ],
   "id": "92373253af09d400",
   "outputs": [
    {
     "name": "stdout",
     "output_type": "stream",
     "text": [
      "Precision@5: 0.008, Recall@5: 0.014\n"
     ]
    }
   ],
   "execution_count": 62
  },
  {
   "metadata": {
    "ExecuteTime": {
     "end_time": "2024-10-22T00:38:52.834077Z",
     "start_time": "2024-10-22T00:38:43.353706Z"
    }
   },
   "cell_type": "code",
   "source": [
    "events_recs_for_binary_metrics_10 = process_events_recs_for_binary_metrics(\n",
    "    events_train,\n",
    "    events_test,\n",
    "    als_recommendations,\n",
    "    top_k=10\n",
    ")"
   ],
   "id": "1ebdc714a67b8294",
   "outputs": [
    {
     "name": "stderr",
     "output_type": "stream",
     "text": [
      "/var/folders/bx/8n6_vdf94z7gqkmk97lf4mnh0000gn/T/ipykernel_76659/2783672476.py:9: SettingWithCopyWarning: \n",
      "A value is trying to be set on a copy of a slice from a DataFrame.\n",
      "Try using .loc[row_indexer,col_indexer] = value instead\n",
      "\n",
      "See the caveats in the documentation: https://pandas.pydata.org/pandas-docs/stable/user_guide/indexing.html#returning-a-view-versus-a-copy\n",
      "  events_test[\"gt\"] = True\n"
     ]
    },
    {
     "name": "stdout",
     "output_type": "stream",
     "text": [
      "Common users: 123223\n"
     ]
    },
    {
     "name": "stderr",
     "output_type": "stream",
     "text": [
      "/var/folders/bx/8n6_vdf94z7gqkmk97lf4mnh0000gn/T/ipykernel_76659/2783672476.py:31: FutureWarning: Downcasting object dtype arrays on .fillna, .ffill, .bfill is deprecated and will change in a future version. Call result.infer_objects(copy=False) instead. To opt-in to the future behavior, set `pd.set_option('future.no_silent_downcasting', True)`\n",
      "  events_recs_common[\"gt\"] = events_recs_common[\"gt\"].fillna(False)\n"
     ]
    }
   ],
   "execution_count": 63
  },
  {
   "metadata": {
    "ExecuteTime": {
     "end_time": "2024-10-22T00:38:52.882222Z",
     "start_time": "2024-10-22T00:38:52.835117Z"
    }
   },
   "cell_type": "code",
   "source": [
    "precision_at_10, recall_at_10 = compute_cls_metrics(events_recs_for_binary_metrics_10)\n",
    "print(f\"Precision@10: {precision_at_10:.3f}, Recall@10: {recall_at_10:.3f}\")"
   ],
   "id": "adf46f3ea27d61b6",
   "outputs": [
    {
     "name": "stdout",
     "output_type": "stream",
     "text": [
      "Precision@10: 0.009, Recall@10: 0.031\n"
     ]
    }
   ],
   "execution_count": 64
  },
  {
   "metadata": {},
   "cell_type": "code",
   "outputs": [],
   "execution_count": null,
   "source": "",
   "id": "8a53762245b5e947"
  }
 ],
 "metadata": {
  "kernelspec": {
   "display_name": "Python 3",
   "language": "python",
   "name": "python3"
  },
  "language_info": {
   "codemirror_mode": {
    "name": "ipython",
    "version": 2
   },
   "file_extension": ".py",
   "mimetype": "text/x-python",
   "name": "python",
   "nbconvert_exporter": "python",
   "pygments_lexer": "ipython2",
   "version": "2.7.6"
  }
 },
 "nbformat": 4,
 "nbformat_minor": 5
}

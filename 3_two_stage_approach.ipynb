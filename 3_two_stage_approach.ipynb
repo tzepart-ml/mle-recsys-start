{
 "cells": [
  {
   "cell_type": "code",
   "id": "initial_id",
   "metadata": {
    "collapsed": true,
    "ExecuteTime": {
     "end_time": "2024-10-22T13:51:01.538370Z",
     "start_time": "2024-10-22T13:51:01.536653Z"
    }
   },
   "source": [
    "import sys\n",
    "import json\n",
    "import pandas as pd\n",
    "import scipy\n",
    "import sklearn.preprocessing\n",
    "import numpy as np"
   ],
   "outputs": [],
   "execution_count": 88
  },
  {
   "metadata": {
    "ExecuteTime": {
     "end_time": "2024-10-22T11:54:14.579741Z",
     "start_time": "2024-10-22T11:54:14.014903Z"
    }
   },
   "cell_type": "code",
   "source": "als_recommendations = pd.read_parquet(\"./data/als_recommendations.parquet\")",
   "id": "3823ecba22fe5a3b",
   "outputs": [],
   "execution_count": 19
  },
  {
   "metadata": {
    "ExecuteTime": {
     "end_time": "2024-10-22T12:02:54.362587Z",
     "start_time": "2024-10-22T12:02:53.949562Z"
    }
   },
   "cell_type": "code",
   "source": "events = pd.read_parquet(\"./data/events.parquet\")",
   "id": "d25d3f19f4356fef",
   "outputs": [],
   "execution_count": 26
  },
  {
   "metadata": {
    "ExecuteTime": {
     "end_time": "2024-10-22T11:54:14.585674Z",
     "start_time": "2024-10-22T11:54:14.580857Z"
    }
   },
   "cell_type": "code",
   "source": "als_recommendations.head()",
   "id": "87c135e55d7e7401",
   "outputs": [
    {
     "data": {
      "text/plain": [
       "   user_id  item_id     score\n",
       "0  1000000        3  0.990942\n",
       "1  1000000    15881  0.896617\n",
       "2  1000000        5  0.864405\n",
       "3  1000000        6  0.822256\n",
       "4  1000000        2  0.774097"
      ],
      "text/html": [
       "<div>\n",
       "<style scoped>\n",
       "    .dataframe tbody tr th:only-of-type {\n",
       "        vertical-align: middle;\n",
       "    }\n",
       "\n",
       "    .dataframe tbody tr th {\n",
       "        vertical-align: top;\n",
       "    }\n",
       "\n",
       "    .dataframe thead th {\n",
       "        text-align: right;\n",
       "    }\n",
       "</style>\n",
       "<table border=\"1\" class=\"dataframe\">\n",
       "  <thead>\n",
       "    <tr style=\"text-align: right;\">\n",
       "      <th></th>\n",
       "      <th>user_id</th>\n",
       "      <th>item_id</th>\n",
       "      <th>score</th>\n",
       "    </tr>\n",
       "  </thead>\n",
       "  <tbody>\n",
       "    <tr>\n",
       "      <th>0</th>\n",
       "      <td>1000000</td>\n",
       "      <td>3</td>\n",
       "      <td>0.990942</td>\n",
       "    </tr>\n",
       "    <tr>\n",
       "      <th>1</th>\n",
       "      <td>1000000</td>\n",
       "      <td>15881</td>\n",
       "      <td>0.896617</td>\n",
       "    </tr>\n",
       "    <tr>\n",
       "      <th>2</th>\n",
       "      <td>1000000</td>\n",
       "      <td>5</td>\n",
       "      <td>0.864405</td>\n",
       "    </tr>\n",
       "    <tr>\n",
       "      <th>3</th>\n",
       "      <td>1000000</td>\n",
       "      <td>6</td>\n",
       "      <td>0.822256</td>\n",
       "    </tr>\n",
       "    <tr>\n",
       "      <th>4</th>\n",
       "      <td>1000000</td>\n",
       "      <td>2</td>\n",
       "      <td>0.774097</td>\n",
       "    </tr>\n",
       "  </tbody>\n",
       "</table>\n",
       "</div>"
      ]
     },
     "execution_count": 20,
     "metadata": {},
     "output_type": "execute_result"
    }
   ],
   "execution_count": 20
  },
  {
   "metadata": {
    "ExecuteTime": {
     "end_time": "2024-10-22T11:54:14.590639Z",
     "start_time": "2024-10-22T11:54:14.586219Z"
    }
   },
   "cell_type": "code",
   "source": "als_recommendations.info()",
   "id": "fec95d1be8be1723",
   "outputs": [
    {
     "name": "stdout",
     "output_type": "stream",
     "text": [
      "<class 'pandas.core.frame.DataFrame'>\n",
      "RangeIndex: 43058500 entries, 0 to 43058499\n",
      "Data columns (total 3 columns):\n",
      " #   Column   Dtype  \n",
      "---  ------   -----  \n",
      " 0   user_id  int64  \n",
      " 1   item_id  int64  \n",
      " 2   score    float64\n",
      "dtypes: float64(1), int64(2)\n",
      "memory usage: 985.5 MB\n"
     ]
    }
   ],
   "execution_count": 21
  },
  {
   "metadata": {
    "ExecuteTime": {
     "end_time": "2024-10-22T11:54:20.320265Z",
     "start_time": "2024-10-22T11:54:14.592488Z"
    }
   },
   "cell_type": "code",
   "source": "top100_recommendations = als_recommendations.sort_values(by='score', ascending=False).head(100)",
   "id": "90c84a166a087f7b",
   "outputs": [],
   "execution_count": 22
  },
  {
   "metadata": {
    "ExecuteTime": {
     "end_time": "2024-10-22T11:54:20.326780Z",
     "start_time": "2024-10-22T11:54:20.322017Z"
    }
   },
   "cell_type": "code",
   "source": "top100_recommendations.head()",
   "id": "d7be13b1b60cbdec",
   "outputs": [
    {
     "data": {
      "text/plain": [
       "          user_id   item_id     score\n",
       "5783400   1057834  11387515  2.350093\n",
       "16444300  1164443     10964  2.234873\n",
       "13665700  1136657  29056083  2.224305\n",
       "32614600  1326146   9969571  2.193836\n",
       "40560200  1405602     10964  2.181578"
      ],
      "text/html": [
       "<div>\n",
       "<style scoped>\n",
       "    .dataframe tbody tr th:only-of-type {\n",
       "        vertical-align: middle;\n",
       "    }\n",
       "\n",
       "    .dataframe tbody tr th {\n",
       "        vertical-align: top;\n",
       "    }\n",
       "\n",
       "    .dataframe thead th {\n",
       "        text-align: right;\n",
       "    }\n",
       "</style>\n",
       "<table border=\"1\" class=\"dataframe\">\n",
       "  <thead>\n",
       "    <tr style=\"text-align: right;\">\n",
       "      <th></th>\n",
       "      <th>user_id</th>\n",
       "      <th>item_id</th>\n",
       "      <th>score</th>\n",
       "    </tr>\n",
       "  </thead>\n",
       "  <tbody>\n",
       "    <tr>\n",
       "      <th>5783400</th>\n",
       "      <td>1057834</td>\n",
       "      <td>11387515</td>\n",
       "      <td>2.350093</td>\n",
       "    </tr>\n",
       "    <tr>\n",
       "      <th>16444300</th>\n",
       "      <td>1164443</td>\n",
       "      <td>10964</td>\n",
       "      <td>2.234873</td>\n",
       "    </tr>\n",
       "    <tr>\n",
       "      <th>13665700</th>\n",
       "      <td>1136657</td>\n",
       "      <td>29056083</td>\n",
       "      <td>2.224305</td>\n",
       "    </tr>\n",
       "    <tr>\n",
       "      <th>32614600</th>\n",
       "      <td>1326146</td>\n",
       "      <td>9969571</td>\n",
       "      <td>2.193836</td>\n",
       "    </tr>\n",
       "    <tr>\n",
       "      <th>40560200</th>\n",
       "      <td>1405602</td>\n",
       "      <td>10964</td>\n",
       "      <td>2.181578</td>\n",
       "    </tr>\n",
       "  </tbody>\n",
       "</table>\n",
       "</div>"
      ]
     },
     "execution_count": 23,
     "metadata": {},
     "output_type": "execute_result"
    }
   ],
   "execution_count": 23
  },
  {
   "metadata": {
    "ExecuteTime": {
     "end_time": "2024-10-22T11:54:20.408468Z",
     "start_time": "2024-10-22T11:54:20.327469Z"
    }
   },
   "cell_type": "code",
   "source": [
    "# расчёт покрытия по объектам\n",
    "# Предполагаем, что als_recommendations — это DataFrame с колонкой 'item_id', содержащей рекомендации для всех пользователей\n",
    "# Получаем уникальные объекты, которые присутствуют в рекомендациях\n",
    "recommended_items = set(top100_recommendations['item_id'].unique())\n",
    "\n",
    "# Общее количество объектов в системе (все возможные item_id в items)\n",
    "total_items = len(als_recommendations[\"item_id\"].unique())\n",
    "\n",
    "# Вычисляем покрытие по объектам\n",
    "cov_items = len(recommended_items) / total_items\n",
    "\n",
    "print(f\"{cov_items:.2f}\")"
   ],
   "id": "b9ebb9571ba5ca53",
   "outputs": [
    {
     "name": "stdout",
     "output_type": "stream",
     "text": [
      "0.01\n"
     ]
    }
   ],
   "execution_count": 24
  },
  {
   "metadata": {
    "ExecuteTime": {
     "end_time": "2024-10-22T12:03:02.377909Z",
     "start_time": "2024-10-22T12:03:01.678695Z"
    }
   },
   "cell_type": "code",
   "source": [
    "# зададим точку разбиения\n",
    "train_test_global_time_split_date = pd.to_datetime(\"2017-08-01\").date()\n",
    "train_test_global_time_split_idx = events[\"started_at\"] < train_test_global_time_split_date\n",
    "events_train = events[train_test_global_time_split_idx]\n",
    "events_test = events[~train_test_global_time_split_idx]"
   ],
   "id": "ca982fd066b4dcf6",
   "outputs": [],
   "execution_count": 27
  },
  {
   "metadata": {},
   "cell_type": "markdown",
   "source": [
    "Посчитайте среднее Novelty@5 для als_recommendations. Для этого: \n",
    "- разметьте каждую рекомендацию в als_recommendations булевым признаком read (False — пользователь не читал книгу, True — пользователь читал книгу), используя events_train,\n",
    "- посчитайте Novelty@5 для каждого пользователя,\n",
    "- посчитайте среднеарифметическое для полученных значений Novelty@5."
   ],
   "id": "87ccf49efc3abb79"
  },
  {
   "metadata": {
    "ExecuteTime": {
     "end_time": "2024-10-22T12:08:03.920640Z",
     "start_time": "2024-10-22T12:07:24.884497Z"
    }
   },
   "cell_type": "code",
   "source": [
    "# разметим каждую рекомендацию признаком read\n",
    "events_train[\"read\"] = True\n",
    "als_recommendations = als_recommendations.merge(\n",
    "    events_train[[\"user_id\", \"item_id\", \"read\"]],\n",
    "    on=[\"user_id\", \"item_id\"],\n",
    "    how=\"left\"\n",
    ")\n",
    "als_recommendations[\"read\"] = (als_recommendations[\"read\"].fillna(False).astype(\"bool\"))\n",
    "\n",
    "# проставим ранги\n",
    "als_recommendations = als_recommendations.sort_values(by=[\"user_id\", \"score\"], ascending=[True, False])\n",
    "als_recommendations[\"rank\"] = als_recommendations.groupby(\"user_id\").cumcount() + 1\n",
    "\n",
    "# посчитаем novelty по пользователям\n",
    "novelty_5 = (1 - als_recommendations.query(\"rank <= 5\").groupby(\"user_id\")[\"read\"].mean())\n",
    "\n",
    "# посчитаем средний novelty\n",
    "average_novelty_5 = novelty_5.mean()\n",
    "\n",
    "print(f\"{average_novelty_5:.2f}\")"
   ],
   "id": "aa5c50b0acbb8d61",
   "outputs": [
    {
     "name": "stderr",
     "output_type": "stream",
     "text": [
      "/var/folders/bx/8n6_vdf94z7gqkmk97lf4mnh0000gn/T/ipykernel_81636/3355860592.py:2: SettingWithCopyWarning: \n",
      "A value is trying to be set on a copy of a slice from a DataFrame.\n",
      "Try using .loc[row_indexer,col_indexer] = value instead\n",
      "\n",
      "See the caveats in the documentation: https://pandas.pydata.org/pandas-docs/stable/user_guide/indexing.html#returning-a-view-versus-a-copy\n",
      "  events_train[\"read\"] = True\n",
      "/var/folders/bx/8n6_vdf94z7gqkmk97lf4mnh0000gn/T/ipykernel_81636/3355860592.py:9: FutureWarning: Downcasting object dtype arrays on .fillna, .ffill, .bfill is deprecated and will change in a future version. Call result.infer_objects(copy=False) instead. To opt-in to the future behavior, set `pd.set_option('future.no_silent_downcasting', True)`\n",
      "  als_recommendations[\"read\"] = als_recommendations[\"read\"].fillna(False).astype(\"bool\")\n"
     ]
    },
    {
     "name": "stdout",
     "output_type": "stream",
     "text": [
      "0.61\n"
     ]
    }
   ],
   "execution_count": 30
  },
  {
   "metadata": {},
   "cell_type": "markdown",
   "source": [
    "Задание 1 из 6\n",
    "\n",
    "Используем отложенную тестовую часть данных — назовём её events_test — для получения двух новых частей данных:\n",
    "- одна, составляющая первые 45 дней, будет использоваться для таргетов,\n",
    "- другая, состоящая из 45 последних дней, будет новой тестовой выборкой.\n",
    "\n",
    "Завершите код так, чтобы в events_labels оказалась первая часть данных, а в events_test_2 — вторая."
   ],
   "id": "95e3c4ef4683370f"
  },
  {
   "metadata": {
    "ExecuteTime": {
     "end_time": "2024-10-22T12:25:15.299620Z",
     "start_time": "2024-10-22T12:25:15.259598Z"
    }
   },
   "cell_type": "code",
   "source": [
    "# задаём точку разбиения\n",
    "split_date_for_labels = pd.to_datetime(\"2017-09-15\").date()\n",
    "\n",
    "split_date_for_labels_idx = events_test[\"started_at\"] < split_date_for_labels\n",
    "events_labels = events_test[split_date_for_labels_idx].copy()\n",
    "events_test_2 = events_test[~split_date_for_labels_idx].copy()"
   ],
   "id": "c771020c413f2c8e",
   "outputs": [],
   "execution_count": 31
  },
  {
   "metadata": {
    "ExecuteTime": {
     "end_time": "2024-10-22T12:25:52.020858Z",
     "start_time": "2024-10-22T12:25:52.013726Z"
    }
   },
   "cell_type": "code",
   "source": "len(events_labels['user_id'].unique())",
   "id": "1b7a103bc09f3a9a",
   "outputs": [
    {
     "data": {
      "text/plain": [
       "99849"
      ]
     },
     "execution_count": 33,
     "metadata": {},
     "output_type": "execute_result"
    }
   ],
   "execution_count": 33
  },
  {
   "metadata": {},
   "cell_type": "markdown",
   "source": [
    "Задание 2 из 6\n",
    "\n",
    "Объедините имеющихся кандидатов по совпадению user_id, item_id в один список."
   ],
   "id": "9daeef73724440af"
  },
  {
   "metadata": {
    "ExecuteTime": {
     "end_time": "2024-10-22T12:48:23.228194Z",
     "start_time": "2024-10-22T12:47:50.296340Z"
    }
   },
   "cell_type": "code",
   "source": [
    "# загружаем рекомендации от двух базовых генераторов\n",
    "als_recommendations = pd.read_parquet(\"./candidates/training/als_recommendations.parquet\")\n",
    "content_recommendations = pd.read_parquet(\"./candidates/training/content_recommendations.parquet\")\n",
    "\n",
    "candidates = pd.merge(\n",
    "    als_recommendations[[\"user_id\", \"item_id\", \"score\"]].rename(columns={\"score\": \"als_score\"}),\n",
    "    content_recommendations[[\"user_id\", \"item_id\", \"score\"]].rename(columns={\"score\": \"cnt_score\"}),\n",
    "    on=[\"user_id\", \"item_id\"],\n",
    "    how=\"outer\"\n",
    ")"
   ],
   "id": "1297cd21f463a7c",
   "outputs": [],
   "execution_count": 35
  },
  {
   "metadata": {
    "ExecuteTime": {
     "end_time": "2024-10-22T12:48:23.234649Z",
     "start_time": "2024-10-22T12:48:23.229907Z"
    }
   },
   "cell_type": "code",
   "source": "len(candidates)",
   "id": "ab94a0c91773bc11",
   "outputs": [
    {
     "data": {
      "text/plain": [
       "82993094"
      ]
     },
     "execution_count": 36,
     "metadata": {},
     "output_type": "execute_result"
    }
   ],
   "execution_count": 36
  },
  {
   "metadata": {},
   "cell_type": "markdown",
   "source": [
    "Задание 3 из 6\n",
    "\n",
    "Дополните код ниже.\n",
    "- В candidates добавьте колонку target со значениями:\n",
    "- 1 для тех item_id, которые пользователь прочитал (положительный пример).\n",
    "- 0 — для всех остальных (негативный пример).\n",
    "- В candidates_for_train отберите все положительные примеры, а также не менее четырёх негативных примеров для каждого пользователя в положительных примерах."
   ],
   "id": "ed869a3ed75f742a"
  },
  {
   "metadata": {
    "ExecuteTime": {
     "end_time": "2024-10-22T12:57:41.120180Z",
     "start_time": "2024-10-22T12:57:09.886334Z"
    }
   },
   "cell_type": "code",
   "source": [
    "# добавляем таргет к кандидатам со значением:\n",
    "# — 1 для тех item_id, которые пользователь прочитал\n",
    "# — 0, для всех остальных \n",
    "events_labels[\"target\"] = 1\n",
    "candidates = candidates.merge(events_labels[[\"user_id\", \"item_id\", \"target\"]],\n",
    "                              on=[\"user_id\", \"item_id\"], how=\"left\")\n",
    "candidates[\"target\"] = candidates[\"target\"].fillna(0).astype(\"int\")\n",
    "\n",
    "# в кандидатах оставляем только тех пользователей, у которых есть хотя бы один положительный таргет\n",
    "candidates_to_sample = candidates.groupby(\"user_id\").filter(lambda x: x[\"target\"].sum() > 0)\n",
    "\n",
    "# для каждого пользователя оставляем только 4 негативных примера\n",
    "negatives_per_user = 4\n",
    "candidates_for_train = pd.concat([\n",
    "    candidates_to_sample.query(\"target == 1\"),\n",
    "    candidates_to_sample.query(\"target == 0\") \\\n",
    "        .groupby(\"user_id\") \\\n",
    "        .apply(lambda x: x.sample(negatives_per_user, random_state=0))\n",
    "])"
   ],
   "id": "3d9156007c72abaa",
   "outputs": [
    {
     "name": "stderr",
     "output_type": "stream",
     "text": [
      "/var/folders/bx/8n6_vdf94z7gqkmk97lf4mnh0000gn/T/ipykernel_81636/1758537609.py:19: DeprecationWarning: DataFrameGroupBy.apply operated on the grouping columns. This behavior is deprecated, and in a future version of pandas the grouping columns will be excluded from the operation. Either pass `include_groups=False` to exclude the groupings or explicitly select the grouping columns after groupby to silence this warning.\n",
      "  .apply(lambda x: x.sample(negatives_per_user, random_state=0))\n"
     ]
    }
   ],
   "execution_count": 37
  },
  {
   "metadata": {
    "ExecuteTime": {
     "end_time": "2024-10-22T12:57:41.123053Z",
     "start_time": "2024-10-22T12:57:41.121111Z"
    }
   },
   "cell_type": "code",
   "source": "len(candidates_for_train)",
   "id": "fab4f5f55849b7f9",
   "outputs": [
    {
     "data": {
      "text/plain": [
       "213708"
      ]
     },
     "execution_count": 38,
     "metadata": {},
     "output_type": "execute_result"
    }
   ],
   "execution_count": 38
  },
  {
   "metadata": {},
   "cell_type": "markdown",
   "source": "Обучение модели",
   "id": "8ad83df7cbce47ee"
  },
  {
   "metadata": {
    "ExecuteTime": {
     "end_time": "2024-10-22T12:58:40.332899Z",
     "start_time": "2024-10-22T12:58:29.664864Z"
    }
   },
   "cell_type": "code",
   "source": [
    "from catboost import CatBoostClassifier, Pool\n",
    "\n",
    "# задаём имена колонок признаков и таргета\n",
    "features = ['als_score', 'cnt_score']\n",
    "target = 'target'\n",
    "\n",
    "# Create the Pool object\n",
    "train_data = Pool(\n",
    "    data=candidates_for_train[features], \n",
    "    label=candidates_for_train[target])\n",
    "\n",
    "# инициализируем модель CatBoostClassifier\n",
    "cb_model = CatBoostClassifier(\n",
    "    iterations=1000,\n",
    "    learning_rate=0.1,\n",
    "    depth=6,\n",
    "    loss_function='Logloss',\n",
    "    verbose=100,\n",
    "    random_seed=0\n",
    ")\n",
    "\n",
    "# тренируем модель\n",
    "cb_model.fit(train_data)"
   ],
   "id": "7b59237a9ab5ade5",
   "outputs": [
    {
     "name": "stdout",
     "output_type": "stream",
     "text": [
      "0:\tlearn: 0.6490414\ttotal: 72.5ms\tremaining: 1m 12s\n",
      "100:\tlearn: 0.5023444\ttotal: 1.32s\tremaining: 11.8s\n",
      "200:\tlearn: 0.5015587\ttotal: 2.4s\tremaining: 9.55s\n",
      "300:\tlearn: 0.5008835\ttotal: 3.32s\tremaining: 7.71s\n",
      "400:\tlearn: 0.5002699\ttotal: 4.23s\tremaining: 6.32s\n",
      "500:\tlearn: 0.4997442\ttotal: 5.13s\tremaining: 5.11s\n",
      "600:\tlearn: 0.4992847\ttotal: 6.03s\tremaining: 4s\n",
      "700:\tlearn: 0.4988372\ttotal: 6.97s\tremaining: 2.97s\n",
      "800:\tlearn: 0.4984724\ttotal: 7.87s\tremaining: 1.95s\n",
      "900:\tlearn: 0.4981271\ttotal: 8.77s\tremaining: 964ms\n",
      "999:\tlearn: 0.4977725\ttotal: 9.68s\tremaining: 0us\n"
     ]
    },
    {
     "data": {
      "text/plain": [
       "<catboost.core.CatBoostClassifier at 0x158711350>"
      ]
     },
     "execution_count": 39,
     "metadata": {},
     "output_type": "execute_result"
    }
   ],
   "execution_count": 39
  },
  {
   "metadata": {},
   "cell_type": "markdown",
   "source": "Для подготовки кандидатов используем новые рекомендации от базовых генераторов, обученных на объединенных данных из events_train и events_label. Эти рекомендации сохранены в файлах als_recommendations.parquet и content_recommendations.parquet в директории candidates/inference. Используем их для формирования списка candidates_to_rank для ранжирующей модели.",
   "id": "dd4618efb305cfbf"
  },
  {
   "metadata": {},
   "cell_type": "markdown",
   "source": [
    "Задание 4 из 6\n",
    "\n",
    "Дополните код ниже так, чтобы в candidates_to_rank попали кандидаты от обоих базовых генераторов подобно тому, как это было сделано для фазы тренировки выше."
   ],
   "id": "18c4e1bb2845351d"
  },
  {
   "metadata": {
    "ExecuteTime": {
     "end_time": "2024-10-22T13:09:34.043290Z",
     "start_time": "2024-10-22T13:09:33.407265Z"
    }
   },
   "cell_type": "code",
   "source": [
    "# загружаем рекомендации от двух базовых генераторов\n",
    "als_recommendations_2 = pd.read_parquet(\"./candidates/inference/als_recommendations.parquet\")\n",
    "content_recommendations_2 = pd.read_parquet(\"./candidates/inference/content_recommendations.parquet\")"
   ],
   "id": "36cd6e89784691b8",
   "outputs": [],
   "execution_count": 46
  },
  {
   "metadata": {
    "ExecuteTime": {
     "end_time": "2024-10-22T13:14:17.862574Z",
     "start_time": "2024-10-22T13:13:45.809010Z"
    }
   },
   "cell_type": "code",
   "source": [
    "candidates_to_rank = pd.merge(\n",
    "    als_recommendations_2[[\"user_id\", \"item_id\", \"score\"]].rename(columns={\"score\": \"als_score\"}),\n",
    "    content_recommendations_2[[\"user_id\", \"item_id\", \"score\"]].rename(columns={\"score\": \"cnt_score\"}),\n",
    "    on=[\"user_id\", \"item_id\"],\n",
    "    how=\"outer\"\n",
    ")\n",
    "\n",
    "# оставляем только тех пользователей, что есть в тестовой выборке, для экономии ресурсов\n",
    "candidates_to_rank = candidates_to_rank[\n",
    "    candidates_to_rank[\"user_id\"]\n",
    "    .isin(events_test[\"user_id\"].drop_duplicates())\n",
    "]"
   ],
   "id": "b02d460133431201",
   "outputs": [],
   "execution_count": 53
  },
  {
   "metadata": {
    "ExecuteTime": {
     "end_time": "2024-10-22T13:14:17.866497Z",
     "start_time": "2024-10-22T13:14:17.864280Z"
    }
   },
   "cell_type": "code",
   "source": "print(len(candidates_to_rank))",
   "id": "4764e6172e6d35f5",
   "outputs": [
    {
     "name": "stdout",
     "output_type": "stream",
     "text": [
      "23830721\n"
     ]
    }
   ],
   "execution_count": 54
  },
  {
   "metadata": {},
   "cell_type": "markdown",
   "source": "Применим обученную ранжирующую модель к кандидатам для рекомендаций. Таргет уже не нужен, поскольку мы будем применять модель в режиме инференса.",
   "id": "9de5968ef38536ae"
  },
  {
   "metadata": {},
   "cell_type": "markdown",
   "source": [
    "Задание 5 из 6\n",
    "\n",
    "Дополните код для того, чтобы вызвать модель и получить для каждого пользователя топ-100 рекомендаций — значение rank нужно выставить не более ста."
   ],
   "id": "1467a4f92861f20f"
  },
  {
   "metadata": {
    "ExecuteTime": {
     "end_time": "2024-10-22T13:12:21.239743Z",
     "start_time": "2024-10-22T13:12:10.615709Z"
    }
   },
   "cell_type": "code",
   "source": [
    "inference_data = Pool(data=candidates_to_rank[features])\n",
    "predictions = cb_model.predict_proba(inference_data)\n",
    "\n",
    "# Добавляем колонку с предсказанным score от модели\n",
    "candidates_to_rank[\"cb_score\"] = predictions[:, 1]\n",
    "\n",
    "# Сортируем по пользователю и по убыванию cb_score\n",
    "candidates_to_rank = candidates_to_rank.sort_values([\"user_id\", \"cb_score\"], ascending=[True, False])\n",
    "\n",
    "# Проставляем rank, начиная с 1\n",
    "candidates_to_rank[\"rank\"] = candidates_to_rank.groupby(\"user_id\").cumcount() + 1\n",
    "\n",
    "# Оставляем топ-100 рекомендаций для каждого пользователя\n",
    "max_recommendations_per_user = 100\n",
    "final_recommendations = candidates_to_rank[candidates_to_rank[\"rank\"] <= max_recommendations_per_user]"
   ],
   "id": "252adb174925ac7",
   "outputs": [],
   "execution_count": 49
  },
  {
   "metadata": {
    "ExecuteTime": {
     "end_time": "2024-10-22T13:12:21.243180Z",
     "start_time": "2024-10-22T13:12:21.241550Z"
    }
   },
   "cell_type": "code",
   "source": "print(len(final_recommendations))",
   "id": "2c256b949927ade4",
   "outputs": [
    {
     "name": "stdout",
     "output_type": "stream",
     "text": [
      "12322300\n"
     ]
    }
   ],
   "execution_count": 50
  },
  {
   "metadata": {},
   "cell_type": "markdown",
   "source": [
    "Посчитайте метрики recall и precision.\n",
    "1. Используйте полученные рекомендации final_recommendations, отложенную тестовую выборку events_test_2, созданные в уроке «Валидация» предыдущей темы.\n",
    "2. А также функции process_events_recs_for_binary_metrics и compute_cls_metrics."
   ],
   "id": "5d17b72d0a893f97"
  },
  {
   "metadata": {
    "ExecuteTime": {
     "end_time": "2024-10-22T13:16:59.892058Z",
     "start_time": "2024-10-22T13:16:59.880083Z"
    }
   },
   "cell_type": "code",
   "source": [
    "def process_events_recs_for_binary_metrics(events_train, events_test, recs, top_k=None):\n",
    "    \"\"\"\n",
    "    размечает пары <user_id, item_id> для общего множества пользователей признаками\n",
    "    - gt (ground truth)\n",
    "    - pr (prediction)\n",
    "    top_k: расчёт ведётся только для top k-рекомендаций\n",
    "    \"\"\"\n",
    "\n",
    "    events_test[\"gt\"] = True\n",
    "    common_users = set(events_test[\"user_id\"]) & set(recs[\"user_id\"])\n",
    "\n",
    "    print(f\"Common users: {len(common_users)}\")\n",
    "\n",
    "    events_for_common_users = events_test[events_test[\"user_id\"].isin(common_users)].copy()\n",
    "    recs_for_common_users = recs[recs[\"user_id\"].isin(common_users)].copy()\n",
    "\n",
    "    recs_for_common_users = recs_for_common_users.sort_values([\"user_id\", \"score\"], ascending=[True, False])\n",
    "\n",
    "    # оставляет только те item_id, которые были в events_train, \n",
    "    # т. к. модель не имела никакой возможности давать рекомендации для новых айтемов\n",
    "    events_for_common_users = events_for_common_users[\n",
    "        events_for_common_users[\"item_id\"].isin(events_train[\"item_id\"].unique())]\n",
    "\n",
    "    if top_k is not None:\n",
    "        recs_for_common_users = recs_for_common_users.groupby(\"user_id\").head(top_k)\n",
    "\n",
    "    events_recs_common = events_for_common_users[[\"user_id\", \"item_id\", \"gt\"]].merge(\n",
    "        recs_for_common_users[[\"user_id\", \"item_id\", \"score\"]],\n",
    "        on=[\"user_id\", \"item_id\"], how=\"outer\")\n",
    "\n",
    "    events_recs_common[\"gt\"] = events_recs_common[\"gt\"].fillna(False)\n",
    "    events_recs_common[\"pr\"] = ~events_recs_common[\"score\"].isnull()\n",
    "\n",
    "    events_recs_common[\"tp\"] = events_recs_common[\"gt\"] & events_recs_common[\"pr\"]\n",
    "    events_recs_common[\"fp\"] = ~events_recs_common[\"gt\"] & events_recs_common[\"pr\"]\n",
    "    events_recs_common[\"fn\"] = events_recs_common[\"gt\"] & ~events_recs_common[\"pr\"]\n",
    "\n",
    "    return events_recs_common"
   ],
   "id": "c8faf59c3e9dab87",
   "outputs": [],
   "execution_count": 55
  },
  {
   "metadata": {
    "ExecuteTime": {
     "end_time": "2024-10-22T13:17:00.403553Z",
     "start_time": "2024-10-22T13:17:00.400607Z"
    }
   },
   "cell_type": "code",
   "source": [
    "# Функции compute_cls_metrics для расчёта recall.\n",
    "def compute_cls_metrics(events_recs_for_binary_metric):\n",
    "    \n",
    "    groupper = events_recs_for_binary_metric.groupby(\"user_id\")\n",
    "\n",
    "    # precision = tp / (tp + fp)\n",
    "    precision = groupper[\"tp\"].sum() / (groupper[\"tp\"].sum() + groupper[\"fp\"].sum())\n",
    "    precision = precision.fillna(0).mean()\n",
    "    \n",
    "    # recall = tp / (tp + fn)\n",
    "    recall = groupper[\"tp\"].sum() / (groupper[\"tp\"].sum() + groupper[\"fn\"].sum())\n",
    "    recall = recall.fillna(0).mean()\n",
    "\n",
    "    return precision, recall"
   ],
   "id": "e6e42fc711174c49",
   "outputs": [],
   "execution_count": 56
  },
  {
   "metadata": {
    "ExecuteTime": {
     "end_time": "2024-10-22T13:17:04.809983Z",
     "start_time": "2024-10-22T13:17:00.884731Z"
    }
   },
   "cell_type": "code",
   "source": [
    "# Объединяем тренировочные события и метки для валидации\n",
    "events_inference = pd.concat([events_train, events_labels])\n",
    "\n",
    "# Обрабатываем рекомендации для бинарных метрик\n",
    "cb_events_recs_for_binary_metrics_5 = process_events_recs_for_binary_metrics(\n",
    "    events_inference,\n",
    "    events_test_2,\n",
    "    final_recommendations.rename(columns={\"cb_score\": \"score\"}), \n",
    "    top_k=5\n",
    ")\n",
    "\n",
    "# Вычисляем метрики precision и recall\n",
    "cb_precision_5, cb_recall_5 = compute_cls_metrics(cb_events_recs_for_binary_metrics_5)\n",
    "\n",
    "print(f\"precision: {cb_precision_5:.3f}, recall: {cb_recall_5:.3f}\")"
   ],
   "id": "b8e6049d0a464acb",
   "outputs": [
    {
     "name": "stdout",
     "output_type": "stream",
     "text": [
      "Common users: 75194\n",
      "precision: 0.007, recall: 0.016\n"
     ]
    },
    {
     "name": "stderr",
     "output_type": "stream",
     "text": [
      "/var/folders/bx/8n6_vdf94z7gqkmk97lf4mnh0000gn/T/ipykernel_81636/2783672476.py:31: FutureWarning: Downcasting object dtype arrays on .fillna, .ffill, .bfill is deprecated and will change in a future version. Call result.infer_objects(copy=False) instead. To opt-in to the future behavior, set `pd.set_option('future.no_silent_downcasting', True)`\n",
      "  events_recs_common[\"gt\"] = events_recs_common[\"gt\"].fillna(False)\n"
     ]
    }
   ],
   "execution_count": 57
  },
  {
   "metadata": {
    "ExecuteTime": {
     "end_time": "2024-10-22T13:24:51.612615Z",
     "start_time": "2024-10-22T13:24:43.620552Z"
    }
   },
   "cell_type": "code",
   "source": "items = pd.read_parquet(\"./data/items.parquet\")",
   "id": "4b5b57fedd1d982",
   "outputs": [],
   "execution_count": 58
  },
  {
   "metadata": {
    "ExecuteTime": {
     "end_time": "2024-10-22T13:24:53.397119Z",
     "start_time": "2024-10-22T13:24:51.615038Z"
    }
   },
   "cell_type": "code",
   "source": [
    "# Вычисляем возраст книги и исправляем некорректные значения\n",
    "items[\"age\"] = 2018 - items[\"publication_year\"]\n",
    "invalid_age_idx = items[\"age\"] < 0\n",
    "items.loc[invalid_age_idx, \"age\"] = np.nan\n",
    "items[\"age\"] = items[\"age\"].astype(\"float\")\n",
    "\n",
    "# Добавляем признаки age и average_rating к кандидатам для тренировки и ранжирования\n",
    "candidates_for_train = candidates_for_train.merge(items[[\"item_id\", \"age\", \"average_rating\"]], on=\"item_id\", how=\"left\")\n",
    "candidates_to_rank = candidates_to_rank.merge(items[[\"item_id\", \"age\", \"average_rating\"]], on=\"item_id\", how=\"left\")"
   ],
   "id": "9a98185f358ea68c",
   "outputs": [],
   "execution_count": 59
  },
  {
   "metadata": {
    "ExecuteTime": {
     "end_time": "2024-10-22T13:24:53.544012Z",
     "start_time": "2024-10-22T13:24:53.397735Z"
    }
   },
   "cell_type": "code",
   "source": [
    "# Вычисляем медианный возраст книги для candidates_to_rank\n",
    "median_age = candidates_to_rank[\"age\"].median()\n",
    "print(f\"Медианный возраст книги: {median_age:.1f}\")"
   ],
   "id": "23007556142c6f91",
   "outputs": [
    {
     "name": "stdout",
     "output_type": "stream",
     "text": [
      "Медианный возраст книги: 7.0\n"
     ]
    }
   ],
   "execution_count": 60
  },
  {
   "metadata": {},
   "cell_type": "markdown",
   "source": [
    "Используя события в events_train и events_inference, посчитайте и добавьте признаки пользователей к кандидатам в candidates_for_train и candidates_to_rank соответственно:\n",
    "- reading_years — длительность истории пользователя,\n",
    "- books_read — количество книг, прочитанных за всё время,\n",
    "- books_per_year — среднее количество прочитанных книг в год,\n",
    "- rating_avg — средняя оценка,\n",
    "- rating_std — дисперсия оценок."
   ],
   "id": "e097ac1e7175ad0f"
  },
  {
   "metadata": {
    "ExecuteTime": {
     "end_time": "2024-10-22T13:26:56.332623Z",
     "start_time": "2024-10-22T13:26:39.071965Z"
    }
   },
   "cell_type": "code",
   "source": [
    "def get_user_features(events):\n",
    "    \"\"\" считает пользовательские признаки \"\"\"\n",
    "    \n",
    "    user_features = events.groupby(\"user_id\").agg(\n",
    "        reading_years=(\"started_at\", lambda x: (x.max() - x.min()).days / 365.25),\n",
    "        books_read=(\"item_id\", \"nunique\"),\n",
    "        rating_avg=(\"rating\", \"mean\"),\n",
    "        rating_std=(\"rating\", \"std\"))\n",
    "    \n",
    "    # Заполняем NaN для пользователей с только одной оценкой (std будет NaN)\n",
    "    user_features[\"rating_std\"] = user_features[\"rating_std\"].fillna(0)\n",
    "    \n",
    "    user_features[\"books_per_year\"] = user_features[\"books_read\"] / user_features[\"reading_years\"]\n",
    "    \n",
    "    return user_features\n",
    "\n",
    "# Получаем признаки пользователей для тренировки\n",
    "user_features_for_train = get_user_features(events_train)\n",
    "candidates_for_train = candidates_for_train.merge(user_features_for_train, on=\"user_id\", how=\"left\")\n",
    "  \n",
    "# Оставим только тех пользователей, что есть в тесте, для экономии ресурсов\n",
    "events_inference = pd.concat([events_train, events_labels])\n",
    "events_inference = events_inference[events_inference[\"user_id\"].isin(events_test[\"user_id\"].drop_duplicates())]\n",
    "\n",
    "# Получаем признаки пользователей для ранжирования\n",
    "user_features_for_ranking = get_user_features(events_inference)\n",
    "candidates_to_rank = candidates_to_rank.merge(user_features_for_ranking, on=\"user_id\", how=\"left\")"
   ],
   "id": "1a89145a991301ef",
   "outputs": [],
   "execution_count": 61
  },
  {
   "metadata": {
    "ExecuteTime": {
     "end_time": "2024-10-22T13:26:56.340248Z",
     "start_time": "2024-10-22T13:26:56.334395Z"
    }
   },
   "cell_type": "code",
   "source": [
    "# Выводим пример данных\n",
    "print(candidates_for_train.head())\n",
    "print(candidates_to_rank.head())"
   ],
   "id": "521c97513f726595",
   "outputs": [
    {
     "name": "stdout",
     "output_type": "stream",
     "text": [
      "   user_id   item_id  als_score  cnt_score  target   age  average_rating  \\\n",
      "0  1000006      7445   0.230529        NaN       1  12.0            4.24   \n",
      "1  1000006  18812405   0.178382        NaN       1   4.0            3.81   \n",
      "2  1000006  29868610   0.286715        NaN       1   NaN            3.90   \n",
      "3  1000019     37415   0.043595        NaN       1  12.0            3.87   \n",
      "4  1000023      5094   0.082626        NaN       1  15.0            4.23   \n",
      "\n",
      "   reading_years  books_read  rating_avg  rating_std  books_per_year  \n",
      "0       1.820671        17.0    4.294118    0.685994        9.337218  \n",
      "1       1.820671        17.0    4.294118    0.685994        9.337218  \n",
      "2       1.820671        17.0    4.294118    0.685994        9.337218  \n",
      "3       0.276523         6.0    4.166667    1.169045       21.698020  \n",
      "4       0.005476         2.0    3.500000    0.707107      365.250000  \n",
      "   user_id  item_id  als_score  cnt_score   age  average_rating  \\\n",
      "0  1000003     1232   0.484089        NaN   NaN            4.25   \n",
      "1  1000003     3636   0.579718        NaN  12.0            4.12   \n",
      "2  1000003     3985        NaN   0.924399   NaN            4.17   \n",
      "3  1000003     4214   0.376419        NaN  12.0            3.88   \n",
      "4  1000003     4588   0.411577        NaN  12.0            3.97   \n",
      "\n",
      "   reading_years  books_read  rating_avg  rating_std  books_per_year  \n",
      "0         7.4141        94.0    3.287234    0.712746       12.678545  \n",
      "1         7.4141        94.0    3.287234    0.712746       12.678545  \n",
      "2         7.4141        94.0    3.287234    0.712746       12.678545  \n",
      "3         7.4141        94.0    3.287234    0.712746       12.678545  \n",
      "4         7.4141        94.0    3.287234    0.712746       12.678545  \n"
     ]
    }
   ],
   "execution_count": 62
  },
  {
   "metadata": {
    "ExecuteTime": {
     "end_time": "2024-10-22T13:31:38.102146Z",
     "start_time": "2024-10-22T13:31:38.096587Z"
    }
   },
   "cell_type": "code",
   "source": "print(candidates_for_train['books_read'].median())",
   "id": "513ee4c17733e9ec",
   "outputs": [
    {
     "name": "stdout",
     "output_type": "stream",
     "text": [
      "32.0\n"
     ]
    }
   ],
   "execution_count": 63
  },
  {
   "metadata": {},
   "cell_type": "markdown",
   "source": [
    "Задание\n",
    "\n",
    "Используя истории events_train и events_inference, а также ранее полученные артефакты по жанрам книг — словарь жанров genres, оценки книг по жанрам all_items_genres_csr — добавьте парные признаки, по одному на каждый жанр, которые совместно показывают, какие жанры предпочитает пользователь. \n",
    "\n",
    "Жанровость в данном случае — численный коэффициент принадлежности книги к жанру. Например, если пользователь прочитал три книги, которые с весами 0.3, 0.2, 0.4 из  all_items_genres_csr относятся к Fantasy, то интерес пользователя к Fantasy составляет среднее этих трёх оценок — 0.3.\n",
    "\n",
    "Для экономии ресурсов возьмём не все жанры, а десять наиболее популярных. Все остальные отметим как не вошедшие в топ и обозначим как others. "
   ],
   "id": "39943ffd1c7ac9cb"
  },
  {
   "metadata": {
    "ExecuteTime": {
     "end_time": "2024-10-22T14:14:03.514709Z",
     "start_time": "2024-10-22T14:14:03.511046Z"
    }
   },
   "cell_type": "code",
   "source": [
    "def get_genres(items):\n",
    "    from json import JSONDecodeError\n",
    "    \n",
    "    \"\"\" \n",
    "    извлекает список жанров по всем книгам, \n",
    "    подсчитывает долю голосов по каждому их них\n",
    "    \"\"\"\n",
    "    genres_counter = {}\n",
    "\n",
    "    for k, v, in items.iterrows():\n",
    "        genre_and_votes = v.get('genre_and_votes')\n",
    "        if genre_and_votes is None or genre_and_votes == 'None':\n",
    "            continue\n",
    "        \n",
    "        try:\n",
    "            genre_and_votes = json.loads(str(genre_and_votes).replace('\\'', '\"'))\n",
    "        except JSONDecodeError as e:\n",
    "            print(f\"JSON decoding error: {e}\", genre_and_votes)\n",
    "            continue\n",
    "        \n",
    "        for genre, votes in genre_and_votes.items():\n",
    "            # увеличиваем счётчик жанров\n",
    "            try:\n",
    "                genres_counter[genre] += votes\n",
    "            except KeyError:\n",
    "                genres_counter[genre] = 0\n",
    "\n",
    "    genres = pd.Series(genres_counter, name=\"votes\")\n",
    "    genres = genres.to_frame()\n",
    "    genres = genres.reset_index().rename(columns={\"index\": \"name\"})\n",
    "    genres.index.name = \"genre_id\"\n",
    "\n",
    "    return genres"
   ],
   "id": "309dac456ca5b437",
   "outputs": [],
   "execution_count": 129
  },
  {
   "metadata": {
    "ExecuteTime": {
     "end_time": "2024-10-22T14:14:03.975173Z",
     "start_time": "2024-10-22T14:14:03.972514Z"
    }
   },
   "cell_type": "code",
   "source": [
    "# Функция в коде ниже строит матрицу вида «книга-жанр».\n",
    "def get_item2genre_matrix(genres, items):\n",
    "    genre_names_to_id = genres.reset_index().set_index(\"name\")[\"genre_id\"].to_dict()\n",
    "\n",
    "    # list to build CSR matrix\n",
    "    genres_csr_data = []\n",
    "    genres_csr_row_idx = []\n",
    "    genres_csr_col_idx = []\n",
    "\n",
    "    for item_idx, (k, v) in enumerate(items.iterrows()):\n",
    "        genre_and_votes = v.get('genre_and_votes')\n",
    "        if genre_and_votes is None or genre_and_votes == 'None':\n",
    "            continue\n",
    "        genre_and_votes = json.loads(str(genre_and_votes).replace('\\'','\"'))\n",
    "        for genre_name, votes in genre_and_votes.items():\n",
    "            genre_idx = genre_names_to_id[genre_name]\n",
    "            genres_csr_data.append(int(votes))\n",
    "            genres_csr_row_idx.append(item_idx)\n",
    "            genres_csr_col_idx.append(genre_idx)\n",
    "\n",
    "    genres_csr = scipy.sparse.csr_matrix((genres_csr_data, (genres_csr_row_idx, genres_csr_col_idx)),\n",
    "                                         shape=(len(items), len(genres)))\n",
    "    # нормализуем, чтобы сумма оценок принадлежности к жанру была равна 1\n",
    "    genres_csr = sklearn.preprocessing.normalize(genres_csr, norm='l1', axis=1)\n",
    "\n",
    "    return genres_csr"
   ],
   "id": "fd22f4ca7d90fd40",
   "outputs": [],
   "execution_count": 130
  },
  {
   "metadata": {
    "ExecuteTime": {
     "end_time": "2024-10-22T14:14:04.554504Z",
     "start_time": "2024-10-22T14:14:04.547958Z"
    }
   },
   "cell_type": "code",
   "source": [
    "# перекодируем идентификаторы объектов:\n",
    "# из имеющихся в последовательность 0, 1, 2, ...\n",
    "item_encoder = sklearn.preprocessing.LabelEncoder()\n",
    "item_encoder.fit(items[\"item_id\"])\n",
    "items[\"item_id_enc\"] = item_encoder.transform(items[\"item_id\"])"
   ],
   "id": "5213cf03dc4e6f6e",
   "outputs": [],
   "execution_count": 131
  },
  {
   "metadata": {
    "ExecuteTime": {
     "end_time": "2024-10-22T14:14:05.720483Z",
     "start_time": "2024-10-22T14:14:05.128141Z"
    }
   },
   "cell_type": "code",
   "source": [
    "genres = get_genres(items)\n",
    "genres[\"score\"] = genres[\"votes\"] / genres[\"votes\"].sum()"
   ],
   "id": "af4ea93d65bc870f",
   "outputs": [],
   "execution_count": 132
  },
  {
   "metadata": {
    "ExecuteTime": {
     "end_time": "2024-10-22T14:17:27.031182Z",
     "start_time": "2024-10-22T14:17:27.027561Z"
    }
   },
   "cell_type": "code",
   "source": "print(genres.head(40))",
   "id": "90eeadc506b5ee02",
   "outputs": [
    {
     "name": "stdout",
     "output_type": "stream",
     "text": [
      "                                            name    votes         score\n",
      "genre_id                                                               \n",
      "0                                        Fantasy  6803715  1.491875e-01\n",
      "1                                    Young Adult  3281944  7.196435e-02\n",
      "2                                        Fiction  6393615  1.401951e-01\n",
      "3                                  Fantasy-Magic   179172  3.928768e-03\n",
      "4                                      Childrens   439549  9.638147e-03\n",
      "5                                      Adventure   206550  4.529095e-03\n",
      "6                                      Audiobook   171304  3.756244e-03\n",
      "7                         Childrens-Middle Grade   178531  3.914713e-03\n",
      "8                        Science Fiction Fantasy    64379  1.411661e-03\n",
      "9                                       Classics  3413828  7.485622e-02\n",
      "10                                        Novels   110419  2.421197e-03\n",
      "11                          Fantasy-Supernatural    52436  1.149783e-03\n",
      "12                            Paranormal-Witches    25370  5.562970e-04\n",
      "13                            Paranormal-Wizards       13  2.850556e-07\n",
      "14                               Science Fiction  1205056  2.642369e-02\n",
      "15                                         Humor   298963  6.555468e-03\n",
      "16                                  Humor-Comedy    25849  5.668002e-04\n",
      "17                                    Nonfiction  1730083  3.793614e-02\n",
      "18                                       Science   267529  5.866203e-03\n",
      "19                                       History   529873  1.161871e-02\n",
      "20                                        Travel    64626  1.417077e-03\n",
      "21                               Cultural-Africa    40209  8.816770e-04\n",
      "22                          Autobiography-Memoir   266896  5.852323e-03\n",
      "23                            Cultural-Australia     9120  1.999775e-04\n",
      "24                                Writing-Essays    41419  9.082091e-04\n",
      "25                                     Biography   286698  6.286529e-03\n",
      "26                           Literature-American    17052  3.739053e-04\n",
      "27                  The United States Of America      901  1.975655e-05\n",
      "28        European Literature-British Literature    20299  4.451034e-04\n",
      "29                             Travel-Travelogue       52  1.140222e-06\n",
      "30                           Humanities-Language     4364  9.569098e-05\n",
      "31                            Adventure-Survival     4785  1.049224e-04\n",
      "32                         Fantasy-Urban Fantasy   516920  1.133469e-02\n",
      "33                            Paranormal-Fairies     8426  1.847599e-04\n",
      "34                                       Romance  2422619  5.312163e-02\n",
      "35                            Mythology-Mermaids     8261  1.811419e-04\n",
      "36                 Historical-Historical Fiction  1530639  3.356287e-02\n",
      "37                     Cultural-African American    11458  2.512436e-04\n",
      "38                               Science-Geology      230  5.043292e-06\n",
      "39                            Environment-Nature    15825  3.470004e-04\n"
     ]
    }
   ],
   "execution_count": 140
  },
  {
   "metadata": {
    "ExecuteTime": {
     "end_time": "2024-10-22T14:14:07.180202Z",
     "start_time": "2024-10-22T14:14:06.483027Z"
    }
   },
   "cell_type": "code",
   "source": [
    "items = items.sort_values(by=\"item_id_enc\")\n",
    "all_items_genres_csr = get_item2genre_matrix(genres, items)"
   ],
   "id": "1834bf750408ebe2",
   "outputs": [],
   "execution_count": 134
  },
  {
   "metadata": {
    "ExecuteTime": {
     "end_time": "2024-10-22T14:14:16.151698Z",
     "start_time": "2024-10-22T14:14:10.094909Z"
    }
   },
   "cell_type": "code",
   "source": [
    "# определяем индексы топ-10 жанров и всех остальных\n",
    "genres_top_k = 10\n",
    "genres_top_idx = genres.sort_values(\"votes\", ascending=False).head(genres_top_k).index\n",
    "genres_others_idx = list(set(genres.index) - set(genres_top_idx))\n",
    "\n",
    "genres_top_columns = [f\"genre_{id}\" for id in genres_top_idx]\n",
    "genres_others_column = \"genre_others\"\n",
    "genre_columns = genres_top_columns + [genres_others_column]\n",
    "\n",
    "# составляем таблицу принадлежности книг к жанрам\n",
    "item_genres = (\n",
    "    pd.concat([\n",
    "        # топ жанров\n",
    "        pd.DataFrame(all_items_genres_csr[:, genres_top_idx].toarray(), columns=genres_top_columns),\n",
    "        # все остальные жанры\n",
    "        pd.DataFrame(all_items_genres_csr[:, genres_others_idx].sum(axis=1), columns=[genres_others_column])\n",
    "        ],\n",
    "        axis=1)\n",
    "    .reset_index()\n",
    "    .rename(columns={\"index\": \"item_id_enc\"})\n",
    ")\n",
    "\n",
    "# объединяем информацию принадлежности книг к жанрам с основной информацией о книгах\n",
    "items = items.merge(item_genres, on=\"item_id_enc\", how=\"left\")\n",
    "\n",
    "def get_user_genres(events, items, item_genre_columns):\n",
    "    user_genres = (\n",
    "        events\n",
    "        .merge(items[[\"item_id\"] + item_genre_columns], on=\"item_id\", how=\"left\")\n",
    "        .groupby(\"user_id\")[item_genre_columns].mean()\n",
    "    )\n",
    "    return user_genres\n",
    "    \n",
    "# Получаем информацию о жанрах для тренировки\n",
    "user_genres_for_train = get_user_genres(events_train, items, genre_columns)\n",
    "candidates_for_train = candidates_for_train.merge(user_genres_for_train, on=\"user_id\", how=\"left\")\n",
    "\n",
    "user_genres_for_ranking = get_user_genres(events_inference, items, genre_columns)\n",
    "candidates_to_rank = candidates_to_rank.merge(user_genres_for_ranking, on=\"user_id\", how=\"left\")"
   ],
   "id": "af679a5eef3ace3",
   "outputs": [],
   "execution_count": 135
  },
  {
   "metadata": {
    "ExecuteTime": {
     "end_time": "2024-10-22T14:16:29.191867Z",
     "start_time": "2024-10-22T14:16:29.186906Z"
    }
   },
   "cell_type": "code",
   "source": "genres.head(20)",
   "id": "f7c2db33ed9d978f",
   "outputs": [
    {
     "data": {
      "text/plain": [
       "                             name    votes         score\n",
       "genre_id                                                \n",
       "0                         Fantasy  6803715  1.491875e-01\n",
       "1                     Young Adult  3281944  7.196435e-02\n",
       "2                         Fiction  6393615  1.401951e-01\n",
       "3                   Fantasy-Magic   179172  3.928768e-03\n",
       "4                       Childrens   439549  9.638147e-03\n",
       "5                       Adventure   206550  4.529095e-03\n",
       "6                       Audiobook   171304  3.756244e-03\n",
       "7          Childrens-Middle Grade   178531  3.914713e-03\n",
       "8         Science Fiction Fantasy    64379  1.411661e-03\n",
       "9                        Classics  3413828  7.485622e-02\n",
       "10                         Novels   110419  2.421197e-03\n",
       "11           Fantasy-Supernatural    52436  1.149783e-03\n",
       "12             Paranormal-Witches    25370  5.562970e-04\n",
       "13             Paranormal-Wizards       13  2.850556e-07\n",
       "14                Science Fiction  1205056  2.642369e-02\n",
       "15                          Humor   298963  6.555468e-03\n",
       "16                   Humor-Comedy    25849  5.668002e-04\n",
       "17                     Nonfiction  1730083  3.793614e-02\n",
       "18                        Science   267529  5.866203e-03\n",
       "19                        History   529873  1.161871e-02"
      ],
      "text/html": [
       "<div>\n",
       "<style scoped>\n",
       "    .dataframe tbody tr th:only-of-type {\n",
       "        vertical-align: middle;\n",
       "    }\n",
       "\n",
       "    .dataframe tbody tr th {\n",
       "        vertical-align: top;\n",
       "    }\n",
       "\n",
       "    .dataframe thead th {\n",
       "        text-align: right;\n",
       "    }\n",
       "</style>\n",
       "<table border=\"1\" class=\"dataframe\">\n",
       "  <thead>\n",
       "    <tr style=\"text-align: right;\">\n",
       "      <th></th>\n",
       "      <th>name</th>\n",
       "      <th>votes</th>\n",
       "      <th>score</th>\n",
       "    </tr>\n",
       "    <tr>\n",
       "      <th>genre_id</th>\n",
       "      <th></th>\n",
       "      <th></th>\n",
       "      <th></th>\n",
       "    </tr>\n",
       "  </thead>\n",
       "  <tbody>\n",
       "    <tr>\n",
       "      <th>0</th>\n",
       "      <td>Fantasy</td>\n",
       "      <td>6803715</td>\n",
       "      <td>1.491875e-01</td>\n",
       "    </tr>\n",
       "    <tr>\n",
       "      <th>1</th>\n",
       "      <td>Young Adult</td>\n",
       "      <td>3281944</td>\n",
       "      <td>7.196435e-02</td>\n",
       "    </tr>\n",
       "    <tr>\n",
       "      <th>2</th>\n",
       "      <td>Fiction</td>\n",
       "      <td>6393615</td>\n",
       "      <td>1.401951e-01</td>\n",
       "    </tr>\n",
       "    <tr>\n",
       "      <th>3</th>\n",
       "      <td>Fantasy-Magic</td>\n",
       "      <td>179172</td>\n",
       "      <td>3.928768e-03</td>\n",
       "    </tr>\n",
       "    <tr>\n",
       "      <th>4</th>\n",
       "      <td>Childrens</td>\n",
       "      <td>439549</td>\n",
       "      <td>9.638147e-03</td>\n",
       "    </tr>\n",
       "    <tr>\n",
       "      <th>5</th>\n",
       "      <td>Adventure</td>\n",
       "      <td>206550</td>\n",
       "      <td>4.529095e-03</td>\n",
       "    </tr>\n",
       "    <tr>\n",
       "      <th>6</th>\n",
       "      <td>Audiobook</td>\n",
       "      <td>171304</td>\n",
       "      <td>3.756244e-03</td>\n",
       "    </tr>\n",
       "    <tr>\n",
       "      <th>7</th>\n",
       "      <td>Childrens-Middle Grade</td>\n",
       "      <td>178531</td>\n",
       "      <td>3.914713e-03</td>\n",
       "    </tr>\n",
       "    <tr>\n",
       "      <th>8</th>\n",
       "      <td>Science Fiction Fantasy</td>\n",
       "      <td>64379</td>\n",
       "      <td>1.411661e-03</td>\n",
       "    </tr>\n",
       "    <tr>\n",
       "      <th>9</th>\n",
       "      <td>Classics</td>\n",
       "      <td>3413828</td>\n",
       "      <td>7.485622e-02</td>\n",
       "    </tr>\n",
       "    <tr>\n",
       "      <th>10</th>\n",
       "      <td>Novels</td>\n",
       "      <td>110419</td>\n",
       "      <td>2.421197e-03</td>\n",
       "    </tr>\n",
       "    <tr>\n",
       "      <th>11</th>\n",
       "      <td>Fantasy-Supernatural</td>\n",
       "      <td>52436</td>\n",
       "      <td>1.149783e-03</td>\n",
       "    </tr>\n",
       "    <tr>\n",
       "      <th>12</th>\n",
       "      <td>Paranormal-Witches</td>\n",
       "      <td>25370</td>\n",
       "      <td>5.562970e-04</td>\n",
       "    </tr>\n",
       "    <tr>\n",
       "      <th>13</th>\n",
       "      <td>Paranormal-Wizards</td>\n",
       "      <td>13</td>\n",
       "      <td>2.850556e-07</td>\n",
       "    </tr>\n",
       "    <tr>\n",
       "      <th>14</th>\n",
       "      <td>Science Fiction</td>\n",
       "      <td>1205056</td>\n",
       "      <td>2.642369e-02</td>\n",
       "    </tr>\n",
       "    <tr>\n",
       "      <th>15</th>\n",
       "      <td>Humor</td>\n",
       "      <td>298963</td>\n",
       "      <td>6.555468e-03</td>\n",
       "    </tr>\n",
       "    <tr>\n",
       "      <th>16</th>\n",
       "      <td>Humor-Comedy</td>\n",
       "      <td>25849</td>\n",
       "      <td>5.668002e-04</td>\n",
       "    </tr>\n",
       "    <tr>\n",
       "      <th>17</th>\n",
       "      <td>Nonfiction</td>\n",
       "      <td>1730083</td>\n",
       "      <td>3.793614e-02</td>\n",
       "    </tr>\n",
       "    <tr>\n",
       "      <th>18</th>\n",
       "      <td>Science</td>\n",
       "      <td>267529</td>\n",
       "      <td>5.866203e-03</td>\n",
       "    </tr>\n",
       "    <tr>\n",
       "      <th>19</th>\n",
       "      <td>History</td>\n",
       "      <td>529873</td>\n",
       "      <td>1.161871e-02</td>\n",
       "    </tr>\n",
       "  </tbody>\n",
       "</table>\n",
       "</div>"
      ]
     },
     "execution_count": 138,
     "metadata": {},
     "output_type": "execute_result"
    }
   ],
   "execution_count": 138
  },
  {
   "metadata": {
    "ExecuteTime": {
     "end_time": "2024-10-22T18:53:40.525325Z",
     "start_time": "2024-10-22T18:53:40.515541Z"
    }
   },
   "cell_type": "code",
   "source": "candidates_to_rank.head()",
   "id": "66cf524c9518991f",
   "outputs": [
    {
     "data": {
      "text/plain": [
       "     user_id   item_id  als_score  cnt_score  age  average_rating  \\\n",
       "186  1000003  18143977   0.675044        NaN  4.0            4.31   \n",
       "190  1000003  18774964   0.363716        NaN  4.0            4.35   \n",
       "194  1000003  21853621   0.420170        NaN  3.0            4.54   \n",
       "178  1000003  16158542   0.361447        NaN  5.0            4.33   \n",
       "150  1000003  10664113   0.486414        NaN  7.0            4.31   \n",
       "\n",
       "     reading_years  books_read  rating_avg  rating_std  ...   genre_1  \\\n",
       "186         7.4141        94.0    3.287234    0.712746  ...  0.044853   \n",
       "190         7.4141        94.0    3.287234    0.712746  ...  0.044853   \n",
       "194         7.4141        94.0    3.287234    0.712746  ...  0.044853   \n",
       "178         7.4141        94.0    3.287234    0.712746  ...  0.044853   \n",
       "150         7.4141        94.0    3.287234    0.712746  ...  0.044853   \n",
       "\n",
       "     genre_34  genre_17  genre_36  genre_74  genre_14  genre_242  \\\n",
       "186  0.013835  0.050522   0.09458  0.045009   0.04636   0.003504   \n",
       "190  0.013835  0.050522   0.09458  0.045009   0.04636   0.003504   \n",
       "194  0.013835  0.050522   0.09458  0.045009   0.04636   0.003504   \n",
       "178  0.013835  0.050522   0.09458  0.045009   0.04636   0.003504   \n",
       "150  0.013835  0.050522   0.09458  0.045009   0.04636   0.003504   \n",
       "\n",
       "     genre_others  cb_score  rank  \n",
       "186      0.316763  0.688584     1  \n",
       "190      0.316763  0.670243     2  \n",
       "194      0.316763  0.656343     3  \n",
       "178      0.316763  0.574023     4  \n",
       "150      0.316763  0.554248     5  \n",
       "\n",
       "[5 rows x 24 columns]"
      ],
      "text/html": [
       "<div>\n",
       "<style scoped>\n",
       "    .dataframe tbody tr th:only-of-type {\n",
       "        vertical-align: middle;\n",
       "    }\n",
       "\n",
       "    .dataframe tbody tr th {\n",
       "        vertical-align: top;\n",
       "    }\n",
       "\n",
       "    .dataframe thead th {\n",
       "        text-align: right;\n",
       "    }\n",
       "</style>\n",
       "<table border=\"1\" class=\"dataframe\">\n",
       "  <thead>\n",
       "    <tr style=\"text-align: right;\">\n",
       "      <th></th>\n",
       "      <th>user_id</th>\n",
       "      <th>item_id</th>\n",
       "      <th>als_score</th>\n",
       "      <th>cnt_score</th>\n",
       "      <th>age</th>\n",
       "      <th>average_rating</th>\n",
       "      <th>reading_years</th>\n",
       "      <th>books_read</th>\n",
       "      <th>rating_avg</th>\n",
       "      <th>rating_std</th>\n",
       "      <th>...</th>\n",
       "      <th>genre_1</th>\n",
       "      <th>genre_34</th>\n",
       "      <th>genre_17</th>\n",
       "      <th>genre_36</th>\n",
       "      <th>genre_74</th>\n",
       "      <th>genre_14</th>\n",
       "      <th>genre_242</th>\n",
       "      <th>genre_others</th>\n",
       "      <th>cb_score</th>\n",
       "      <th>rank</th>\n",
       "    </tr>\n",
       "  </thead>\n",
       "  <tbody>\n",
       "    <tr>\n",
       "      <th>186</th>\n",
       "      <td>1000003</td>\n",
       "      <td>18143977</td>\n",
       "      <td>0.675044</td>\n",
       "      <td>NaN</td>\n",
       "      <td>4.0</td>\n",
       "      <td>4.31</td>\n",
       "      <td>7.4141</td>\n",
       "      <td>94.0</td>\n",
       "      <td>3.287234</td>\n",
       "      <td>0.712746</td>\n",
       "      <td>...</td>\n",
       "      <td>0.044853</td>\n",
       "      <td>0.013835</td>\n",
       "      <td>0.050522</td>\n",
       "      <td>0.09458</td>\n",
       "      <td>0.045009</td>\n",
       "      <td>0.04636</td>\n",
       "      <td>0.003504</td>\n",
       "      <td>0.316763</td>\n",
       "      <td>0.688584</td>\n",
       "      <td>1</td>\n",
       "    </tr>\n",
       "    <tr>\n",
       "      <th>190</th>\n",
       "      <td>1000003</td>\n",
       "      <td>18774964</td>\n",
       "      <td>0.363716</td>\n",
       "      <td>NaN</td>\n",
       "      <td>4.0</td>\n",
       "      <td>4.35</td>\n",
       "      <td>7.4141</td>\n",
       "      <td>94.0</td>\n",
       "      <td>3.287234</td>\n",
       "      <td>0.712746</td>\n",
       "      <td>...</td>\n",
       "      <td>0.044853</td>\n",
       "      <td>0.013835</td>\n",
       "      <td>0.050522</td>\n",
       "      <td>0.09458</td>\n",
       "      <td>0.045009</td>\n",
       "      <td>0.04636</td>\n",
       "      <td>0.003504</td>\n",
       "      <td>0.316763</td>\n",
       "      <td>0.670243</td>\n",
       "      <td>2</td>\n",
       "    </tr>\n",
       "    <tr>\n",
       "      <th>194</th>\n",
       "      <td>1000003</td>\n",
       "      <td>21853621</td>\n",
       "      <td>0.420170</td>\n",
       "      <td>NaN</td>\n",
       "      <td>3.0</td>\n",
       "      <td>4.54</td>\n",
       "      <td>7.4141</td>\n",
       "      <td>94.0</td>\n",
       "      <td>3.287234</td>\n",
       "      <td>0.712746</td>\n",
       "      <td>...</td>\n",
       "      <td>0.044853</td>\n",
       "      <td>0.013835</td>\n",
       "      <td>0.050522</td>\n",
       "      <td>0.09458</td>\n",
       "      <td>0.045009</td>\n",
       "      <td>0.04636</td>\n",
       "      <td>0.003504</td>\n",
       "      <td>0.316763</td>\n",
       "      <td>0.656343</td>\n",
       "      <td>3</td>\n",
       "    </tr>\n",
       "    <tr>\n",
       "      <th>178</th>\n",
       "      <td>1000003</td>\n",
       "      <td>16158542</td>\n",
       "      <td>0.361447</td>\n",
       "      <td>NaN</td>\n",
       "      <td>5.0</td>\n",
       "      <td>4.33</td>\n",
       "      <td>7.4141</td>\n",
       "      <td>94.0</td>\n",
       "      <td>3.287234</td>\n",
       "      <td>0.712746</td>\n",
       "      <td>...</td>\n",
       "      <td>0.044853</td>\n",
       "      <td>0.013835</td>\n",
       "      <td>0.050522</td>\n",
       "      <td>0.09458</td>\n",
       "      <td>0.045009</td>\n",
       "      <td>0.04636</td>\n",
       "      <td>0.003504</td>\n",
       "      <td>0.316763</td>\n",
       "      <td>0.574023</td>\n",
       "      <td>4</td>\n",
       "    </tr>\n",
       "    <tr>\n",
       "      <th>150</th>\n",
       "      <td>1000003</td>\n",
       "      <td>10664113</td>\n",
       "      <td>0.486414</td>\n",
       "      <td>NaN</td>\n",
       "      <td>7.0</td>\n",
       "      <td>4.31</td>\n",
       "      <td>7.4141</td>\n",
       "      <td>94.0</td>\n",
       "      <td>3.287234</td>\n",
       "      <td>0.712746</td>\n",
       "      <td>...</td>\n",
       "      <td>0.044853</td>\n",
       "      <td>0.013835</td>\n",
       "      <td>0.050522</td>\n",
       "      <td>0.09458</td>\n",
       "      <td>0.045009</td>\n",
       "      <td>0.04636</td>\n",
       "      <td>0.003504</td>\n",
       "      <td>0.316763</td>\n",
       "      <td>0.554248</td>\n",
       "      <td>5</td>\n",
       "    </tr>\n",
       "  </tbody>\n",
       "</table>\n",
       "<p>5 rows × 24 columns</p>\n",
       "</div>"
      ]
     },
     "execution_count": 158,
     "metadata": {},
     "output_type": "execute_result"
    }
   ],
   "execution_count": 158
  },
  {
   "metadata": {
    "ExecuteTime": {
     "end_time": "2024-10-22T14:18:05.446718Z",
     "start_time": "2024-10-22T14:18:05.442372Z"
    }
   },
   "cell_type": "code",
   "source": "candidates_for_train['genre_34'].median()",
   "id": "cefcd01561134823",
   "outputs": [
    {
     "data": {
      "text/plain": [
       "0.038488976462249"
      ]
     },
     "execution_count": 141,
     "metadata": {},
     "output_type": "execute_result"
    }
   ],
   "execution_count": 141
  },
  {
   "metadata": {
    "ExecuteTime": {
     "end_time": "2024-10-22T14:18:52.665490Z",
     "start_time": "2024-10-22T14:18:40.157554Z"
    }
   },
   "cell_type": "code",
   "source": [
    "from catboost import CatBoostClassifier, Pool\n",
    "\n",
    "# задаём имена колонок признаков и таргета\n",
    "features = ['als_score', 'cnt_score', \n",
    "    'age', 'average_rating', 'reading_years', 'books_read', \n",
    "    'rating_avg', 'rating_std', \n",
    "    'books_per_year'] + genre_columns\n",
    "target = 'target'\n",
    "\n",
    "# создаём Pool\n",
    "train_data = Pool(\n",
    "    data=candidates_for_train[features], \n",
    "    label=candidates_for_train[target])\n",
    "\n",
    "# инициализируем модель CatBoostClassifier\n",
    "cb_model = CatBoostClassifier(\n",
    "    iterations=1000,\n",
    "    learning_rate=0.1,\n",
    "    depth=6,\n",
    "    loss_function='Logloss',\n",
    "    verbose=100,\n",
    "    random_seed=0,\n",
    ")\n",
    "\n",
    "# тренируем модель\n",
    "cb_model.fit(train_data)"
   ],
   "id": "af459c83c03d8ec1",
   "outputs": [
    {
     "name": "stdout",
     "output_type": "stream",
     "text": [
      "0:\tlearn: 0.6416190\ttotal: 12.7ms\tremaining: 12.7s\n",
      "100:\tlearn: 0.4523906\ttotal: 1.54s\tremaining: 13.7s\n",
      "200:\tlearn: 0.4435134\ttotal: 3.19s\tremaining: 12.7s\n",
      "300:\tlearn: 0.4371116\ttotal: 4.59s\tremaining: 10.7s\n",
      "400:\tlearn: 0.4317901\ttotal: 5.59s\tremaining: 8.35s\n",
      "500:\tlearn: 0.4271651\ttotal: 6.59s\tremaining: 6.57s\n",
      "600:\tlearn: 0.4230431\ttotal: 7.6s\tremaining: 5.05s\n",
      "700:\tlearn: 0.4191686\ttotal: 8.63s\tremaining: 3.68s\n",
      "800:\tlearn: 0.4155816\ttotal: 9.65s\tremaining: 2.4s\n",
      "900:\tlearn: 0.4122107\ttotal: 10.7s\tremaining: 1.17s\n",
      "999:\tlearn: 0.4091293\ttotal: 12.4s\tremaining: 0us\n"
     ]
    },
    {
     "data": {
      "text/plain": [
       "<catboost.core.CatBoostClassifier at 0x15dd02a10>"
      ]
     },
     "execution_count": 142,
     "metadata": {},
     "output_type": "execute_result"
    }
   ],
   "execution_count": 142
  },
  {
   "metadata": {
    "ExecuteTime": {
     "end_time": "2024-10-22T14:33:02.482111Z",
     "start_time": "2024-10-22T14:32:32.433359Z"
    }
   },
   "cell_type": "code",
   "source": [
    "# Создаем Pool для данных инференса\n",
    "inference_data = Pool(data=candidates_to_rank[features])\n",
    "\n",
    "# Получаем вероятности предсказаний для каждого кандидата\n",
    "predictions = cb_model.predict_proba(inference_data)\n",
    "\n",
    "# Используем вероятность положительного класса (вероятность того, что рекомендация релевантна)\n",
    "candidates_to_rank[\"cb_score\"] = predictions[:, 1]\n",
    "\n",
    "# Сортируем кандидатов по пользователю и по убыванию cb_score\n",
    "candidates_to_rank = candidates_to_rank.sort_values([\"user_id\", \"cb_score\"], ascending=[True, False])\n",
    "\n",
    "# Проставляем rank, начиная с 1\n",
    "candidates_to_rank[\"rank\"] = candidates_to_rank.groupby(\"user_id\").cumcount() + 1\n",
    "\n",
    "# Оставляем топ-100 рекомендаций для каждого пользователя\n",
    "max_recommendations_per_user = 100\n",
    "final_recommendations = candidates_to_rank[candidates_to_rank[\"rank\"] <= max_recommendations_per_user]"
   ],
   "id": "be6652d3d763355e",
   "outputs": [],
   "execution_count": 150
  },
  {
   "metadata": {
    "ExecuteTime": {
     "end_time": "2024-10-22T14:33:02.523070Z",
     "start_time": "2024-10-22T14:33:02.489623Z"
    }
   },
   "cell_type": "code",
   "source": [
    "unique_users_count = final_recommendations[\"user_id\"].nunique()\n",
    "print(unique_users_count)"
   ],
   "id": "a69f3f55827e69e3",
   "outputs": [
    {
     "name": "stdout",
     "output_type": "stream",
     "text": [
      "123223\n"
     ]
    }
   ],
   "execution_count": 151
  },
  {
   "metadata": {
    "ExecuteTime": {
     "end_time": "2024-10-22T14:34:20.391086Z",
     "start_time": "2024-10-22T14:34:16.952835Z"
    }
   },
   "cell_type": "code",
   "source": "final_recommendations.to_parquet(\"./data/final_recommendations_feat.parquet\")",
   "id": "8218fe321c6feacb",
   "outputs": [],
   "execution_count": 153
  },
  {
   "metadata": {
    "ExecuteTime": {
     "end_time": "2024-10-22T18:54:47.306757Z",
     "start_time": "2024-10-22T18:54:41.020299Z"
    }
   },
   "cell_type": "code",
   "source": "candidates_to_rank.to_parquet(\"./data/top_recs.parquet\")",
   "id": "3cc0e9df707e7853",
   "outputs": [],
   "execution_count": 159
  },
  {
   "metadata": {},
   "cell_type": "markdown",
   "source": [
    "Итак, вы получили рекомендации, которые уже должны учитывать не только оценки от базовых генераторов als_score и cnt_score, но и информацию, заложенную в признаках. Посмотрим, помогло ли это повысить качество рекомендаций по метрике recall, по которой вы уже оценивали результаты работы модели в прошлом уроке после внедрения двухстадийного подхода. Напомним, что тогда получилось значение 0.016. \n",
    "\n",
    "Задание 5 из 6\n",
    "\n",
    "Используя отложенную тестовую выборку events_test_2, посчитайте метрики recall и precision для полученных рекомендаций."
   ],
   "id": "9b1801cc0f2300e2"
  },
  {
   "metadata": {
    "ExecuteTime": {
     "end_time": "2024-10-22T14:37:18.377191Z",
     "start_time": "2024-10-22T14:37:09.276036Z"
    }
   },
   "cell_type": "code",
   "source": [
    "# Для экономии ресурсов оставляем события только тех пользователей, \n",
    "# для которых следует оценить рекомендации\n",
    "events_inference = pd.concat([events_train, events_labels])\n",
    "events_inference = events_inference[events_inference[\"user_id\"].isin(events_test_2[\"user_id\"].drop_duplicates())]\n",
    "\n",
    "# Обрабатываем рекомендации для расчёта метрик\n",
    "cb_events_recs_for_binary_metrics_5 = process_events_recs_for_binary_metrics(\n",
    "    events_inference,\n",
    "    events_test_2,\n",
    "    final_recommendations.rename(columns={\"cb_score\": \"score\"}), \n",
    "    top_k=5\n",
    ")\n",
    "\n",
    "# Вычисляем метрики precision и recall\n",
    "cb_precision_5, cb_recall_5 = compute_cls_metrics(cb_events_recs_for_binary_metrics_5)\n",
    "\n",
    "print(f\"precision: {cb_precision_5:.3f}, recall: {cb_recall_5:.3f}\")"
   ],
   "id": "39fd047a63735cef",
   "outputs": [
    {
     "name": "stdout",
     "output_type": "stream",
     "text": [
      "Common users: 75194\n",
      "precision: 0.013, recall: 0.033\n"
     ]
    },
    {
     "name": "stderr",
     "output_type": "stream",
     "text": [
      "/var/folders/bx/8n6_vdf94z7gqkmk97lf4mnh0000gn/T/ipykernel_81636/2783672476.py:31: FutureWarning: Downcasting object dtype arrays on .fillna, .ffill, .bfill is deprecated and will change in a future version. Call result.infer_objects(copy=False) instead. To opt-in to the future behavior, set `pd.set_option('future.no_silent_downcasting', True)`\n",
      "  events_recs_common[\"gt\"] = events_recs_common[\"gt\"].fillna(False)\n"
     ]
    }
   ],
   "execution_count": 156
  },
  {
   "metadata": {},
   "cell_type": "markdown",
   "source": "Выполните код для получения информации о важности признаков. Выведите список признаков feature_importance в порядке убывания их важности.",
   "id": "fe7f8e674b18edba"
  },
  {
   "metadata": {
    "ExecuteTime": {
     "end_time": "2024-10-22T14:38:41.526207Z",
     "start_time": "2024-10-22T14:38:41.512368Z"
    }
   },
   "cell_type": "code",
   "source": [
    "feature_importance = pd.DataFrame(cb_model.get_feature_importance(), \n",
    "    index=features, \n",
    "    columns=[\"fi\"])\n",
    "\n",
    "# Сортируем признаки по убыванию их важности\n",
    "feature_importance = feature_importance.sort_values(by=\"fi\", ascending=False)\n",
    "\n",
    "print(feature_importance)"
   ],
   "id": "5ecb520a93cffc90",
   "outputs": [
    {
     "name": "stdout",
     "output_type": "stream",
     "text": [
      "                       fi\n",
      "als_score       27.966070\n",
      "age             23.154312\n",
      "average_rating  17.765676\n",
      "books_read       3.171369\n",
      "cnt_score        2.520950\n",
      "reading_years    2.369903\n",
      "genre_1          2.313234\n",
      "genre_2          2.258605\n",
      "genre_others     2.257026\n",
      "genre_34         2.043743\n",
      "genre_0          1.960147\n",
      "genre_9          1.752833\n",
      "books_per_year   1.657658\n",
      "genre_14         1.444221\n",
      "genre_242        1.434225\n",
      "rating_avg       1.347180\n",
      "genre_74         1.270173\n",
      "genre_36         1.170937\n",
      "genre_17         1.124080\n",
      "rating_std       1.017657\n"
     ]
    }
   ],
   "execution_count": 157
  },
  {
   "metadata": {},
   "cell_type": "code",
   "outputs": [],
   "execution_count": null,
   "source": "",
   "id": "bf602fd59decdcc3"
  }
 ],
 "metadata": {
  "kernelspec": {
   "display_name": "Python 3",
   "language": "python",
   "name": "python3"
  },
  "language_info": {
   "codemirror_mode": {
    "name": "ipython",
    "version": 2
   },
   "file_extension": ".py",
   "mimetype": "text/x-python",
   "name": "python",
   "nbconvert_exporter": "python",
   "pygments_lexer": "ipython2",
   "version": "2.7.6"
  }
 },
 "nbformat": 4,
 "nbformat_minor": 5
}
